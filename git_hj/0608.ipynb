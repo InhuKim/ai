{
 "cells": [
  {
   "cell_type": "markdown",
   "id": "1c38e7b2",
   "metadata": {},
   "source": [
    "# Library"
   ]
  },
  {
   "cell_type": "code",
   "execution_count": 1,
   "id": "81117f17",
   "metadata": {},
   "outputs": [
    {
     "name": "stdout",
     "output_type": "stream",
     "text": [
      "Wed Jun  8 11:02:58 2022       \r\n",
      "+-----------------------------------------------------------------------------+\r\n",
      "| NVIDIA-SMI 450.142.00   Driver Version: 450.142.00   CUDA Version: 11.0     |\r\n",
      "|-------------------------------+----------------------+----------------------+\r\n",
      "| GPU  Name        Persistence-M| Bus-Id        Disp.A | Volatile Uncorr. ECC |\r\n",
      "| Fan  Temp  Perf  Pwr:Usage/Cap|         Memory-Usage | GPU-Util  Compute M. |\r\n",
      "|                               |                      |               MIG M. |\r\n",
      "|===============================+======================+======================|\r\n",
      "|   0  Tesla T4            On   | 00000000:00:1E.0 Off |                    0 |\r\n",
      "| N/A   48C    P0    27W /  70W |   1418MiB / 15109MiB |      0%      Default |\r\n",
      "|                               |                      |                  N/A |\r\n",
      "+-------------------------------+----------------------+----------------------+\r\n",
      "                                                                               \r\n",
      "+-----------------------------------------------------------------------------+\r\n",
      "| Processes:                                                                  |\r\n",
      "|  GPU   GI   CI        PID   Type   Process name                  GPU Memory |\r\n",
      "|        ID   ID                                                   Usage      |\r\n",
      "|=============================================================================|\r\n",
      "|    0   N/A  N/A      6176      C   ...nvs/pytorch_16/bin/python     1415MiB |\r\n",
      "+-----------------------------------------------------------------------------+\r\n"
     ]
    }
   ],
   "source": [
    "!nvidia-smi"
   ]
  },
  {
   "cell_type": "code",
   "execution_count": 2,
   "id": "38c90d23",
   "metadata": {},
   "outputs": [],
   "source": [
    "import os\n",
    "import cv2\n",
    "import time\n",
    "import random\n",
    "import logging  # 로그 출력\n",
    "import easydict  # 속성으로 dict 값에 access할 수 있음\n",
    "import numpy as np\n",
    "import pandas as pd\n",
    "from tqdm import tqdm  # process bar\n",
    "from os.path import join as opj\n",
    "from ptflops import get_model_complexity_info\n",
    "from sklearn.model_selection import StratifiedKFold\n",
    "from sklearn.metrics import f1_score\n",
    "\n",
    "import timm\n",
    "import torch\n",
    "import torch.nn as nn\n",
    "import torch_optimizer as optim\n",
    "from torch.utils.data import Dataset, DataLoader\n",
    "from torch.cuda.amp import autocast, grad_scaler\n",
    "from torchvision import transforms\n",
    "\n",
    "import warnings\n",
    "warnings.filterwarnings('ignore')"
   ]
  },
  {
   "cell_type": "markdown",
   "id": "a2c90e8a",
   "metadata": {},
   "source": [
    "# Config"
   ]
  },
  {
   "cell_type": "markdown",
   "id": "73ff47ae",
   "metadata": {},
   "source": [
    "Hyper-parameter 정의"
   ]
  },
  {
   "cell_type": "code",
   "execution_count": 3,
   "id": "30d4e5b6",
   "metadata": {},
   "outputs": [],
   "source": [
    "args = easydict.EasyDict(\n",
    "    {'exp_num':'0',\n",
    "     \n",
    "     # Path settings\n",
    "     'data_path':'/home/lab16/jupyter_home/Data/',\n",
    "     'Kfold':1,\n",
    "     'model_path':'results/',\n",
    "\n",
    "     # Model parameter settings \n",
    "     'encoder_name':'regnety_160',\n",
    "     'drop_path_rate':0.2,\n",
    "     \n",
    "     # Training parameter settings\n",
    "     ## Base Parameter\n",
    "     'img_size':224,\n",
    "     'batch_size':16,\n",
    "     'epochs':500,\n",
    "     'optimizer':'Lamb',\n",
    "#      'optimizer':'Adadelta',\n",
    "     # 변경\n",
    "     'initial_lr':5e-6,\n",
    "     'weight_decay':1e-3,\n",
    "\n",
    "     ## Augmentation\n",
    "     'aug_ver':2,\n",
    "\n",
    "     ## Scheduler (OnecycleLR)\n",
    "     'scheduler':'cycle',\n",
    "     'warm_epoch':5,\n",
    "     'max_lr':1e-3,\n",
    "\n",
    "     ### Cosine Annealing\n",
    "     'min_lr':5e-6,\n",
    "     'tmax':145,\n",
    "\n",
    "     ## etc.\n",
    "     'patience':30,\n",
    "     'clipping':None,\n",
    "\n",
    "     # Hardware settings\n",
    "     'amp':True,\n",
    "     'multi_gpu':False,\n",
    "     'logging':False,\n",
    "     'num_workers':4,\n",
    "     'seed':42\n",
    "    })"
   ]
  },
  {
   "cell_type": "markdown",
   "id": "eabf0e95",
   "metadata": {},
   "source": [
    "# Utils for training and Logging"
   ]
  },
  {
   "cell_type": "code",
   "execution_count": 4,
   "id": "d74a4b3b",
   "metadata": {},
   "outputs": [],
   "source": [
    "# Warmup Learning rate scheduler\n",
    "from torch.optim.lr_scheduler import _LRScheduler\n",
    "class WarmUpLR(_LRScheduler):\n",
    "    \"\"\"warmup_training learning rate scheduler\n",
    "    Args:\n",
    "        optimizer: optimizer(e.g. SGD)\n",
    "        total_iters: totoal_iters of warmup phase\n",
    "    \"\"\"\n",
    "    def __init__(self, optimizer, total_iters, last_epoch=-1):\n",
    "        \n",
    "        self.total_iters = total_iters\n",
    "        super().__init__(optimizer, last_epoch)\n",
    "\n",
    "    def get_lr(self):\n",
    "        \"\"\"we will use the first m batches, and set the learning\n",
    "        rate to base_lr * m / total_iters\n",
    "        \"\"\"\n",
    "        return [base_lr * self.last_epoch / (self.total_iters + 1e-8) for base_lr in self.base_lrs]\n",
    "\n",
    "# Logging\n",
    "def get_root_logger(logger_name='basicsr',\n",
    "                    log_level=logging.INFO,\n",
    "                    log_file=None):\n",
    "\n",
    "    logger = logging.getLogger(logger_name)\n",
    "    # if the logger has been initialized, just return it\n",
    "    if logger.hasHandlers():\n",
    "        return logger\n",
    "\n",
    "    format_str = '%(asctime)s %(levelname)s: %(message)s'\n",
    "    logging.basicConfig(format=format_str, level=log_level)\n",
    "\n",
    "    if log_file is not None:\n",
    "        file_handler = logging.FileHandler(log_file, 'w')\n",
    "        file_handler.setFormatter(logging.Formatter(format_str))\n",
    "        file_handler.setLevel(log_level)\n",
    "        logger.addHandler(file_handler)\n",
    "\n",
    "    return logger\n",
    "\n",
    "class AvgMeter(object):\n",
    "    def __init__(self):\n",
    "        self.reset()\n",
    "\n",
    "    def reset(self):\n",
    "        self.val = 0\n",
    "        self.avg = 0\n",
    "        self.sum = 0\n",
    "        self.count = 0\n",
    "        self.losses = []\n",
    "\n",
    "    def update(self, val, n=1):\n",
    "        self.val = val\n",
    "        self.sum += val * n\n",
    "        self.count += n\n",
    "        self.avg = self.sum / self.count\n",
    "        self.losses.append(val)"
   ]
  },
  {
   "cell_type": "code",
   "execution_count": null,
   "id": "4f420341",
   "metadata": {},
   "outputs": [],
   "source": []
  },
  {
   "cell_type": "markdown",
   "id": "34eb9c5b",
   "metadata": {},
   "source": [
    "# Dataset & Loader"
   ]
  },
  {
   "cell_type": "code",
   "execution_count": 5,
   "id": "c1e8c752",
   "metadata": {},
   "outputs": [],
   "source": [
    "# from torchvision.datasets import ImageFolder\n",
    "import torch.utils.data as data\n",
    "from torchvision import transforms\n",
    "from glob import glob"
   ]
  },
  {
   "cell_type": "code",
   "execution_count": 6,
   "id": "c29f8284",
   "metadata": {},
   "outputs": [],
   "source": [
    "import random\n",
    "import math\n",
    "from sklearn import preprocessing\n",
    "from sklearn.preprocessing import MinMaxScaler\n",
    "\n",
    "import torch\n",
    "import torch.nn as nn\n",
    "import torch.nn.functional as F"
   ]
  },
  {
   "cell_type": "code",
   "execution_count": null,
   "id": "431f22fe",
   "metadata": {},
   "outputs": [],
   "source": []
  },
  {
   "cell_type": "code",
   "execution_count": null,
   "id": "e3bdf031",
   "metadata": {},
   "outputs": [],
   "source": []
  },
  {
   "cell_type": "code",
   "execution_count": 7,
   "id": "09ae0371",
   "metadata": {},
   "outputs": [],
   "source": [
    "# # 레이블을 one-hot-vector로 변환\n",
    "# le = preprocessing.LabelEncoder()\n",
    "# targets = le.fit_transform(y)\n",
    "# targets = torch.as_tensor(targets)\n",
    "# one_hot_y = F.one_hot(targets)"
   ]
  },
  {
   "cell_type": "code",
   "execution_count": 8,
   "id": "5f1892dd",
   "metadata": {},
   "outputs": [],
   "source": [
    "# validation용 추가\n",
    "class Valid_Dataset(Dataset):\n",
    "    def __init__(self, transform=None): \n",
    "        total_images_path = glob('/home/lab16/jupyter_home/Data/sample/*.jpg')\n",
    "        file_names = []\n",
    "        for i in range(len(total_images_path)):\n",
    "            file_names.append(os.path.basename(total_images_path[i]))\n",
    "        file_names = np.array(file_names)\n",
    "        file_names.sort()\n",
    "\n",
    "        self.file_name = file_names\n",
    "        \n",
    "        each_label = []\n",
    "#         for i in range(len(total_images_path)):\n",
    "#             each_label.append(os.path.basename(total_images_path[i])[:5])\n",
    "            \n",
    "        for i in range(len(total_images_path)):\n",
    "            each_label.append(os.path.basename(total_images_path[i]))\n",
    "            \n",
    "        # 레이블을 one-hot-vector로 변환\n",
    "        le = preprocessing.LabelEncoder()\n",
    "        targets = le.fit_transform(each_label)\n",
    "        targets = torch.as_tensor(targets)\n",
    "#         one_hot_y = F.one_hot(targets)\n",
    "            \n",
    "        self.target = np.array(targets) # 목표는 label\n",
    "#         self.target = one_hot_y\n",
    "        self.transform = transform\n",
    "\n",
    "        print(f'Validation Dataset size:{len(self.file_name)}')\n",
    "\n",
    "    def __getitem__(self, idx):  # train 경로에 있는 png 이미지 읽어서 float32로 변환\n",
    "#         image = cv2.imread(opj('./data/train_256_new/', self.file_name[idx])).astype(np.float32)\n",
    "        image = cv2.imread(opj('/home/lab16/jupyter_home/Data/sample/', self.file_name[idx])).astype(np.float32)\n",
    "        image = cv2.cvtColor(image, cv2.COLOR_BGR2RGB) / 255.0  # BGR=>RGB 변환\n",
    "\n",
    "        target = self.target[idx]\n",
    "\n",
    "        if self.transform is not None:\n",
    "        # HWC => CHW-layout 변환\n",
    "            image = self.transform(torch.from_numpy(image.transpose(2,0,1)))\n",
    "\n",
    "        return image, target\n",
    "\n",
    "    def __len__(self):\n",
    "        return len(self.file_name)"
   ]
  },
  {
   "cell_type": "code",
   "execution_count": 9,
   "id": "16ad6970",
   "metadata": {},
   "outputs": [],
   "source": [
    "class Train_Dataset(Dataset):\n",
    "#     def __init__(self, df, transform=None):\n",
    "    def __init__(self, transform=None):\n",
    "#         self.file_name = df['file_name'].values      \n",
    "        \n",
    "        total_images_path = glob('/home/lab16/jupyter_home/Data/sample/*.jpg')\n",
    "        file_names = []\n",
    "        for i in range(len(total_images_path)):\n",
    "            file_names.append(os.path.basename(total_images_path[i]))\n",
    "            file_names.sort()\n",
    "        file_names = np.array(file_names)\n",
    "\n",
    "        self.file_name = file_names\n",
    "                \n",
    "        each_label = []\n",
    "#         for i in range(len(total_images_path)):\n",
    "#             each_label.append(os.path.basename(total_images_path[i])[:5])\n",
    "            \n",
    "        for i in range(len(total_images_path)):\n",
    "            each_label.append(os.path.basename(total_images_path[i]))\n",
    "\n",
    "        # 레이블을 one-hot-vector로 변환\n",
    "        le = preprocessing.LabelEncoder()\n",
    "        targets = le.fit_transform(each_label)\n",
    "        targets = torch.as_tensor(targets)\n",
    "#         one_hot_y = F.one_hot(targets)\n",
    "            \n",
    "        self.target = np.array(targets) # 목표는 label\n",
    "#         self.target = one_hot_y\n",
    "        self.transform = transform\n",
    "\n",
    "        print(f'Training Dataset size:{len(self.file_name)}')\n",
    "#         print(self.file_name)\n",
    "\n",
    "    def __getitem__(self, idx):  # train 경로에 있는 png 이미지 읽어서 float32로 변환\n",
    "#         image = cv2.imread(opj('./data/train_256_new/', self.file_name[idx])).astype(np.float32)\n",
    "        image = cv2.imread(opj('/home/lab16/jupyter_home/Data/sample/', self.file_name[idx])).astype(np.float32)\n",
    "        image = cv2.cvtColor(image, cv2.COLOR_BGR2RGB) / 255.0  # BGR=>RGB 변환\n",
    "\n",
    "        target = self.target[idx]\n",
    "\n",
    "        if self.transform is not None:\n",
    "        # HWC => CHW-layout 변환\n",
    "            image = self.transform(torch.from_numpy(image.transpose(2,0,1)))\n",
    "\n",
    "        return image, target\n",
    "\n",
    "    def __len__(self):\n",
    "        return len(self.file_name)\n",
    "\n",
    "class Test_dataset(Dataset):\n",
    "    def __init__(self, path, transform=None):\n",
    "#         total_images_path = glob(args.test_image_path + '*.jpg')\n",
    "        total_images_path = glob(path + '*.jpg')\n",
    "        file_names = []\n",
    "        for i in range(len(total_images_path)):\n",
    "            file_names.append(os.path.basename(total_images_path[i]))\n",
    "            file_names.sort()\n",
    "        file_names = np.array(file_names)\n",
    "\n",
    "        self.test_file_name = file_names\n",
    "        self.transform = transform\n",
    "\n",
    "        print(f'Test Dataset size:{len(self.test_file_name)}')\n",
    "        print(self.test_file_name)\n",
    "\n",
    "    def __getitem__(self, idx): # test 경로에 있는 png 이미지 읽어서 float32로 변환\n",
    "#         image = cv2.imread(opj('./data/test_256_new/', self.test_file_name[idx])).astype(np.float32)\n",
    "#         image = cv2.imread(opj(args.test_image_path, self.test_file_name[idx])).astype(np.float32)\n",
    "        image = cv2.imread(opj(path, self.test_file_name[idx])).astype(np.float32)\n",
    "        image = cv2.cvtColor(image, cv2.COLOR_BGR2RGB) / 255.0  # BGR=>RGB 변환\n",
    "\n",
    "        if self.transform is not None:\n",
    "            image = self.transform(torch.from_numpy(image.transpose(2,0,1)))\n",
    "\n",
    "        return image\n",
    "\n",
    "    def __len__(self):\n",
    "        return len(self.test_file_name)\n",
    "\n",
    "# def get_loader(df, phase: str, batch_size, shuffle, num_workers, transform):\n",
    "def get_loader(phase: str, batch_size, shuffle, num_workers, transform):\n",
    "    if phase == 'test':\n",
    "#         dataset = Test_dataset(df, transform)  \n",
    "        dataset = Test_dataset(transform) \n",
    "        data_loader = DataLoader(dataset, batch_size=batch_size, shuffle=shuffle, num_workers=num_workers, pin_memory=True)\n",
    "        \n",
    "    # 임시로 추가\n",
    "    elif phase == 'validation':\n",
    "#         dataset = Train_Dataset(df, transform)\n",
    "        dataset = Valid_Dataset(transform)\n",
    "        data_loader = DataLoader(dataset, batch_size=batch_size, shuffle=shuffle, num_workers=num_workers, pin_memory=True)\n",
    "        \n",
    "    else:\n",
    "#         dataset = Train_Dataset(df, transform)\n",
    "        path = ''\n",
    "        dataset = Train_Dataset(transform)\n",
    "        data_loader = DataLoader(dataset, batch_size=batch_size, shuffle=shuffle, num_workers=num_workers, pin_memory=True,\n",
    "                                 drop_last=False)\n",
    "        \n",
    "    return data_loader\n",
    "\n",
    "def get_train_augmentation(img_size, ver):\n",
    "    if ver == 1: # for validset\n",
    "        transform = transforms.Compose([\n",
    "                transforms.Resize((img_size, img_size)),\n",
    "                transforms.Normalize(mean=[0.485, 0.456, 0.406],\n",
    "                                     std=[0.229, 0.224, 0.225]),\n",
    "#                 transforms.ToTensor()\n",
    "                ])\n",
    "\n",
    "    if ver == 2:\n",
    "        transform = transforms.Compose([\n",
    "#                 transforms.RandomHorizontalFlip(),\n",
    "#                 transforms.RandomVerticalFlip(),\n",
    "                transforms.RandomCrop(224),\n",
    "                transforms.RandomPerspective(),\n",
    "                transforms.RandomAffine((20)),  # x, y축으로 이미지 늘림\n",
    "                transforms.RandomRotation(90),\n",
    "                transforms.Resize((img_size, img_size)),\n",
    "                transforms.Normalize(mean=[0.485, 0.456, 0.406],\n",
    "                                     std=[0.229, 0.224, 0.225]),\n",
    "                transforms.ColorJitter(brightness=0.5)\n",
    "#                 transforms.ToTensor()\n",
    "            ])\n",
    "    \n",
    "    return transform"
   ]
  },
  {
   "cell_type": "code",
   "execution_count": null,
   "id": "687ce401",
   "metadata": {},
   "outputs": [],
   "source": []
  },
  {
   "cell_type": "markdown",
   "id": "496a3605",
   "metadata": {},
   "source": [
    "# Network"
   ]
  },
  {
   "cell_type": "code",
   "execution_count": 10,
   "id": "98c73038",
   "metadata": {},
   "outputs": [],
   "source": [
    "class Network(nn.Module):\n",
    "    def __init__(self, args):\n",
    "        super().__init__()\n",
    "        # 사전 학습된 모델 사용하기\n",
    "        self.encoder = timm.create_model(args.encoder_name, pretrained=True,\n",
    "                                    drop_path_rate=args.drop_path_rate,\n",
    "                                    )\n",
    "        \n",
    "        if 'regnet' in args.encoder_name:        \n",
    "            num_head = self.encoder.head.fc.in_features\n",
    "            self.encoder.head.fc = nn.Linear(num_head, 311)\n",
    "        \n",
    "        elif 'efficient' in args.encoder_name:\n",
    "            num_head = self.encoder.classifier.in_features\n",
    "            self.encoder.classifier = nn.Linear(num_head, 311)\n",
    "\n",
    "    def forward(self, x):\n",
    "        x = self.encoder(x)\n",
    "        return x\n",
    "\n",
    "class Network_test(nn.Module):\n",
    "    def __init__(self, encoder_name):\n",
    "        super().__init__()\n",
    "        self.encoder = timm.create_model(encoder_name, pretrained=True,\n",
    "                                    drop_path_rate=0,\n",
    "                                    )\n",
    "        \n",
    "        if 'regnet' in encoder_name:        \n",
    "            num_head = self.encoder.head.fc.in_features\n",
    "            self.encoder.head.fc = nn.Linear(num_head, 311)\n",
    "        \n",
    "        elif 'efficient' in encoder_name:\n",
    "            num_head = self.encoder.classifier.in_features\n",
    "            self.encoder.classifier = nn.Linear(num_head, 311)\n",
    "    \n",
    "    def forward(self, x):\n",
    "        x = self.encoder(x)\n",
    "        return x"
   ]
  },
  {
   "cell_type": "markdown",
   "id": "574592ec",
   "metadata": {},
   "source": [
    "# Trainer for Training & Validation"
   ]
  },
  {
   "cell_type": "code",
   "execution_count": 11,
   "id": "d3456802",
   "metadata": {},
   "outputs": [],
   "source": [
    "class Trainer():\n",
    "    def __init__(self, args, save_path):\n",
    "        '''\n",
    "        args: arguments\n",
    "        save_path: Model 가중치 저장 경로\n",
    "        '''\n",
    "        super(Trainer, self).__init__()\n",
    "        self.device = torch.device('cuda' if torch.cuda.is_available() else 'cpu')\n",
    "        print(f'device:{self.device}')\n",
    "\n",
    "        # Logging\n",
    "        log_file = os.path.join(save_path, 'log_0608_ep500.log')\n",
    "        self.logger = get_root_logger(logger_name='IR', log_level=logging.INFO, log_file=log_file)\n",
    "        self.logger.info(args)\n",
    "        # self.logger.info(args.tag)\n",
    "\n",
    "        # Train, Valid Set load\n",
    "        ############################################################################\n",
    "#         df_train = pd.read_csv(opj(args.data_path, 'train_df.csv'))\n",
    "#         print('Read train_df.csv')\n",
    "\n",
    "#         kf = StratifiedKFold(n_splits=args.Kfold, shuffle=True, random_state=args.seed)\n",
    "#         for fold, (train_idx, val_idx) in enumerate(kf.split(range(len(df_train)), y=df_train['label'])):\n",
    "#             df_train.loc[val_idx, 'fold'] = fold\n",
    "#         val_idx = list(df_train[df_train['fold'] == int(args.fold)].index)\n",
    "\n",
    "#         df_val = df_train[df_train['fold'] == args.fold].reset_index(drop=True)\n",
    "#         df_train = df_train[df_train['fold'] != args.fold].reset_index(drop=True)\n",
    "\n",
    "        # Augmentation\n",
    "        self.train_transform = get_train_augmentation(img_size=args.img_size, ver=args.aug_ver)\n",
    "        self.test_transform = get_train_augmentation(img_size=args.img_size, ver=1)\n",
    "        \n",
    "        # 수정 - TrainLoader\n",
    "        self.train_loader = get_loader(phase='train', batch_size=args.batch_size, shuffle=True,\n",
    "                                       num_workers=args.num_workers, transform=self.train_transform)\n",
    "#         self.val_loader = get_loader(phase='validation', batch_size=args.batch_size, shuffle=False,\n",
    "#                                        num_workers=args.num_workers, transform=self.train_transform)\n",
    "        \n",
    "        # TrainLoader\n",
    "#         self.train_loader = get_loader(df_train, phase='train', batch_size=args.batch_size, shuffle=True,\n",
    "#                                        num_workers=args.num_workers, transform=self.train_transform)\n",
    "#         self.val_loader = get_loader(df_val, phase='train', batch_size=args.batch_size, shuffle=False,\n",
    "#                                        num_workers=args.num_workers, transform=self.test_transform)\n",
    "\n",
    "        # Network\n",
    "        self.model = Network(args).to(self.device)\n",
    "        macs, params = get_model_complexity_info(self.model, (3, args.img_size, args.img_size), as_strings=True,\n",
    "                                                 print_per_layer_stat=False, verbose=False)\n",
    "        self.logger.info('{:<30}  {:<8}'.format('Computational complexity: ', macs))\n",
    "        self.logger.info('{:<30}  {:<8}'.format('Number of parameters: ', params))\n",
    "\n",
    "        # Loss\n",
    "        self.criterion = nn.CrossEntropyLoss()\n",
    "        \n",
    "        # Optimizer & Scheduler\n",
    "        self.optimizer = optim.Lamb(self.model.parameters(), lr=args.initial_lr, weight_decay=args.weight_decay)\n",
    "#         self.optimizer = optim.Adadelta(self.model.parameters())\n",
    "        \n",
    "        iter_per_epoch = len(self.train_loader)\n",
    "        self.warmup_scheduler = WarmUpLR(self.optimizer, iter_per_epoch * args.warm_epoch)\n",
    "\n",
    "        if args.scheduler == 'step':\n",
    "            self.scheduler = torch.optim.lr_scheduler.MultiStepLR(self.optimizer, milestones=args.milestone, gamma=args.lr_factor, verbose=True)\n",
    "        elif args.scheduler == 'cos':\n",
    "            tmax = args.tmax # half-cycle \n",
    "            self.scheduler = torch.optim.lr_scheduler.CosineAnnealingLR(self.optimizer, T_max = tmax, eta_min=args.min_lr, verbose=True)\n",
    "        elif args.scheduler == 'cycle':\n",
    "            self.scheduler = torch.optim.lr_scheduler.OneCycleLR(self.optimizer, max_lr=args.max_lr, steps_per_epoch=iter_per_epoch, epochs=args.epochs)\n",
    "\n",
    "        if args.multi_gpu:\n",
    "            self.model = nn.DataParallel(self.model).to(self.device)\n",
    "\n",
    "        # Train / Validate\n",
    "        best_loss = np.inf\n",
    "        best_acc = 0\n",
    "        best_epoch = 0\n",
    "        early_stopping = 0\n",
    "        start = time.time()\n",
    "        for epoch in range(1, args.epochs+1):\n",
    "            self.epoch = epoch\n",
    "\n",
    "            if args.scheduler == 'cos':\n",
    "                if epoch > args.warm_epoch:\n",
    "                    self.scheduler.step()\n",
    "\n",
    "            # Training\n",
    "            train_loss, train_acc, train_f1 = self.training(args)\n",
    "\n",
    "            # Model weight in Multi_GPU or Single GPU\n",
    "            state_dict= self.model.module.state_dict() if args.multi_gpu else self.model.state_dict()\n",
    "\n",
    "            # Validation\n",
    "#             val_loss, val_acc, val_f1 = self.validate(args, phase='val')\n",
    "\n",
    "            # Save models\n",
    "#             if val_loss < best_loss:\n",
    "#                 early_stopping = 0\n",
    "#                 best_epoch = epoch\n",
    "#                 best_loss = val_loss\n",
    "#                 best_acc = val_acc\n",
    "#                 best_f1 = val_f1\n",
    "\n",
    "#                 torch.save({'epoch':epoch,\n",
    "#                             'state_dict':state_dict,\n",
    "#                             'optimizer': self.optimizer.state_dict(),\n",
    "#                             'scheduler': self.scheduler.state_dict(),\n",
    "#                     }, os.path.join(save_path, 'best_model_0608.pth'))\n",
    "#                 self.logger.info(f'-----------------SAVE:{best_epoch}epoch----------------')\n",
    "#             else:\n",
    "#                 early_stopping += 1\n",
    "\n",
    "#             # Early Stopping\n",
    "#             if early_stopping == args.patience:\n",
    "#                 break\n",
    "                \n",
    "#             print(f'\\nbest epoch:{best_epoch}/loss:{best_loss:.4f}/f1:{best_f1:.4f}')\n",
    "            \n",
    "            # val X\n",
    "            if train_loss < best_loss:\n",
    "                early_stopping = 0\n",
    "                best_epoch = epoch\n",
    "                best_loss = train_loss\n",
    "                best_acc = train_acc\n",
    "                best_f1 = train_f1\n",
    "\n",
    "                torch.save({'epoch':epoch,\n",
    "                            'state_dict':state_dict,\n",
    "                            'optimizer': self.optimizer.state_dict(),\n",
    "                            'scheduler': self.scheduler.state_dict(),\n",
    "                    }, os.path.join(save_path, 'best_model_0608_ep500.pth'))\n",
    "                self.logger.info(f'-----------------SAVE:{best_epoch}epoch----------------')\n",
    "            else:\n",
    "                early_stopping += 1\n",
    "\n",
    "            # Early Stopping\n",
    "            if early_stopping == args.patience:\n",
    "                break\n",
    "                \n",
    "            print(f'\\nbest epoch:{best_epoch}/loss:{best_loss:.4f}/f1:{best_f1:.4f}')\n",
    "            \n",
    "\n",
    "#         self.logger.info(f'\\nBest Val Epoch:{best_epoch} | Val Loss:{best_loss:.4f} | Val Acc:{best_acc:.4f} | Val F1:{best_f1:.4f}')\n",
    "        \n",
    "        self.logger.info(f'\\nBest Train Epoch:{best_epoch} | Train Loss:{best_loss:.4f} | Train Acc:{best_acc:.4f} | Train F1:{best_f1:.4f}')\n",
    "\n",
    "        end = time.time()\n",
    "        self.logger.info(f'Total Process time:{(end - start) / 60:.3f}Minute')\n",
    "\n",
    "    # Training\n",
    "    def training(self, args):\n",
    "        self.model.train()\n",
    "        train_loss = AvgMeter()\n",
    "        train_acc = 0\n",
    "        preds_list = []\n",
    "        targets_list = []\n",
    "\n",
    "        scaler = grad_scaler.GradScaler()\n",
    "        for i, (images, targets) in enumerate(tqdm(self.train_loader)):\n",
    "            images = torch.tensor(images, device=self.device, dtype=torch.float32)\n",
    "            targets = torch.tensor(targets, device=self.device, dtype=torch.long)\n",
    "            \n",
    "            if self.epoch <= args.warm_epoch:\n",
    "                self.warmup_scheduler.step()\n",
    "\n",
    "            self.model.zero_grad(set_to_none=True)\n",
    "            if args.amp:\n",
    "                with autocast():\n",
    "                    preds = self.model(images)\n",
    "                    loss = self.criterion(preds, targets)\n",
    "                scaler.scale(loss).backward()\n",
    "\n",
    "                # Gradient Clipping\n",
    "                if args.clipping is not None:\n",
    "                    scaler.unscale_(self.optimizer)\n",
    "                    torch.nn.utils.clip_grad_norm_(self.model.parameters(), args.clipping)\n",
    "\n",
    "                scaler.step(self.optimizer)\n",
    "                scaler.update()\n",
    "\n",
    "            else:\n",
    "                preds = self.model(images)\n",
    "                loss = self.criterion(preds, targets)\n",
    "                loss.backward()\n",
    "                nn.utils.clip_grad_norm_(self.model.parameters(), args.clipping)\n",
    "                self.optimizer.step()\n",
    "\n",
    "            if args.scheduler == 'cycle':\n",
    "                if self.epoch > args.warm_epoch:\n",
    "                    self.scheduler.step()\n",
    "\n",
    "            # Metric\n",
    "            train_acc += (preds.argmax(dim=1) == targets).sum().item()\n",
    "            preds_list.extend(preds.argmax(dim=1).cpu().detach().numpy())\n",
    "            targets_list.extend(targets.cpu().detach().numpy())\n",
    "            # log\n",
    "            train_loss.update(loss.item(), n=images.size(0))\n",
    "\n",
    "        train_acc /= len(self.train_loader.dataset)\n",
    "        train_f1 = f1_score(np.array(targets_list), np.array(preds_list), average='macro')\n",
    "\n",
    "        self.logger.info(f'Epoch:[{self.epoch:03d}/{args.epochs:03d}]')\n",
    "        self.logger.info(f'Train Loss:{train_loss.avg:.3f} | Acc:{train_acc:.4f} | F1:{train_f1:.4f}')\n",
    "        return train_loss.avg, train_acc, train_f1\n",
    "            \n",
    "    # Validation or Dev\n",
    "    def validate(self, args, phase='val'):\n",
    "        self.model.eval()\n",
    "        with torch.no_grad():\n",
    "            val_loss = AvgMeter()\n",
    "            val_acc = 0\n",
    "            preds_list = []\n",
    "            targets_list = []\n",
    "\n",
    "            for i, (images, targets) in enumerate(self.val_loader):\n",
    "                images = torch.tensor(images, device=self.device, dtype=torch.float32)\n",
    "                targets = torch.tensor(targets, device=self.device, dtype=torch.long)\n",
    "\n",
    "                preds = self.model(images)\n",
    "                loss = self.criterion(preds, targets)\n",
    "\n",
    "                # Metric\n",
    "                val_acc += (preds.argmax(dim=1) == targets).sum().item()\n",
    "                preds_list.extend(preds.argmax(dim=1).cpu().detach().numpy())\n",
    "                targets_list.extend(targets.cpu().detach().numpy())\n",
    "\n",
    "                # log\n",
    "                val_loss.update(loss.item(), n=images.size(0))\n",
    "            val_acc /= len(self.val_loader.dataset)\n",
    "            val_f1 = f1_score(np.array(targets_list), np.array(preds_list), average='macro')\n",
    "\n",
    "            self.logger.info(f'{phase} Loss:{val_loss.avg:.3f} | Acc:{val_acc:.4f} | F1:{val_f1:.4f}')\n",
    "        return val_loss.avg, val_acc, val_f1"
   ]
  },
  {
   "cell_type": "markdown",
   "id": "dc66f503",
   "metadata": {},
   "source": [
    "# Main"
   ]
  },
  {
   "cell_type": "code",
   "execution_count": 12,
   "id": "54d2a0a3",
   "metadata": {},
   "outputs": [],
   "source": [
    "def main(args):\n",
    "    print('<---- Training Params ---->')\n",
    "    \n",
    "    # Random Seed\n",
    "    seed = args.seed\n",
    "    os.environ['PYTHONHASHSEED'] = str(seed)\n",
    "    random.seed(seed)\n",
    "    np.random.seed(seed)\n",
    "    torch.manual_seed(seed)\n",
    "    torch.cuda.manual_seed(seed)\n",
    "    torch.cuda.manual_seed_all(seed)\n",
    "    torch.backends.cudnn.benchmark = True\n",
    "\n",
    "    save_path = os.path.join(args.model_path, (args.exp_num).zfill(3))\n",
    "    \n",
    "    # Create model directory\n",
    "    os.makedirs(save_path, exist_ok=True)\n",
    "    Trainer(args, save_path)\n",
    "\n",
    "    return save_path"
   ]
  },
  {
   "cell_type": "markdown",
   "id": "7e5763bf",
   "metadata": {},
   "source": [
    "# Inference"
   ]
  },
  {
   "cell_type": "code",
   "execution_count": 13,
   "id": "0beb201c",
   "metadata": {},
   "outputs": [],
   "source": [
    "def predict(encoder_name, test_loader, device, model_path):\n",
    "    model = Network_test(encoder_name).to(device)\n",
    "    model.load_state_dict(torch.load(opj(model_path, 'best_model_0608_ep500.pth'))['state_dict'])\n",
    "    model.eval()\n",
    "    preds_list = []\n",
    "    with torch.no_grad():\n",
    "        for images in tqdm(test_loader):\n",
    "            images = torch.as_tensor(images, device=device, dtype=torch.float32)\n",
    "            preds = model(images)\n",
    "            preds = torch.softmax(preds, dim=1)\n",
    "            preds_list.extend(preds.cpu().tolist())\n",
    "\n",
    "    return np.array(preds_list)\n",
    "\n",
    "def ensemble_5fold(model_path_list, test_loader, device):\n",
    "    predict_list = []\n",
    "    for model_path in model_path_list:\n",
    "        prediction = predict(encoder_name= 'regnety_160', \n",
    "                             test_loader = test_loader, device = device, model_path = model_path)\n",
    "        predict_list.append(prediction)\n",
    "    ensemble = (predict_list[0] + predict_list[1] + predict_list[2] + predict_list[3] + predict_list[4])/len(predict_list)\n",
    "\n",
    "    return ensemble"
   ]
  },
  {
   "cell_type": "code",
   "execution_count": 14,
   "id": "cc682d5c",
   "metadata": {},
   "outputs": [],
   "source": [
    "# fold X\n",
    "def result(model_path_list, test_loader, device):\n",
    "    predict_list = []\n",
    "    for model_path in model_path_list:\n",
    "        prediction = predict(encoder_name= 'regnety_160', \n",
    "                             test_loader = test_loader, device = device, model_path = model_path)\n",
    "        predict_list.append(prediction)\n",
    "    ensemble = predict_list[0]\n",
    "\n",
    "    return ensemble"
   ]
  },
  {
   "cell_type": "markdown",
   "id": "3ee8c70a",
   "metadata": {},
   "source": [
    "# Train & Inference"
   ]
  },
  {
   "cell_type": "code",
   "execution_count": 15,
   "id": "93d602b1",
   "metadata": {},
   "outputs": [],
   "source": [
    "img_size = 224\n",
    "device = torch.device('cuda' if torch.cuda.is_available() else 'cpu')"
   ]
  },
  {
   "cell_type": "code",
   "execution_count": 16,
   "id": "866d58ae",
   "metadata": {},
   "outputs": [],
   "source": [
    "# sub = pd.read_csv('./data/sample_submission.csv')\n",
    "# df_train = pd.read_csv('./data/train_df.csv')\n",
    "# df_test = pd.read_csv('./data/test_df.csv')"
   ]
  },
  {
   "cell_type": "code",
   "execution_count": 17,
   "id": "cae8472f",
   "metadata": {},
   "outputs": [],
   "source": [
    "# test_transform = get_train_augmentation(img_size=img_size, ver=1)\n",
    "# test_dataset = Test_dataset(df_test, test_transform)\n",
    "# test_loader = DataLoader(test_dataset, batch_size=64, shuffle=False, num_workers=0)"
   ]
  },
  {
   "cell_type": "code",
   "execution_count": null,
   "id": "fe785ba3",
   "metadata": {},
   "outputs": [],
   "source": []
  },
  {
   "cell_type": "code",
   "execution_count": null,
   "id": "2e377aa3",
   "metadata": {},
   "outputs": [],
   "source": []
  },
  {
   "cell_type": "code",
   "execution_count": 18,
   "id": "3e77ed23",
   "metadata": {
    "scrolled": false
   },
   "outputs": [
    {
     "name": "stderr",
     "output_type": "stream",
     "text": [
      "2022-06-08 11:02:59,965 INFO: {'exp_num': '0', 'data_path': '/home/lab16/jupyter_home/Data/', 'Kfold': 1, 'model_path': 'results/', 'encoder_name': 'regnety_160', 'drop_path_rate': 0.2, 'img_size': 224, 'batch_size': 16, 'epochs': 500, 'optimizer': 'Lamb', 'initial_lr': 5e-06, 'weight_decay': 0.001, 'aug_ver': 2, 'scheduler': 'cycle', 'warm_epoch': 5, 'max_lr': 0.001, 'min_lr': 5e-06, 'tmax': 145, 'patience': 30, 'clipping': None, 'amp': True, 'multi_gpu': False, 'logging': False, 'num_workers': 4, 'seed': 42, 'fold': 0}\n"
     ]
    },
    {
     "name": "stdout",
     "output_type": "stream",
     "text": [
      "<---- Training Params ---->\n",
      "device:cuda\n",
      "Training Dataset size:311\n"
     ]
    },
    {
     "name": "stderr",
     "output_type": "stream",
     "text": [
      "2022-06-08 11:03:01,173 INFO: Loading pretrained weights from url (https://dl.fbaipublicfiles.com/deit/regnety_160-a5fe301d.pth)\n",
      "2022-06-08 11:03:05,514 INFO: Computational complexity:       15.93 GMac\n",
      "2022-06-08 11:03:05,515 INFO: Number of parameters:           81.51 M \n",
      "100%|███████████████████████████████████████████| 20/20 [00:14<00:00,  1.42it/s]\n",
      "2022-06-08 11:03:19,594 INFO: Epoch:[001/500]\n",
      "2022-06-08 11:03:19,595 INFO: Train Loss:5.767 | Acc:0.0032 | F1:0.0006\n",
      "2022-06-08 11:03:21,303 INFO: -----------------SAVE:1epoch----------------\n"
     ]
    },
    {
     "name": "stdout",
     "output_type": "stream",
     "text": [
      "\n",
      "best epoch:1/loss:5.7675/f1:0.0006\n"
     ]
    },
    {
     "name": "stderr",
     "output_type": "stream",
     "text": [
      "100%|███████████████████████████████████████████| 20/20 [00:09<00:00,  2.08it/s]\n",
      "2022-06-08 11:03:30,920 INFO: Epoch:[002/500]\n",
      "2022-06-08 11:03:30,921 INFO: Train Loss:5.768 | Acc:0.0032 | F1:0.0008\n"
     ]
    },
    {
     "name": "stdout",
     "output_type": "stream",
     "text": [
      "\n",
      "best epoch:1/loss:5.7675/f1:0.0006\n"
     ]
    },
    {
     "name": "stderr",
     "output_type": "stream",
     "text": [
      "100%|███████████████████████████████████████████| 20/20 [00:09<00:00,  2.08it/s]\n",
      "2022-06-08 11:03:40,542 INFO: Epoch:[003/500]\n",
      "2022-06-08 11:03:40,543 INFO: Train Loss:5.777 | Acc:0.0000 | F1:0.0000\n"
     ]
    },
    {
     "name": "stdout",
     "output_type": "stream",
     "text": [
      "\n",
      "best epoch:1/loss:5.7675/f1:0.0006\n"
     ]
    },
    {
     "name": "stderr",
     "output_type": "stream",
     "text": [
      "100%|███████████████████████████████████████████| 20/20 [00:09<00:00,  2.07it/s]\n",
      "2022-06-08 11:03:50,204 INFO: Epoch:[004/500]\n",
      "2022-06-08 11:03:50,205 INFO: Train Loss:5.789 | Acc:0.0000 | F1:0.0000\n"
     ]
    },
    {
     "name": "stdout",
     "output_type": "stream",
     "text": [
      "\n",
      "best epoch:1/loss:5.7675/f1:0.0006\n"
     ]
    },
    {
     "name": "stderr",
     "output_type": "stream",
     "text": [
      "100%|███████████████████████████████████████████| 20/20 [00:09<00:00,  2.11it/s]\n",
      "2022-06-08 11:03:59,714 INFO: Epoch:[005/500]\n",
      "2022-06-08 11:03:59,714 INFO: Train Loss:5.786 | Acc:0.0032 | F1:0.0005\n"
     ]
    },
    {
     "name": "stdout",
     "output_type": "stream",
     "text": [
      "\n",
      "best epoch:1/loss:5.7675/f1:0.0006\n"
     ]
    },
    {
     "name": "stderr",
     "output_type": "stream",
     "text": [
      "100%|███████████████████████████████████████████| 20/20 [00:09<00:00,  2.14it/s]\n",
      "2022-06-08 11:04:09,074 INFO: Epoch:[006/500]\n",
      "2022-06-08 11:04:09,074 INFO: Train Loss:5.754 | Acc:0.0000 | F1:0.0000\n",
      "2022-06-08 11:04:13,579 INFO: -----------------SAVE:6epoch----------------\n"
     ]
    },
    {
     "name": "stdout",
     "output_type": "stream",
     "text": [
      "\n",
      "best epoch:6/loss:5.7543/f1:0.0000\n"
     ]
    },
    {
     "name": "stderr",
     "output_type": "stream",
     "text": [
      "100%|███████████████████████████████████████████| 20/20 [00:09<00:00,  2.10it/s]\n",
      "2022-06-08 11:04:23,089 INFO: Epoch:[007/500]\n",
      "2022-06-08 11:04:23,090 INFO: Train Loss:5.752 | Acc:0.0000 | F1:0.0000\n",
      "2022-06-08 11:04:27,712 INFO: -----------------SAVE:7epoch----------------\n"
     ]
    },
    {
     "name": "stdout",
     "output_type": "stream",
     "text": [
      "\n",
      "best epoch:7/loss:5.7516/f1:0.0000\n"
     ]
    },
    {
     "name": "stderr",
     "output_type": "stream",
     "text": [
      "100%|███████████████████████████████████████████| 20/20 [00:09<00:00,  2.05it/s]\n",
      "2022-06-08 11:04:37,492 INFO: Epoch:[008/500]\n",
      "2022-06-08 11:04:37,492 INFO: Train Loss:5.748 | Acc:0.0032 | F1:0.0005\n",
      "2022-06-08 11:04:42,009 INFO: -----------------SAVE:8epoch----------------\n"
     ]
    },
    {
     "name": "stdout",
     "output_type": "stream",
     "text": [
      "\n",
      "best epoch:8/loss:5.7479/f1:0.0005\n"
     ]
    },
    {
     "name": "stderr",
     "output_type": "stream",
     "text": [
      "100%|███████████████████████████████████████████| 20/20 [00:09<00:00,  2.07it/s]\n",
      "2022-06-08 11:04:51,684 INFO: Epoch:[009/500]\n",
      "2022-06-08 11:04:51,685 INFO: Train Loss:5.762 | Acc:0.0000 | F1:0.0000\n"
     ]
    },
    {
     "name": "stdout",
     "output_type": "stream",
     "text": [
      "\n",
      "best epoch:8/loss:5.7479/f1:0.0005\n"
     ]
    },
    {
     "name": "stderr",
     "output_type": "stream",
     "text": [
      "100%|███████████████████████████████████████████| 20/20 [00:09<00:00,  2.08it/s]\n",
      "2022-06-08 11:05:01,310 INFO: Epoch:[010/500]\n",
      "2022-06-08 11:05:01,310 INFO: Train Loss:5.759 | Acc:0.0064 | F1:0.0043\n"
     ]
    },
    {
     "name": "stdout",
     "output_type": "stream",
     "text": [
      "\n",
      "best epoch:8/loss:5.7479/f1:0.0005\n"
     ]
    },
    {
     "name": "stderr",
     "output_type": "stream",
     "text": [
      "100%|███████████████████████████████████████████| 20/20 [00:09<00:00,  2.08it/s]\n",
      "2022-06-08 11:05:10,919 INFO: Epoch:[011/500]\n",
      "2022-06-08 11:05:10,920 INFO: Train Loss:5.746 | Acc:0.0000 | F1:0.0000\n",
      "2022-06-08 11:05:15,449 INFO: -----------------SAVE:11epoch----------------\n"
     ]
    },
    {
     "name": "stdout",
     "output_type": "stream",
     "text": [
      "\n",
      "best epoch:11/loss:5.7457/f1:0.0000\n"
     ]
    },
    {
     "name": "stderr",
     "output_type": "stream",
     "text": [
      "100%|███████████████████████████████████████████| 20/20 [00:09<00:00,  2.10it/s]\n",
      "2022-06-08 11:05:24,997 INFO: Epoch:[012/500]\n",
      "2022-06-08 11:05:24,998 INFO: Train Loss:5.741 | Acc:0.0032 | F1:0.0002\n",
      "2022-06-08 11:05:29,527 INFO: -----------------SAVE:12epoch----------------\n"
     ]
    },
    {
     "name": "stdout",
     "output_type": "stream",
     "text": [
      "\n",
      "best epoch:12/loss:5.7409/f1:0.0002\n"
     ]
    },
    {
     "name": "stderr",
     "output_type": "stream",
     "text": [
      "100%|███████████████████████████████████████████| 20/20 [00:09<00:00,  2.08it/s]\n",
      "2022-06-08 11:05:39,129 INFO: Epoch:[013/500]\n",
      "2022-06-08 11:05:39,130 INFO: Train Loss:5.768 | Acc:0.0064 | F1:0.0013\n"
     ]
    },
    {
     "name": "stdout",
     "output_type": "stream",
     "text": [
      "\n",
      "best epoch:12/loss:5.7409/f1:0.0002\n"
     ]
    },
    {
     "name": "stderr",
     "output_type": "stream",
     "text": [
      "100%|███████████████████████████████████████████| 20/20 [00:09<00:00,  2.07it/s]\n",
      "2022-06-08 11:05:48,795 INFO: Epoch:[014/500]\n",
      "2022-06-08 11:05:48,795 INFO: Train Loss:5.755 | Acc:0.0064 | F1:0.0054\n"
     ]
    },
    {
     "name": "stdout",
     "output_type": "stream",
     "text": [
      "\n",
      "best epoch:12/loss:5.7409/f1:0.0002\n"
     ]
    },
    {
     "name": "stderr",
     "output_type": "stream",
     "text": [
      "100%|███████████████████████████████████████████| 20/20 [00:09<00:00,  2.08it/s]\n",
      "2022-06-08 11:05:58,428 INFO: Epoch:[015/500]\n",
      "2022-06-08 11:05:58,428 INFO: Train Loss:5.751 | Acc:0.0064 | F1:0.0026\n"
     ]
    },
    {
     "name": "stdout",
     "output_type": "stream",
     "text": [
      "\n",
      "best epoch:12/loss:5.7409/f1:0.0002\n"
     ]
    },
    {
     "name": "stderr",
     "output_type": "stream",
     "text": [
      "100%|███████████████████████████████████████████| 20/20 [00:09<00:00,  2.10it/s]\n",
      "2022-06-08 11:06:07,986 INFO: Epoch:[016/500]\n",
      "2022-06-08 11:06:07,986 INFO: Train Loss:5.761 | Acc:0.0000 | F1:0.0000\n"
     ]
    },
    {
     "name": "stdout",
     "output_type": "stream",
     "text": [
      "\n",
      "best epoch:12/loss:5.7409/f1:0.0002\n"
     ]
    },
    {
     "name": "stderr",
     "output_type": "stream",
     "text": [
      "100%|███████████████████████████████████████████| 20/20 [00:09<00:00,  2.11it/s]\n",
      "2022-06-08 11:06:17,485 INFO: Epoch:[017/500]\n",
      "2022-06-08 11:06:17,486 INFO: Train Loss:5.764 | Acc:0.0032 | F1:0.0032\n"
     ]
    },
    {
     "name": "stdout",
     "output_type": "stream",
     "text": [
      "\n",
      "best epoch:12/loss:5.7409/f1:0.0002\n"
     ]
    },
    {
     "name": "stderr",
     "output_type": "stream",
     "text": [
      "100%|███████████████████████████████████████████| 20/20 [00:09<00:00,  2.12it/s]\n",
      "2022-06-08 11:06:26,918 INFO: Epoch:[018/500]\n",
      "2022-06-08 11:06:26,919 INFO: Train Loss:5.746 | Acc:0.0000 | F1:0.0000\n"
     ]
    },
    {
     "name": "stdout",
     "output_type": "stream",
     "text": [
      "\n",
      "best epoch:12/loss:5.7409/f1:0.0002\n"
     ]
    },
    {
     "name": "stderr",
     "output_type": "stream",
     "text": [
      "100%|███████████████████████████████████████████| 20/20 [00:09<00:00,  2.06it/s]\n",
      "2022-06-08 11:06:36,639 INFO: Epoch:[019/500]\n",
      "2022-06-08 11:06:36,639 INFO: Train Loss:5.740 | Acc:0.0064 | F1:0.0019\n",
      "2022-06-08 11:06:41,145 INFO: -----------------SAVE:19epoch----------------\n"
     ]
    },
    {
     "name": "stdout",
     "output_type": "stream",
     "text": [
      "\n",
      "best epoch:19/loss:5.7400/f1:0.0019\n"
     ]
    },
    {
     "name": "stderr",
     "output_type": "stream",
     "text": [
      "100%|███████████████████████████████████████████| 20/20 [00:09<00:00,  2.07it/s]\n",
      "2022-06-08 11:06:50,832 INFO: Epoch:[020/500]\n",
      "2022-06-08 11:06:50,832 INFO: Train Loss:5.752 | Acc:0.0064 | F1:0.0040\n"
     ]
    },
    {
     "name": "stdout",
     "output_type": "stream",
     "text": [
      "\n",
      "best epoch:19/loss:5.7400/f1:0.0019\n"
     ]
    },
    {
     "name": "stderr",
     "output_type": "stream",
     "text": [
      "100%|███████████████████████████████████████████| 20/20 [00:09<00:00,  2.04it/s]\n",
      "2022-06-08 11:07:00,640 INFO: Epoch:[021/500]\n",
      "2022-06-08 11:07:00,641 INFO: Train Loss:5.733 | Acc:0.0032 | F1:0.0013\n",
      "2022-06-08 11:07:05,177 INFO: -----------------SAVE:21epoch----------------\n"
     ]
    },
    {
     "name": "stdout",
     "output_type": "stream",
     "text": [
      "\n",
      "best epoch:21/loss:5.7334/f1:0.0013\n"
     ]
    },
    {
     "name": "stderr",
     "output_type": "stream",
     "text": [
      "100%|███████████████████████████████████████████| 20/20 [00:09<00:00,  2.04it/s]\n",
      "2022-06-08 11:07:14,973 INFO: Epoch:[022/500]\n",
      "2022-06-08 11:07:14,974 INFO: Train Loss:5.739 | Acc:0.0000 | F1:0.0000\n"
     ]
    },
    {
     "name": "stdout",
     "output_type": "stream",
     "text": [
      "\n",
      "best epoch:21/loss:5.7334/f1:0.0013\n"
     ]
    },
    {
     "name": "stderr",
     "output_type": "stream",
     "text": [
      "100%|███████████████████████████████████████████| 20/20 [00:09<00:00,  2.05it/s]\n",
      "2022-06-08 11:07:24,719 INFO: Epoch:[023/500]\n",
      "2022-06-08 11:07:24,720 INFO: Train Loss:5.745 | Acc:0.0000 | F1:0.0000\n"
     ]
    },
    {
     "name": "stdout",
     "output_type": "stream",
     "text": [
      "\n",
      "best epoch:21/loss:5.7334/f1:0.0013\n"
     ]
    },
    {
     "name": "stderr",
     "output_type": "stream",
     "text": [
      "100%|███████████████████████████████████████████| 20/20 [00:09<00:00,  2.07it/s]\n",
      "2022-06-08 11:07:34,371 INFO: Epoch:[024/500]\n",
      "2022-06-08 11:07:34,372 INFO: Train Loss:5.734 | Acc:0.0032 | F1:0.0016\n"
     ]
    },
    {
     "name": "stdout",
     "output_type": "stream",
     "text": [
      "\n",
      "best epoch:21/loss:5.7334/f1:0.0013\n"
     ]
    },
    {
     "name": "stderr",
     "output_type": "stream",
     "text": [
      "100%|███████████████████████████████████████████| 20/20 [00:09<00:00,  2.03it/s]\n",
      "2022-06-08 11:07:44,234 INFO: Epoch:[025/500]\n",
      "2022-06-08 11:07:44,234 INFO: Train Loss:5.722 | Acc:0.0032 | F1:0.0032\n",
      "2022-06-08 11:07:48,787 INFO: -----------------SAVE:25epoch----------------\n"
     ]
    },
    {
     "name": "stdout",
     "output_type": "stream",
     "text": [
      "\n",
      "best epoch:25/loss:5.7216/f1:0.0032\n"
     ]
    },
    {
     "name": "stderr",
     "output_type": "stream",
     "text": [
      "100%|███████████████████████████████████████████| 20/20 [00:09<00:00,  2.07it/s]\n",
      "2022-06-08 11:07:58,456 INFO: Epoch:[026/500]\n",
      "2022-06-08 11:07:58,456 INFO: Train Loss:5.731 | Acc:0.0064 | F1:0.0028\n"
     ]
    },
    {
     "name": "stdout",
     "output_type": "stream",
     "text": [
      "\n",
      "best epoch:25/loss:5.7216/f1:0.0032\n"
     ]
    },
    {
     "name": "stderr",
     "output_type": "stream",
     "text": [
      "100%|███████████████████████████████████████████| 20/20 [00:09<00:00,  2.09it/s]\n",
      "2022-06-08 11:08:08,019 INFO: Epoch:[027/500]\n",
      "2022-06-08 11:08:08,020 INFO: Train Loss:5.737 | Acc:0.0096 | F1:0.0059\n"
     ]
    },
    {
     "name": "stdout",
     "output_type": "stream",
     "text": [
      "\n",
      "best epoch:25/loss:5.7216/f1:0.0032\n"
     ]
    },
    {
     "name": "stderr",
     "output_type": "stream",
     "text": [
      "100%|███████████████████████████████████████████| 20/20 [00:09<00:00,  2.09it/s]\n",
      "2022-06-08 11:08:17,585 INFO: Epoch:[028/500]\n",
      "2022-06-08 11:08:17,585 INFO: Train Loss:5.724 | Acc:0.0096 | F1:0.0077\n"
     ]
    },
    {
     "name": "stdout",
     "output_type": "stream",
     "text": [
      "\n",
      "best epoch:25/loss:5.7216/f1:0.0032\n"
     ]
    },
    {
     "name": "stderr",
     "output_type": "stream",
     "text": [
      "100%|███████████████████████████████████████████| 20/20 [00:09<00:00,  2.07it/s]\n",
      "2022-06-08 11:08:27,258 INFO: Epoch:[029/500]\n",
      "2022-06-08 11:08:27,259 INFO: Train Loss:5.733 | Acc:0.0000 | F1:0.0000\n"
     ]
    },
    {
     "name": "stdout",
     "output_type": "stream",
     "text": [
      "\n",
      "best epoch:25/loss:5.7216/f1:0.0032\n"
     ]
    },
    {
     "name": "stderr",
     "output_type": "stream",
     "text": [
      "100%|███████████████████████████████████████████| 20/20 [00:09<00:00,  2.06it/s]\n",
      "2022-06-08 11:08:36,984 INFO: Epoch:[030/500]\n",
      "2022-06-08 11:08:36,985 INFO: Train Loss:5.715 | Acc:0.0000 | F1:0.0000\n",
      "2022-06-08 11:08:41,475 INFO: -----------------SAVE:30epoch----------------\n"
     ]
    },
    {
     "name": "stdout",
     "output_type": "stream",
     "text": [
      "\n",
      "best epoch:30/loss:5.7150/f1:0.0000\n"
     ]
    },
    {
     "name": "stderr",
     "output_type": "stream",
     "text": [
      "100%|███████████████████████████████████████████| 20/20 [00:09<00:00,  2.07it/s]\n",
      "2022-06-08 11:08:51,155 INFO: Epoch:[031/500]\n",
      "2022-06-08 11:08:51,156 INFO: Train Loss:5.727 | Acc:0.0032 | F1:0.0005\n"
     ]
    },
    {
     "name": "stdout",
     "output_type": "stream",
     "text": [
      "\n",
      "best epoch:30/loss:5.7150/f1:0.0000\n"
     ]
    },
    {
     "name": "stderr",
     "output_type": "stream",
     "text": [
      "100%|███████████████████████████████████████████| 20/20 [00:09<00:00,  2.11it/s]\n",
      "2022-06-08 11:09:00,735 INFO: Epoch:[032/500]\n",
      "2022-06-08 11:09:00,736 INFO: Train Loss:5.689 | Acc:0.0096 | F1:0.0071\n",
      "2022-06-08 11:09:05,239 INFO: -----------------SAVE:32epoch----------------\n"
     ]
    },
    {
     "name": "stdout",
     "output_type": "stream",
     "text": [
      "\n",
      "best epoch:32/loss:5.6890/f1:0.0071\n"
     ]
    },
    {
     "name": "stderr",
     "output_type": "stream",
     "text": [
      "100%|███████████████████████████████████████████| 20/20 [00:09<00:00,  2.05it/s]\n",
      "2022-06-08 11:09:15,007 INFO: Epoch:[033/500]\n",
      "2022-06-08 11:09:15,007 INFO: Train Loss:5.706 | Acc:0.0032 | F1:0.0032\n"
     ]
    },
    {
     "name": "stdout",
     "output_type": "stream",
     "text": [
      "\n",
      "best epoch:32/loss:5.6890/f1:0.0071\n"
     ]
    },
    {
     "name": "stderr",
     "output_type": "stream",
     "text": [
      "100%|███████████████████████████████████████████| 20/20 [00:09<00:00,  2.07it/s]\n",
      "2022-06-08 11:09:24,680 INFO: Epoch:[034/500]\n",
      "2022-06-08 11:09:24,681 INFO: Train Loss:5.716 | Acc:0.0096 | F1:0.0036\n"
     ]
    },
    {
     "name": "stdout",
     "output_type": "stream",
     "text": [
      "\n",
      "best epoch:32/loss:5.6890/f1:0.0071\n"
     ]
    },
    {
     "name": "stderr",
     "output_type": "stream",
     "text": [
      "100%|███████████████████████████████████████████| 20/20 [00:09<00:00,  2.06it/s]\n",
      "2022-06-08 11:09:34,392 INFO: Epoch:[035/500]\n",
      "2022-06-08 11:09:34,393 INFO: Train Loss:5.698 | Acc:0.0129 | F1:0.0054\n"
     ]
    },
    {
     "name": "stdout",
     "output_type": "stream",
     "text": [
      "\n",
      "best epoch:32/loss:5.6890/f1:0.0071\n"
     ]
    },
    {
     "name": "stderr",
     "output_type": "stream",
     "text": [
      "100%|███████████████████████████████████████████| 20/20 [00:09<00:00,  2.06it/s]\n",
      "2022-06-08 11:09:44,095 INFO: Epoch:[036/500]\n",
      "2022-06-08 11:09:44,096 INFO: Train Loss:5.712 | Acc:0.0032 | F1:0.0008\n"
     ]
    },
    {
     "name": "stdout",
     "output_type": "stream",
     "text": [
      "\n",
      "best epoch:32/loss:5.6890/f1:0.0071\n"
     ]
    },
    {
     "name": "stderr",
     "output_type": "stream",
     "text": [
      "100%|███████████████████████████████████████████| 20/20 [00:09<00:00,  2.06it/s]\n",
      "2022-06-08 11:09:53,805 INFO: Epoch:[037/500]\n",
      "2022-06-08 11:09:53,805 INFO: Train Loss:5.724 | Acc:0.0064 | F1:0.0013\n"
     ]
    },
    {
     "name": "stdout",
     "output_type": "stream",
     "text": [
      "\n",
      "best epoch:32/loss:5.6890/f1:0.0071\n"
     ]
    },
    {
     "name": "stderr",
     "output_type": "stream",
     "text": [
      "100%|███████████████████████████████████████████| 20/20 [00:09<00:00,  2.06it/s]\n",
      "2022-06-08 11:10:03,530 INFO: Epoch:[038/500]\n",
      "2022-06-08 11:10:03,531 INFO: Train Loss:5.709 | Acc:0.0129 | F1:0.0035\n"
     ]
    },
    {
     "name": "stdout",
     "output_type": "stream",
     "text": [
      "\n",
      "best epoch:32/loss:5.6890/f1:0.0071\n"
     ]
    },
    {
     "name": "stderr",
     "output_type": "stream",
     "text": [
      "100%|███████████████████████████████████████████| 20/20 [00:09<00:00,  2.06it/s]\n",
      "2022-06-08 11:10:13,241 INFO: Epoch:[039/500]\n",
      "2022-06-08 11:10:13,242 INFO: Train Loss:5.694 | Acc:0.0096 | F1:0.0036\n"
     ]
    },
    {
     "name": "stdout",
     "output_type": "stream",
     "text": [
      "\n",
      "best epoch:32/loss:5.6890/f1:0.0071\n"
     ]
    },
    {
     "name": "stderr",
     "output_type": "stream",
     "text": [
      "100%|███████████████████████████████████████████| 20/20 [00:09<00:00,  2.04it/s]\n",
      "2022-06-08 11:10:23,046 INFO: Epoch:[040/500]\n",
      "2022-06-08 11:10:23,046 INFO: Train Loss:5.693 | Acc:0.0129 | F1:0.0066\n"
     ]
    },
    {
     "name": "stdout",
     "output_type": "stream",
     "text": [
      "\n",
      "best epoch:32/loss:5.6890/f1:0.0071\n"
     ]
    },
    {
     "name": "stderr",
     "output_type": "stream",
     "text": [
      "100%|███████████████████████████████████████████| 20/20 [00:09<00:00,  2.10it/s]\n",
      "2022-06-08 11:10:32,564 INFO: Epoch:[041/500]\n",
      "2022-06-08 11:10:32,564 INFO: Train Loss:5.675 | Acc:0.0064 | F1:0.0020\n",
      "2022-06-08 11:10:37,067 INFO: -----------------SAVE:41epoch----------------\n"
     ]
    },
    {
     "name": "stdout",
     "output_type": "stream",
     "text": [
      "\n",
      "best epoch:41/loss:5.6753/f1:0.0020\n"
     ]
    },
    {
     "name": "stderr",
     "output_type": "stream",
     "text": [
      "100%|███████████████████████████████████████████| 20/20 [00:09<00:00,  2.08it/s]\n",
      "2022-06-08 11:10:46,669 INFO: Epoch:[042/500]\n",
      "2022-06-08 11:10:46,671 INFO: Train Loss:5.683 | Acc:0.0064 | F1:0.0016\n"
     ]
    },
    {
     "name": "stdout",
     "output_type": "stream",
     "text": [
      "\n",
      "best epoch:41/loss:5.6753/f1:0.0020\n"
     ]
    },
    {
     "name": "stderr",
     "output_type": "stream",
     "text": [
      "100%|███████████████████████████████████████████| 20/20 [00:09<00:00,  2.06it/s]\n",
      "2022-06-08 11:10:56,379 INFO: Epoch:[043/500]\n",
      "2022-06-08 11:10:56,380 INFO: Train Loss:5.672 | Acc:0.0064 | F1:0.0043\n",
      "2022-06-08 11:11:00,859 INFO: -----------------SAVE:43epoch----------------\n"
     ]
    },
    {
     "name": "stdout",
     "output_type": "stream",
     "text": [
      "\n",
      "best epoch:43/loss:5.6721/f1:0.0043\n"
     ]
    },
    {
     "name": "stderr",
     "output_type": "stream",
     "text": [
      "100%|███████████████████████████████████████████| 20/20 [00:09<00:00,  2.07it/s]\n",
      "2022-06-08 11:11:10,540 INFO: Epoch:[044/500]\n",
      "2022-06-08 11:11:10,541 INFO: Train Loss:5.684 | Acc:0.0129 | F1:0.0088\n"
     ]
    },
    {
     "name": "stdout",
     "output_type": "stream",
     "text": [
      "\n",
      "best epoch:43/loss:5.6721/f1:0.0043\n"
     ]
    },
    {
     "name": "stderr",
     "output_type": "stream",
     "text": [
      "100%|███████████████████████████████████████████| 20/20 [00:09<00:00,  2.08it/s]\n",
      "2022-06-08 11:11:20,150 INFO: Epoch:[045/500]\n",
      "2022-06-08 11:11:20,150 INFO: Train Loss:5.684 | Acc:0.0096 | F1:0.0075\n"
     ]
    },
    {
     "name": "stdout",
     "output_type": "stream",
     "text": [
      "\n",
      "best epoch:43/loss:5.6721/f1:0.0043\n"
     ]
    },
    {
     "name": "stderr",
     "output_type": "stream",
     "text": [
      "100%|███████████████████████████████████████████| 20/20 [00:09<00:00,  2.09it/s]\n",
      "2022-06-08 11:11:29,715 INFO: Epoch:[046/500]\n",
      "2022-06-08 11:11:29,716 INFO: Train Loss:5.674 | Acc:0.0161 | F1:0.0102\n"
     ]
    },
    {
     "name": "stdout",
     "output_type": "stream",
     "text": [
      "\n",
      "best epoch:43/loss:5.6721/f1:0.0043\n"
     ]
    },
    {
     "name": "stderr",
     "output_type": "stream",
     "text": [
      "100%|███████████████████████████████████████████| 20/20 [00:09<00:00,  2.02it/s]\n",
      "2022-06-08 11:11:39,634 INFO: Epoch:[047/500]\n",
      "2022-06-08 11:11:39,634 INFO: Train Loss:5.654 | Acc:0.0161 | F1:0.0076\n",
      "2022-06-08 11:11:44,138 INFO: -----------------SAVE:47epoch----------------\n"
     ]
    },
    {
     "name": "stdout",
     "output_type": "stream",
     "text": [
      "\n",
      "best epoch:47/loss:5.6541/f1:0.0076\n"
     ]
    },
    {
     "name": "stderr",
     "output_type": "stream",
     "text": [
      "100%|███████████████████████████████████████████| 20/20 [00:09<00:00,  2.04it/s]\n",
      "2022-06-08 11:11:53,951 INFO: Epoch:[048/500]\n",
      "2022-06-08 11:11:53,951 INFO: Train Loss:5.646 | Acc:0.0129 | F1:0.0061\n",
      "2022-06-08 11:11:58,443 INFO: -----------------SAVE:48epoch----------------\n"
     ]
    },
    {
     "name": "stdout",
     "output_type": "stream",
     "text": [
      "\n",
      "best epoch:48/loss:5.6465/f1:0.0061\n"
     ]
    },
    {
     "name": "stderr",
     "output_type": "stream",
     "text": [
      "100%|███████████████████████████████████████████| 20/20 [00:09<00:00,  2.04it/s]\n",
      "2022-06-08 11:12:08,238 INFO: Epoch:[049/500]\n",
      "2022-06-08 11:12:08,239 INFO: Train Loss:5.649 | Acc:0.0225 | F1:0.0143\n"
     ]
    },
    {
     "name": "stdout",
     "output_type": "stream",
     "text": [
      "\n",
      "best epoch:48/loss:5.6465/f1:0.0061\n"
     ]
    },
    {
     "name": "stderr",
     "output_type": "stream",
     "text": [
      "100%|███████████████████████████████████████████| 20/20 [00:09<00:00,  2.03it/s]\n",
      "2022-06-08 11:12:18,094 INFO: Epoch:[050/500]\n",
      "2022-06-08 11:12:18,095 INFO: Train Loss:5.629 | Acc:0.0193 | F1:0.0114\n",
      "2022-06-08 11:12:22,590 INFO: -----------------SAVE:50epoch----------------\n"
     ]
    },
    {
     "name": "stdout",
     "output_type": "stream",
     "text": [
      "\n",
      "best epoch:50/loss:5.6285/f1:0.0114\n"
     ]
    },
    {
     "name": "stderr",
     "output_type": "stream",
     "text": [
      "100%|███████████████████████████████████████████| 20/20 [00:09<00:00,  2.07it/s]\n",
      "2022-06-08 11:12:32,276 INFO: Epoch:[051/500]\n",
      "2022-06-08 11:12:32,277 INFO: Train Loss:5.623 | Acc:0.0225 | F1:0.0140\n",
      "2022-06-08 11:12:36,781 INFO: -----------------SAVE:51epoch----------------\n"
     ]
    },
    {
     "name": "stdout",
     "output_type": "stream",
     "text": [
      "\n",
      "best epoch:51/loss:5.6233/f1:0.0140\n"
     ]
    },
    {
     "name": "stderr",
     "output_type": "stream",
     "text": [
      "100%|███████████████████████████████████████████| 20/20 [00:09<00:00,  2.05it/s]\n",
      "2022-06-08 11:12:46,561 INFO: Epoch:[052/500]\n",
      "2022-06-08 11:12:46,561 INFO: Train Loss:5.611 | Acc:0.0129 | F1:0.0040\n",
      "2022-06-08 11:12:51,142 INFO: -----------------SAVE:52epoch----------------\n"
     ]
    },
    {
     "name": "stdout",
     "output_type": "stream",
     "text": [
      "\n",
      "best epoch:52/loss:5.6108/f1:0.0040\n"
     ]
    },
    {
     "name": "stderr",
     "output_type": "stream",
     "text": [
      "100%|███████████████████████████████████████████| 20/20 [00:09<00:00,  2.06it/s]\n",
      "2022-06-08 11:13:00,861 INFO: Epoch:[053/500]\n",
      "2022-06-08 11:13:00,861 INFO: Train Loss:5.587 | Acc:0.0354 | F1:0.0208\n",
      "2022-06-08 11:13:05,365 INFO: -----------------SAVE:53epoch----------------\n"
     ]
    },
    {
     "name": "stdout",
     "output_type": "stream",
     "text": [
      "\n",
      "best epoch:53/loss:5.5873/f1:0.0208\n"
     ]
    },
    {
     "name": "stderr",
     "output_type": "stream",
     "text": [
      "100%|███████████████████████████████████████████| 20/20 [00:09<00:00,  2.06it/s]\n",
      "2022-06-08 11:13:15,103 INFO: Epoch:[054/500]\n",
      "2022-06-08 11:13:15,104 INFO: Train Loss:5.607 | Acc:0.0354 | F1:0.0142\n"
     ]
    },
    {
     "name": "stdout",
     "output_type": "stream",
     "text": [
      "\n",
      "best epoch:53/loss:5.5873/f1:0.0208\n"
     ]
    },
    {
     "name": "stderr",
     "output_type": "stream",
     "text": [
      "100%|███████████████████████████████████████████| 20/20 [00:09<00:00,  2.05it/s]\n",
      "2022-06-08 11:13:24,857 INFO: Epoch:[055/500]\n",
      "2022-06-08 11:13:24,857 INFO: Train Loss:5.558 | Acc:0.0257 | F1:0.0197\n",
      "2022-06-08 11:13:29,356 INFO: -----------------SAVE:55epoch----------------\n"
     ]
    },
    {
     "name": "stdout",
     "output_type": "stream",
     "text": [
      "\n",
      "best epoch:55/loss:5.5585/f1:0.0197\n"
     ]
    },
    {
     "name": "stderr",
     "output_type": "stream",
     "text": [
      "100%|███████████████████████████████████████████| 20/20 [00:09<00:00,  2.03it/s]\n",
      "2022-06-08 11:13:39,191 INFO: Epoch:[056/500]\n",
      "2022-06-08 11:13:39,192 INFO: Train Loss:5.549 | Acc:0.0193 | F1:0.0091\n",
      "2022-06-08 11:13:43,712 INFO: -----------------SAVE:56epoch----------------\n"
     ]
    },
    {
     "name": "stdout",
     "output_type": "stream",
     "text": [
      "\n",
      "best epoch:56/loss:5.5485/f1:0.0091\n"
     ]
    },
    {
     "name": "stderr",
     "output_type": "stream",
     "text": [
      "100%|███████████████████████████████████████████| 20/20 [00:09<00:00,  2.09it/s]\n",
      "2022-06-08 11:13:53,305 INFO: Epoch:[057/500]\n",
      "2022-06-08 11:13:53,306 INFO: Train Loss:5.554 | Acc:0.0386 | F1:0.0264\n"
     ]
    },
    {
     "name": "stdout",
     "output_type": "stream",
     "text": [
      "\n",
      "best epoch:56/loss:5.5485/f1:0.0091\n"
     ]
    },
    {
     "name": "stderr",
     "output_type": "stream",
     "text": [
      "100%|███████████████████████████████████████████| 20/20 [00:09<00:00,  2.04it/s]\n",
      "2022-06-08 11:14:03,108 INFO: Epoch:[058/500]\n",
      "2022-06-08 11:14:03,109 INFO: Train Loss:5.527 | Acc:0.0418 | F1:0.0263\n",
      "2022-06-08 11:14:07,648 INFO: -----------------SAVE:58epoch----------------\n"
     ]
    },
    {
     "name": "stdout",
     "output_type": "stream",
     "text": [
      "\n",
      "best epoch:58/loss:5.5268/f1:0.0263\n"
     ]
    },
    {
     "name": "stderr",
     "output_type": "stream",
     "text": [
      "100%|███████████████████████████████████████████| 20/20 [00:09<00:00,  2.03it/s]\n",
      "2022-06-08 11:14:17,523 INFO: Epoch:[059/500]\n",
      "2022-06-08 11:14:17,524 INFO: Train Loss:5.495 | Acc:0.0418 | F1:0.0255\n",
      "2022-06-08 11:14:22,033 INFO: -----------------SAVE:59epoch----------------\n"
     ]
    },
    {
     "name": "stdout",
     "output_type": "stream",
     "text": [
      "\n",
      "best epoch:59/loss:5.4952/f1:0.0255\n"
     ]
    },
    {
     "name": "stderr",
     "output_type": "stream",
     "text": [
      "100%|███████████████████████████████████████████| 20/20 [00:09<00:00,  2.03it/s]\n",
      "2022-06-08 11:14:31,900 INFO: Epoch:[060/500]\n",
      "2022-06-08 11:14:31,901 INFO: Train Loss:5.482 | Acc:0.0514 | F1:0.0331\n",
      "2022-06-08 11:14:36,412 INFO: -----------------SAVE:60epoch----------------\n"
     ]
    },
    {
     "name": "stdout",
     "output_type": "stream",
     "text": [
      "\n",
      "best epoch:60/loss:5.4818/f1:0.0331\n"
     ]
    },
    {
     "name": "stderr",
     "output_type": "stream",
     "text": [
      "100%|███████████████████████████████████████████| 20/20 [00:09<00:00,  2.05it/s]\n",
      "2022-06-08 11:14:46,198 INFO: Epoch:[061/500]\n",
      "2022-06-08 11:14:46,199 INFO: Train Loss:5.428 | Acc:0.0514 | F1:0.0322\n",
      "2022-06-08 11:14:50,729 INFO: -----------------SAVE:61epoch----------------\n"
     ]
    },
    {
     "name": "stdout",
     "output_type": "stream",
     "text": [
      "\n",
      "best epoch:61/loss:5.4279/f1:0.0322\n"
     ]
    },
    {
     "name": "stderr",
     "output_type": "stream",
     "text": [
      "100%|███████████████████████████████████████████| 20/20 [00:09<00:00,  2.04it/s]\n",
      "2022-06-08 11:15:00,519 INFO: Epoch:[062/500]\n",
      "2022-06-08 11:15:00,520 INFO: Train Loss:5.432 | Acc:0.0514 | F1:0.0321\n"
     ]
    },
    {
     "name": "stdout",
     "output_type": "stream",
     "text": [
      "\n",
      "best epoch:61/loss:5.4279/f1:0.0322\n"
     ]
    },
    {
     "name": "stderr",
     "output_type": "stream",
     "text": [
      "100%|███████████████████████████████████████████| 20/20 [00:09<00:00,  2.06it/s]\n",
      "2022-06-08 11:15:10,228 INFO: Epoch:[063/500]\n",
      "2022-06-08 11:15:10,228 INFO: Train Loss:5.375 | Acc:0.0611 | F1:0.0361\n",
      "2022-06-08 11:15:14,846 INFO: -----------------SAVE:63epoch----------------\n"
     ]
    },
    {
     "name": "stdout",
     "output_type": "stream",
     "text": [
      "\n",
      "best epoch:63/loss:5.3754/f1:0.0361\n"
     ]
    },
    {
     "name": "stderr",
     "output_type": "stream",
     "text": [
      "100%|███████████████████████████████████████████| 20/20 [00:09<00:00,  2.08it/s]\n",
      "2022-06-08 11:15:24,490 INFO: Epoch:[064/500]\n",
      "2022-06-08 11:15:24,491 INFO: Train Loss:5.340 | Acc:0.0772 | F1:0.0403\n",
      "2022-06-08 11:15:29,017 INFO: -----------------SAVE:64epoch----------------\n"
     ]
    },
    {
     "name": "stdout",
     "output_type": "stream",
     "text": [
      "\n",
      "best epoch:64/loss:5.3397/f1:0.0403\n"
     ]
    },
    {
     "name": "stderr",
     "output_type": "stream",
     "text": [
      "100%|███████████████████████████████████████████| 20/20 [00:09<00:00,  2.09it/s]\n",
      "2022-06-08 11:15:38,611 INFO: Epoch:[065/500]\n",
      "2022-06-08 11:15:38,612 INFO: Train Loss:5.350 | Acc:0.0675 | F1:0.0400\n"
     ]
    },
    {
     "name": "stdout",
     "output_type": "stream",
     "text": [
      "\n",
      "best epoch:64/loss:5.3397/f1:0.0403\n"
     ]
    },
    {
     "name": "stderr",
     "output_type": "stream",
     "text": [
      "100%|███████████████████████████████████████████| 20/20 [00:09<00:00,  2.06it/s]\n",
      "2022-06-08 11:15:48,343 INFO: Epoch:[066/500]\n",
      "2022-06-08 11:15:48,344 INFO: Train Loss:5.352 | Acc:0.0579 | F1:0.0310\n"
     ]
    },
    {
     "name": "stdout",
     "output_type": "stream",
     "text": [
      "\n",
      "best epoch:64/loss:5.3397/f1:0.0403\n"
     ]
    },
    {
     "name": "stderr",
     "output_type": "stream",
     "text": [
      "100%|███████████████████████████████████████████| 20/20 [00:09<00:00,  2.06it/s]\n",
      "2022-06-08 11:15:58,043 INFO: Epoch:[067/500]\n",
      "2022-06-08 11:15:58,043 INFO: Train Loss:5.277 | Acc:0.0675 | F1:0.0366\n",
      "2022-06-08 11:16:02,547 INFO: -----------------SAVE:67epoch----------------\n"
     ]
    },
    {
     "name": "stdout",
     "output_type": "stream",
     "text": [
      "\n",
      "best epoch:67/loss:5.2770/f1:0.0366\n"
     ]
    },
    {
     "name": "stderr",
     "output_type": "stream",
     "text": [
      "100%|███████████████████████████████████████████| 20/20 [00:09<00:00,  2.04it/s]\n",
      "2022-06-08 11:16:12,343 INFO: Epoch:[068/500]\n",
      "2022-06-08 11:16:12,344 INFO: Train Loss:5.273 | Acc:0.0804 | F1:0.0414\n",
      "2022-06-08 11:16:16,871 INFO: -----------------SAVE:68epoch----------------\n"
     ]
    },
    {
     "name": "stdout",
     "output_type": "stream",
     "text": [
      "\n",
      "best epoch:68/loss:5.2735/f1:0.0414\n"
     ]
    },
    {
     "name": "stderr",
     "output_type": "stream",
     "text": [
      "100%|███████████████████████████████████████████| 20/20 [00:09<00:00,  2.04it/s]\n",
      "2022-06-08 11:16:26,666 INFO: Epoch:[069/500]\n",
      "2022-06-08 11:16:26,667 INFO: Train Loss:5.182 | Acc:0.0772 | F1:0.0455\n",
      "2022-06-08 11:16:31,171 INFO: -----------------SAVE:69epoch----------------\n"
     ]
    },
    {
     "name": "stdout",
     "output_type": "stream",
     "text": [
      "\n",
      "best epoch:69/loss:5.1823/f1:0.0455\n"
     ]
    },
    {
     "name": "stderr",
     "output_type": "stream",
     "text": [
      "100%|███████████████████████████████████████████| 20/20 [00:09<00:00,  2.04it/s]\n",
      "2022-06-08 11:16:40,995 INFO: Epoch:[070/500]\n",
      "2022-06-08 11:16:40,996 INFO: Train Loss:5.136 | Acc:0.1158 | F1:0.0651\n",
      "2022-06-08 11:16:45,511 INFO: -----------------SAVE:70epoch----------------\n"
     ]
    },
    {
     "name": "stdout",
     "output_type": "stream",
     "text": [
      "\n",
      "best epoch:70/loss:5.1364/f1:0.0651\n"
     ]
    },
    {
     "name": "stderr",
     "output_type": "stream",
     "text": [
      "100%|███████████████████████████████████████████| 20/20 [00:09<00:00,  2.05it/s]\n",
      "2022-06-08 11:16:55,266 INFO: Epoch:[071/500]\n",
      "2022-06-08 11:16:55,267 INFO: Train Loss:5.108 | Acc:0.1158 | F1:0.0700\n",
      "2022-06-08 11:16:59,792 INFO: -----------------SAVE:71epoch----------------\n"
     ]
    },
    {
     "name": "stdout",
     "output_type": "stream",
     "text": [
      "\n",
      "best epoch:71/loss:5.1081/f1:0.0700\n"
     ]
    },
    {
     "name": "stderr",
     "output_type": "stream",
     "text": [
      "100%|███████████████████████████████████████████| 20/20 [00:09<00:00,  2.04it/s]\n",
      "2022-06-08 11:17:09,608 INFO: Epoch:[072/500]\n",
      "2022-06-08 11:17:09,609 INFO: Train Loss:5.079 | Acc:0.1254 | F1:0.0742\n",
      "2022-06-08 11:17:14,105 INFO: -----------------SAVE:72epoch----------------\n"
     ]
    },
    {
     "name": "stdout",
     "output_type": "stream",
     "text": [
      "\n",
      "best epoch:72/loss:5.0788/f1:0.0742\n"
     ]
    },
    {
     "name": "stderr",
     "output_type": "stream",
     "text": [
      "100%|███████████████████████████████████████████| 20/20 [00:09<00:00,  2.02it/s]\n",
      "2022-06-08 11:17:23,992 INFO: Epoch:[073/500]\n",
      "2022-06-08 11:17:23,992 INFO: Train Loss:5.132 | Acc:0.0804 | F1:0.0449\n"
     ]
    },
    {
     "name": "stdout",
     "output_type": "stream",
     "text": [
      "\n",
      "best epoch:72/loss:5.0788/f1:0.0742\n"
     ]
    },
    {
     "name": "stderr",
     "output_type": "stream",
     "text": [
      "100%|███████████████████████████████████████████| 20/20 [00:09<00:00,  2.05it/s]\n",
      "2022-06-08 11:17:33,741 INFO: Epoch:[074/500]\n",
      "2022-06-08 11:17:33,742 INFO: Train Loss:5.047 | Acc:0.0997 | F1:0.0494\n",
      "2022-06-08 11:17:38,321 INFO: -----------------SAVE:74epoch----------------\n"
     ]
    },
    {
     "name": "stdout",
     "output_type": "stream",
     "text": [
      "\n",
      "best epoch:74/loss:5.0470/f1:0.0494\n"
     ]
    },
    {
     "name": "stderr",
     "output_type": "stream",
     "text": [
      "100%|███████████████████████████████████████████| 20/20 [00:09<00:00,  2.02it/s]\n",
      "2022-06-08 11:17:48,216 INFO: Epoch:[075/500]\n",
      "2022-06-08 11:17:48,217 INFO: Train Loss:4.988 | Acc:0.1029 | F1:0.0599\n",
      "2022-06-08 11:17:52,704 INFO: -----------------SAVE:75epoch----------------\n"
     ]
    },
    {
     "name": "stdout",
     "output_type": "stream",
     "text": [
      "\n",
      "best epoch:75/loss:4.9877/f1:0.0599\n"
     ]
    },
    {
     "name": "stderr",
     "output_type": "stream",
     "text": [
      "100%|███████████████████████████████████████████| 20/20 [00:09<00:00,  2.05it/s]\n",
      "2022-06-08 11:18:02,483 INFO: Epoch:[076/500]\n",
      "2022-06-08 11:18:02,483 INFO: Train Loss:4.960 | Acc:0.0965 | F1:0.0610\n",
      "2022-06-08 11:18:06,970 INFO: -----------------SAVE:76epoch----------------\n"
     ]
    },
    {
     "name": "stdout",
     "output_type": "stream",
     "text": [
      "\n",
      "best epoch:76/loss:4.9600/f1:0.0610\n"
     ]
    },
    {
     "name": "stderr",
     "output_type": "stream",
     "text": [
      "100%|███████████████████████████████████████████| 20/20 [00:09<00:00,  2.01it/s]\n",
      "2022-06-08 11:18:16,912 INFO: Epoch:[077/500]\n",
      "2022-06-08 11:18:16,913 INFO: Train Loss:4.871 | Acc:0.1190 | F1:0.0630\n",
      "2022-06-08 11:18:21,419 INFO: -----------------SAVE:77epoch----------------\n"
     ]
    },
    {
     "name": "stdout",
     "output_type": "stream",
     "text": [
      "\n",
      "best epoch:77/loss:4.8710/f1:0.0630\n"
     ]
    },
    {
     "name": "stderr",
     "output_type": "stream",
     "text": [
      "100%|███████████████████████████████████████████| 20/20 [00:09<00:00,  2.03it/s]\n",
      "2022-06-08 11:18:31,294 INFO: Epoch:[078/500]\n",
      "2022-06-08 11:18:31,295 INFO: Train Loss:4.860 | Acc:0.1222 | F1:0.0725\n",
      "2022-06-08 11:18:35,798 INFO: -----------------SAVE:78epoch----------------\n"
     ]
    },
    {
     "name": "stdout",
     "output_type": "stream",
     "text": [
      "\n",
      "best epoch:78/loss:4.8600/f1:0.0725\n"
     ]
    },
    {
     "name": "stderr",
     "output_type": "stream",
     "text": [
      "100%|███████████████████████████████████████████| 20/20 [00:09<00:00,  2.05it/s]\n",
      "2022-06-08 11:18:45,561 INFO: Epoch:[079/500]\n",
      "2022-06-08 11:18:45,562 INFO: Train Loss:4.771 | Acc:0.1415 | F1:0.0803\n",
      "2022-06-08 11:18:50,059 INFO: -----------------SAVE:79epoch----------------\n"
     ]
    },
    {
     "name": "stdout",
     "output_type": "stream",
     "text": [
      "\n",
      "best epoch:79/loss:4.7708/f1:0.0803\n"
     ]
    },
    {
     "name": "stderr",
     "output_type": "stream",
     "text": [
      "100%|███████████████████████████████████████████| 20/20 [00:09<00:00,  2.04it/s]\n",
      "2022-06-08 11:18:59,859 INFO: Epoch:[080/500]\n",
      "2022-06-08 11:18:59,859 INFO: Train Loss:4.723 | Acc:0.1511 | F1:0.0872\n",
      "2022-06-08 11:19:04,361 INFO: -----------------SAVE:80epoch----------------\n"
     ]
    },
    {
     "name": "stdout",
     "output_type": "stream",
     "text": [
      "\n",
      "best epoch:80/loss:4.7232/f1:0.0872\n"
     ]
    },
    {
     "name": "stderr",
     "output_type": "stream",
     "text": [
      "100%|███████████████████████████████████████████| 20/20 [00:09<00:00,  2.04it/s]\n",
      "2022-06-08 11:19:14,156 INFO: Epoch:[081/500]\n",
      "2022-06-08 11:19:14,157 INFO: Train Loss:4.694 | Acc:0.1318 | F1:0.0721\n",
      "2022-06-08 11:19:18,683 INFO: -----------------SAVE:81epoch----------------\n"
     ]
    },
    {
     "name": "stdout",
     "output_type": "stream",
     "text": [
      "\n",
      "best epoch:81/loss:4.6939/f1:0.0721\n"
     ]
    },
    {
     "name": "stderr",
     "output_type": "stream",
     "text": [
      "100%|███████████████████████████████████████████| 20/20 [00:09<00:00,  2.01it/s]\n",
      "2022-06-08 11:19:28,638 INFO: Epoch:[082/500]\n",
      "2022-06-08 11:19:28,638 INFO: Train Loss:4.641 | Acc:0.1286 | F1:0.0807\n",
      "2022-06-08 11:19:33,139 INFO: -----------------SAVE:82epoch----------------\n"
     ]
    },
    {
     "name": "stdout",
     "output_type": "stream",
     "text": [
      "\n",
      "best epoch:82/loss:4.6406/f1:0.0807\n"
     ]
    },
    {
     "name": "stderr",
     "output_type": "stream",
     "text": [
      "100%|███████████████████████████████████████████| 20/20 [00:09<00:00,  2.04it/s]\n",
      "2022-06-08 11:19:42,934 INFO: Epoch:[083/500]\n",
      "2022-06-08 11:19:42,934 INFO: Train Loss:4.554 | Acc:0.1994 | F1:0.1251\n",
      "2022-06-08 11:19:47,560 INFO: -----------------SAVE:83epoch----------------\n"
     ]
    },
    {
     "name": "stdout",
     "output_type": "stream",
     "text": [
      "\n",
      "best epoch:83/loss:4.5543/f1:0.1251\n"
     ]
    },
    {
     "name": "stderr",
     "output_type": "stream",
     "text": [
      "100%|███████████████████████████████████████████| 20/20 [00:09<00:00,  2.05it/s]\n",
      "2022-06-08 11:19:57,303 INFO: Epoch:[084/500]\n",
      "2022-06-08 11:19:57,303 INFO: Train Loss:4.575 | Acc:0.1608 | F1:0.1023\n"
     ]
    },
    {
     "name": "stdout",
     "output_type": "stream",
     "text": [
      "\n",
      "best epoch:83/loss:4.5543/f1:0.1251\n"
     ]
    },
    {
     "name": "stderr",
     "output_type": "stream",
     "text": [
      "100%|███████████████████████████████████████████| 20/20 [00:09<00:00,  2.03it/s]\n",
      "2022-06-08 11:20:07,166 INFO: Epoch:[085/500]\n",
      "2022-06-08 11:20:07,167 INFO: Train Loss:4.543 | Acc:0.1608 | F1:0.1047\n",
      "2022-06-08 11:20:11,658 INFO: -----------------SAVE:85epoch----------------\n"
     ]
    },
    {
     "name": "stdout",
     "output_type": "stream",
     "text": [
      "\n",
      "best epoch:85/loss:4.5431/f1:0.1047\n"
     ]
    },
    {
     "name": "stderr",
     "output_type": "stream",
     "text": [
      "100%|███████████████████████████████████████████| 20/20 [00:09<00:00,  2.02it/s]\n",
      "2022-06-08 11:20:21,583 INFO: Epoch:[086/500]\n",
      "2022-06-08 11:20:21,583 INFO: Train Loss:4.465 | Acc:0.2122 | F1:0.1415\n",
      "2022-06-08 11:20:26,095 INFO: -----------------SAVE:86epoch----------------\n"
     ]
    },
    {
     "name": "stdout",
     "output_type": "stream",
     "text": [
      "\n",
      "best epoch:86/loss:4.4654/f1:0.1415\n"
     ]
    },
    {
     "name": "stderr",
     "output_type": "stream",
     "text": [
      "100%|███████████████████████████████████████████| 20/20 [00:09<00:00,  2.07it/s]\n",
      "2022-06-08 11:20:35,752 INFO: Epoch:[087/500]\n",
      "2022-06-08 11:20:35,753 INFO: Train Loss:4.399 | Acc:0.2026 | F1:0.1401\n",
      "2022-06-08 11:20:40,248 INFO: -----------------SAVE:87epoch----------------\n"
     ]
    },
    {
     "name": "stdout",
     "output_type": "stream",
     "text": [
      "\n",
      "best epoch:87/loss:4.3986/f1:0.1401\n"
     ]
    },
    {
     "name": "stderr",
     "output_type": "stream",
     "text": [
      "100%|███████████████████████████████████████████| 20/20 [00:09<00:00,  2.03it/s]\n",
      "2022-06-08 11:20:50,129 INFO: Epoch:[088/500]\n",
      "2022-06-08 11:20:50,130 INFO: Train Loss:4.387 | Acc:0.1608 | F1:0.1082\n",
      "2022-06-08 11:20:54,628 INFO: -----------------SAVE:88epoch----------------\n"
     ]
    },
    {
     "name": "stdout",
     "output_type": "stream",
     "text": [
      "\n",
      "best epoch:88/loss:4.3872/f1:0.1082\n"
     ]
    },
    {
     "name": "stderr",
     "output_type": "stream",
     "text": [
      "100%|███████████████████████████████████████████| 20/20 [00:09<00:00,  2.01it/s]\n",
      "2022-06-08 11:21:04,568 INFO: Epoch:[089/500]\n",
      "2022-06-08 11:21:04,569 INFO: Train Loss:4.310 | Acc:0.2154 | F1:0.1402\n",
      "2022-06-08 11:21:09,091 INFO: -----------------SAVE:89epoch----------------\n"
     ]
    },
    {
     "name": "stdout",
     "output_type": "stream",
     "text": [
      "\n",
      "best epoch:89/loss:4.3100/f1:0.1402\n"
     ]
    },
    {
     "name": "stderr",
     "output_type": "stream",
     "text": [
      "100%|███████████████████████████████████████████| 20/20 [00:09<00:00,  2.03it/s]\n",
      "2022-06-08 11:21:18,954 INFO: Epoch:[090/500]\n",
      "2022-06-08 11:21:18,955 INFO: Train Loss:4.305 | Acc:0.1704 | F1:0.1116\n",
      "2022-06-08 11:21:23,442 INFO: -----------------SAVE:90epoch----------------\n"
     ]
    },
    {
     "name": "stdout",
     "output_type": "stream",
     "text": [
      "\n",
      "best epoch:90/loss:4.3051/f1:0.1116\n"
     ]
    },
    {
     "name": "stderr",
     "output_type": "stream",
     "text": [
      "100%|███████████████████████████████████████████| 20/20 [00:09<00:00,  2.05it/s]\n",
      "2022-06-08 11:21:33,230 INFO: Epoch:[091/500]\n",
      "2022-06-08 11:21:33,230 INFO: Train Loss:4.246 | Acc:0.2186 | F1:0.1502\n",
      "2022-06-08 11:21:37,725 INFO: -----------------SAVE:91epoch----------------\n"
     ]
    },
    {
     "name": "stdout",
     "output_type": "stream",
     "text": [
      "\n",
      "best epoch:91/loss:4.2458/f1:0.1502\n"
     ]
    },
    {
     "name": "stderr",
     "output_type": "stream",
     "text": [
      "100%|███████████████████████████████████████████| 20/20 [00:09<00:00,  2.04it/s]\n",
      "2022-06-08 11:21:47,526 INFO: Epoch:[092/500]\n",
      "2022-06-08 11:21:47,527 INFO: Train Loss:4.253 | Acc:0.2090 | F1:0.1460\n"
     ]
    },
    {
     "name": "stdout",
     "output_type": "stream",
     "text": [
      "\n",
      "best epoch:91/loss:4.2458/f1:0.1502\n"
     ]
    },
    {
     "name": "stderr",
     "output_type": "stream",
     "text": [
      "100%|███████████████████████████████████████████| 20/20 [00:09<00:00,  2.06it/s]\n",
      "2022-06-08 11:21:57,245 INFO: Epoch:[093/500]\n",
      "2022-06-08 11:21:57,246 INFO: Train Loss:4.195 | Acc:0.2122 | F1:0.1503\n",
      "2022-06-08 11:22:01,838 INFO: -----------------SAVE:93epoch----------------\n"
     ]
    },
    {
     "name": "stdout",
     "output_type": "stream",
     "text": [
      "\n",
      "best epoch:93/loss:4.1947/f1:0.1503\n"
     ]
    },
    {
     "name": "stderr",
     "output_type": "stream",
     "text": [
      "100%|███████████████████████████████████████████| 20/20 [00:09<00:00,  2.07it/s]\n",
      "2022-06-08 11:22:11,497 INFO: Epoch:[094/500]\n",
      "2022-06-08 11:22:11,498 INFO: Train Loss:4.173 | Acc:0.2219 | F1:0.1590\n",
      "2022-06-08 11:22:15,993 INFO: -----------------SAVE:94epoch----------------\n"
     ]
    },
    {
     "name": "stdout",
     "output_type": "stream",
     "text": [
      "\n",
      "best epoch:94/loss:4.1732/f1:0.1590\n"
     ]
    },
    {
     "name": "stderr",
     "output_type": "stream",
     "text": [
      "100%|███████████████████████████████████████████| 20/20 [00:09<00:00,  2.06it/s]\n",
      "2022-06-08 11:22:25,730 INFO: Epoch:[095/500]\n",
      "2022-06-08 11:22:25,731 INFO: Train Loss:4.096 | Acc:0.2476 | F1:0.1741\n",
      "2022-06-08 11:22:30,221 INFO: -----------------SAVE:95epoch----------------\n"
     ]
    },
    {
     "name": "stdout",
     "output_type": "stream",
     "text": [
      "\n",
      "best epoch:95/loss:4.0957/f1:0.1741\n"
     ]
    },
    {
     "name": "stderr",
     "output_type": "stream",
     "text": [
      "100%|███████████████████████████████████████████| 20/20 [00:09<00:00,  2.11it/s]\n",
      "2022-06-08 11:22:39,719 INFO: Epoch:[096/500]\n",
      "2022-06-08 11:22:39,720 INFO: Train Loss:4.016 | Acc:0.2058 | F1:0.1415\n",
      "2022-06-08 11:22:44,224 INFO: -----------------SAVE:96epoch----------------\n"
     ]
    },
    {
     "name": "stdout",
     "output_type": "stream",
     "text": [
      "\n",
      "best epoch:96/loss:4.0156/f1:0.1415\n"
     ]
    },
    {
     "name": "stderr",
     "output_type": "stream",
     "text": [
      "100%|███████████████████████████████████████████| 20/20 [00:09<00:00,  2.07it/s]\n",
      "2022-06-08 11:22:53,889 INFO: Epoch:[097/500]\n",
      "2022-06-08 11:22:53,889 INFO: Train Loss:4.032 | Acc:0.2251 | F1:0.1500\n"
     ]
    },
    {
     "name": "stdout",
     "output_type": "stream",
     "text": [
      "\n",
      "best epoch:96/loss:4.0156/f1:0.1415\n"
     ]
    },
    {
     "name": "stderr",
     "output_type": "stream",
     "text": [
      "100%|███████████████████████████████████████████| 20/20 [00:09<00:00,  2.08it/s]\n",
      "2022-06-08 11:23:03,509 INFO: Epoch:[098/500]\n",
      "2022-06-08 11:23:03,510 INFO: Train Loss:3.810 | Acc:0.2862 | F1:0.2132\n",
      "2022-06-08 11:23:08,009 INFO: -----------------SAVE:98epoch----------------\n"
     ]
    },
    {
     "name": "stdout",
     "output_type": "stream",
     "text": [
      "\n",
      "best epoch:98/loss:3.8096/f1:0.2132\n"
     ]
    },
    {
     "name": "stderr",
     "output_type": "stream",
     "text": [
      "100%|███████████████████████████████████████████| 20/20 [00:09<00:00,  2.08it/s]\n",
      "2022-06-08 11:23:17,654 INFO: Epoch:[099/500]\n",
      "2022-06-08 11:23:17,655 INFO: Train Loss:3.823 | Acc:0.2572 | F1:0.1936\n"
     ]
    },
    {
     "name": "stdout",
     "output_type": "stream",
     "text": [
      "\n",
      "best epoch:98/loss:3.8096/f1:0.2132\n"
     ]
    },
    {
     "name": "stderr",
     "output_type": "stream",
     "text": [
      "100%|███████████████████████████████████████████| 20/20 [00:09<00:00,  2.10it/s]\n",
      "2022-06-08 11:23:27,208 INFO: Epoch:[100/500]\n",
      "2022-06-08 11:23:27,209 INFO: Train Loss:3.826 | Acc:0.2637 | F1:0.2018\n"
     ]
    },
    {
     "name": "stdout",
     "output_type": "stream",
     "text": [
      "\n",
      "best epoch:98/loss:3.8096/f1:0.2132\n"
     ]
    },
    {
     "name": "stderr",
     "output_type": "stream",
     "text": [
      "100%|███████████████████████████████████████████| 20/20 [00:09<00:00,  2.05it/s]\n",
      "2022-06-08 11:23:36,953 INFO: Epoch:[101/500]\n",
      "2022-06-08 11:23:36,953 INFO: Train Loss:3.753 | Acc:0.2958 | F1:0.2265\n",
      "2022-06-08 11:23:41,464 INFO: -----------------SAVE:101epoch----------------\n"
     ]
    },
    {
     "name": "stdout",
     "output_type": "stream",
     "text": [
      "\n",
      "best epoch:101/loss:3.7527/f1:0.2265\n"
     ]
    },
    {
     "name": "stderr",
     "output_type": "stream",
     "text": [
      "100%|███████████████████████████████████████████| 20/20 [00:09<00:00,  2.09it/s]\n",
      "2022-06-08 11:23:51,045 INFO: Epoch:[102/500]\n",
      "2022-06-08 11:23:51,045 INFO: Train Loss:3.816 | Acc:0.2830 | F1:0.2102\n"
     ]
    },
    {
     "name": "stdout",
     "output_type": "stream",
     "text": [
      "\n",
      "best epoch:101/loss:3.7527/f1:0.2265\n"
     ]
    },
    {
     "name": "stderr",
     "output_type": "stream",
     "text": [
      "100%|███████████████████████████████████████████| 20/20 [00:09<00:00,  2.08it/s]\n",
      "2022-06-08 11:24:00,676 INFO: Epoch:[103/500]\n",
      "2022-06-08 11:24:00,677 INFO: Train Loss:3.830 | Acc:0.2637 | F1:0.1939\n"
     ]
    },
    {
     "name": "stdout",
     "output_type": "stream",
     "text": [
      "\n",
      "best epoch:101/loss:3.7527/f1:0.2265\n"
     ]
    },
    {
     "name": "stderr",
     "output_type": "stream",
     "text": [
      "100%|███████████████████████████████████████████| 20/20 [00:09<00:00,  2.08it/s]\n",
      "2022-06-08 11:24:10,305 INFO: Epoch:[104/500]\n",
      "2022-06-08 11:24:10,306 INFO: Train Loss:3.735 | Acc:0.2701 | F1:0.2073\n",
      "2022-06-08 11:24:14,798 INFO: -----------------SAVE:104epoch----------------\n"
     ]
    },
    {
     "name": "stdout",
     "output_type": "stream",
     "text": [
      "\n",
      "best epoch:104/loss:3.7351/f1:0.2073\n"
     ]
    },
    {
     "name": "stderr",
     "output_type": "stream",
     "text": [
      "100%|███████████████████████████████████████████| 20/20 [00:09<00:00,  2.08it/s]\n",
      "2022-06-08 11:24:24,429 INFO: Epoch:[105/500]\n",
      "2022-06-08 11:24:24,430 INFO: Train Loss:3.627 | Acc:0.3312 | F1:0.2524\n",
      "2022-06-08 11:24:28,933 INFO: -----------------SAVE:105epoch----------------\n"
     ]
    },
    {
     "name": "stdout",
     "output_type": "stream",
     "text": [
      "\n",
      "best epoch:105/loss:3.6268/f1:0.2524\n"
     ]
    },
    {
     "name": "stderr",
     "output_type": "stream",
     "text": [
      "100%|███████████████████████████████████████████| 20/20 [00:09<00:00,  2.11it/s]\n",
      "2022-06-08 11:24:38,440 INFO: Epoch:[106/500]\n",
      "2022-06-08 11:24:38,441 INFO: Train Loss:3.662 | Acc:0.3344 | F1:0.2585\n"
     ]
    },
    {
     "name": "stdout",
     "output_type": "stream",
     "text": [
      "\n",
      "best epoch:105/loss:3.6268/f1:0.2524\n"
     ]
    },
    {
     "name": "stderr",
     "output_type": "stream",
     "text": [
      "100%|███████████████████████████████████████████| 20/20 [00:09<00:00,  2.11it/s]\n",
      "2022-06-08 11:24:47,920 INFO: Epoch:[107/500]\n",
      "2022-06-08 11:24:47,920 INFO: Train Loss:3.542 | Acc:0.3215 | F1:0.2458\n",
      "2022-06-08 11:24:52,525 INFO: -----------------SAVE:107epoch----------------\n"
     ]
    },
    {
     "name": "stdout",
     "output_type": "stream",
     "text": [
      "\n",
      "best epoch:107/loss:3.5425/f1:0.2458\n"
     ]
    },
    {
     "name": "stderr",
     "output_type": "stream",
     "text": [
      "100%|███████████████████████████████████████████| 20/20 [00:09<00:00,  2.07it/s]\n",
      "2022-06-08 11:25:02,189 INFO: Epoch:[108/500]\n",
      "2022-06-08 11:25:02,189 INFO: Train Loss:3.608 | Acc:0.2926 | F1:0.2119\n"
     ]
    },
    {
     "name": "stdout",
     "output_type": "stream",
     "text": [
      "\n",
      "best epoch:107/loss:3.5425/f1:0.2458\n"
     ]
    },
    {
     "name": "stderr",
     "output_type": "stream",
     "text": [
      "100%|███████████████████████████████████████████| 20/20 [00:09<00:00,  2.10it/s]\n",
      "2022-06-08 11:25:11,703 INFO: Epoch:[109/500]\n",
      "2022-06-08 11:25:11,703 INFO: Train Loss:3.485 | Acc:0.3023 | F1:0.2269\n",
      "2022-06-08 11:25:16,199 INFO: -----------------SAVE:109epoch----------------\n"
     ]
    },
    {
     "name": "stdout",
     "output_type": "stream",
     "text": [
      "\n",
      "best epoch:109/loss:3.4847/f1:0.2269\n"
     ]
    },
    {
     "name": "stderr",
     "output_type": "stream",
     "text": [
      "100%|███████████████████████████████████████████| 20/20 [00:09<00:00,  2.06it/s]\n",
      "2022-06-08 11:25:25,914 INFO: Epoch:[110/500]\n",
      "2022-06-08 11:25:25,914 INFO: Train Loss:3.408 | Acc:0.3762 | F1:0.2950\n",
      "2022-06-08 11:25:30,427 INFO: -----------------SAVE:110epoch----------------\n"
     ]
    },
    {
     "name": "stdout",
     "output_type": "stream",
     "text": [
      "\n",
      "best epoch:110/loss:3.4083/f1:0.2950\n"
     ]
    },
    {
     "name": "stderr",
     "output_type": "stream",
     "text": [
      "100%|███████████████████████████████████████████| 20/20 [00:09<00:00,  2.07it/s]\n",
      "2022-06-08 11:25:40,115 INFO: Epoch:[111/500]\n",
      "2022-06-08 11:25:40,116 INFO: Train Loss:3.358 | Acc:0.3441 | F1:0.2719\n",
      "2022-06-08 11:25:44,605 INFO: -----------------SAVE:111epoch----------------\n"
     ]
    },
    {
     "name": "stdout",
     "output_type": "stream",
     "text": [
      "\n",
      "best epoch:111/loss:3.3578/f1:0.2719\n"
     ]
    },
    {
     "name": "stderr",
     "output_type": "stream",
     "text": [
      "100%|███████████████████████████████████████████| 20/20 [00:09<00:00,  2.08it/s]\n",
      "2022-06-08 11:25:54,235 INFO: Epoch:[112/500]\n",
      "2022-06-08 11:25:54,235 INFO: Train Loss:3.341 | Acc:0.3794 | F1:0.3084\n",
      "2022-06-08 11:25:58,723 INFO: -----------------SAVE:112epoch----------------\n"
     ]
    },
    {
     "name": "stdout",
     "output_type": "stream",
     "text": [
      "\n",
      "best epoch:112/loss:3.3410/f1:0.3084\n"
     ]
    },
    {
     "name": "stderr",
     "output_type": "stream",
     "text": [
      "100%|███████████████████████████████████████████| 20/20 [00:09<00:00,  2.11it/s]\n",
      "2022-06-08 11:26:08,208 INFO: Epoch:[113/500]\n",
      "2022-06-08 11:26:08,209 INFO: Train Loss:3.268 | Acc:0.3601 | F1:0.2853\n",
      "2022-06-08 11:26:12,715 INFO: -----------------SAVE:113epoch----------------\n"
     ]
    },
    {
     "name": "stdout",
     "output_type": "stream",
     "text": [
      "\n",
      "best epoch:113/loss:3.2682/f1:0.2853\n"
     ]
    },
    {
     "name": "stderr",
     "output_type": "stream",
     "text": [
      "100%|███████████████████████████████████████████| 20/20 [00:09<00:00,  2.06it/s]\n",
      "2022-06-08 11:26:22,414 INFO: Epoch:[114/500]\n",
      "2022-06-08 11:26:22,415 INFO: Train Loss:3.401 | Acc:0.3698 | F1:0.2990\n"
     ]
    },
    {
     "name": "stdout",
     "output_type": "stream",
     "text": [
      "\n",
      "best epoch:113/loss:3.2682/f1:0.2853\n"
     ]
    },
    {
     "name": "stderr",
     "output_type": "stream",
     "text": [
      "100%|███████████████████████████████████████████| 20/20 [00:09<00:00,  2.09it/s]\n",
      "2022-06-08 11:26:32,007 INFO: Epoch:[115/500]\n",
      "2022-06-08 11:26:32,007 INFO: Train Loss:3.325 | Acc:0.3601 | F1:0.2909\n"
     ]
    },
    {
     "name": "stdout",
     "output_type": "stream",
     "text": [
      "\n",
      "best epoch:113/loss:3.2682/f1:0.2853\n"
     ]
    },
    {
     "name": "stderr",
     "output_type": "stream",
     "text": [
      "100%|███████████████████████████████████████████| 20/20 [00:09<00:00,  2.07it/s]\n",
      "2022-06-08 11:26:41,668 INFO: Epoch:[116/500]\n",
      "2022-06-08 11:26:41,668 INFO: Train Loss:3.148 | Acc:0.3987 | F1:0.3261\n",
      "2022-06-08 11:26:46,164 INFO: -----------------SAVE:116epoch----------------\n"
     ]
    },
    {
     "name": "stdout",
     "output_type": "stream",
     "text": [
      "\n",
      "best epoch:116/loss:3.1479/f1:0.3261\n"
     ]
    },
    {
     "name": "stderr",
     "output_type": "stream",
     "text": [
      "100%|███████████████████████████████████████████| 20/20 [00:09<00:00,  2.07it/s]\n",
      "2022-06-08 11:26:55,812 INFO: Epoch:[117/500]\n",
      "2022-06-08 11:26:55,813 INFO: Train Loss:3.266 | Acc:0.3473 | F1:0.2783\n"
     ]
    },
    {
     "name": "stdout",
     "output_type": "stream",
     "text": [
      "\n",
      "best epoch:116/loss:3.1479/f1:0.3261\n"
     ]
    },
    {
     "name": "stderr",
     "output_type": "stream",
     "text": [
      "100%|███████████████████████████████████████████| 20/20 [00:09<00:00,  2.08it/s]\n",
      "2022-06-08 11:27:05,417 INFO: Epoch:[118/500]\n",
      "2022-06-08 11:27:05,418 INFO: Train Loss:3.079 | Acc:0.4019 | F1:0.3230\n",
      "2022-06-08 11:27:09,929 INFO: -----------------SAVE:118epoch----------------\n"
     ]
    },
    {
     "name": "stdout",
     "output_type": "stream",
     "text": [
      "\n",
      "best epoch:118/loss:3.0789/f1:0.3230\n"
     ]
    },
    {
     "name": "stderr",
     "output_type": "stream",
     "text": [
      "100%|███████████████████████████████████████████| 20/20 [00:09<00:00,  2.04it/s]\n",
      "2022-06-08 11:27:19,745 INFO: Epoch:[119/500]\n",
      "2022-06-08 11:27:19,745 INFO: Train Loss:3.197 | Acc:0.3633 | F1:0.2862\n"
     ]
    },
    {
     "name": "stdout",
     "output_type": "stream",
     "text": [
      "\n",
      "best epoch:118/loss:3.0789/f1:0.3230\n"
     ]
    },
    {
     "name": "stderr",
     "output_type": "stream",
     "text": [
      "100%|███████████████████████████████████████████| 20/20 [00:09<00:00,  2.07it/s]\n",
      "2022-06-08 11:27:29,418 INFO: Epoch:[120/500]\n",
      "2022-06-08 11:27:29,419 INFO: Train Loss:3.117 | Acc:0.3698 | F1:0.3063\n"
     ]
    },
    {
     "name": "stdout",
     "output_type": "stream",
     "text": [
      "\n",
      "best epoch:118/loss:3.0789/f1:0.3230\n"
     ]
    },
    {
     "name": "stderr",
     "output_type": "stream",
     "text": [
      "100%|███████████████████████████████████████████| 20/20 [00:09<00:00,  2.05it/s]\n",
      "2022-06-08 11:27:39,191 INFO: Epoch:[121/500]\n",
      "2022-06-08 11:27:39,192 INFO: Train Loss:2.970 | Acc:0.4244 | F1:0.3469\n",
      "2022-06-08 11:27:43,784 INFO: -----------------SAVE:121epoch----------------\n"
     ]
    },
    {
     "name": "stdout",
     "output_type": "stream",
     "text": [
      "\n",
      "best epoch:121/loss:2.9703/f1:0.3469\n"
     ]
    },
    {
     "name": "stderr",
     "output_type": "stream",
     "text": [
      "100%|███████████████████████████████████████████| 20/20 [00:09<00:00,  2.07it/s]\n",
      "2022-06-08 11:27:53,430 INFO: Epoch:[122/500]\n",
      "2022-06-08 11:27:53,430 INFO: Train Loss:3.002 | Acc:0.3987 | F1:0.3327\n"
     ]
    },
    {
     "name": "stdout",
     "output_type": "stream",
     "text": [
      "\n",
      "best epoch:121/loss:2.9703/f1:0.3469\n"
     ]
    },
    {
     "name": "stderr",
     "output_type": "stream",
     "text": [
      "100%|███████████████████████████████████████████| 20/20 [00:09<00:00,  2.06it/s]\n",
      "2022-06-08 11:28:03,156 INFO: Epoch:[123/500]\n",
      "2022-06-08 11:28:03,157 INFO: Train Loss:2.967 | Acc:0.4244 | F1:0.3532\n",
      "2022-06-08 11:28:07,672 INFO: -----------------SAVE:123epoch----------------\n"
     ]
    },
    {
     "name": "stdout",
     "output_type": "stream",
     "text": [
      "\n",
      "best epoch:123/loss:2.9671/f1:0.3532\n"
     ]
    },
    {
     "name": "stderr",
     "output_type": "stream",
     "text": [
      "100%|███████████████████████████████████████████| 20/20 [00:09<00:00,  2.10it/s]\n",
      "2022-06-08 11:28:17,216 INFO: Epoch:[124/500]\n",
      "2022-06-08 11:28:17,216 INFO: Train Loss:3.058 | Acc:0.3794 | F1:0.3106\n"
     ]
    },
    {
     "name": "stdout",
     "output_type": "stream",
     "text": [
      "\n",
      "best epoch:123/loss:2.9671/f1:0.3532\n"
     ]
    },
    {
     "name": "stderr",
     "output_type": "stream",
     "text": [
      "100%|███████████████████████████████████████████| 20/20 [00:09<00:00,  2.06it/s]\n",
      "2022-06-08 11:28:26,945 INFO: Epoch:[125/500]\n",
      "2022-06-08 11:28:26,945 INFO: Train Loss:2.991 | Acc:0.4116 | F1:0.3405\n"
     ]
    },
    {
     "name": "stdout",
     "output_type": "stream",
     "text": [
      "\n",
      "best epoch:123/loss:2.9671/f1:0.3532\n"
     ]
    },
    {
     "name": "stderr",
     "output_type": "stream",
     "text": [
      "100%|███████████████████████████████████████████| 20/20 [00:09<00:00,  2.03it/s]\n",
      "2022-06-08 11:28:36,801 INFO: Epoch:[126/500]\n",
      "2022-06-08 11:28:36,802 INFO: Train Loss:2.950 | Acc:0.4630 | F1:0.3946\n",
      "2022-06-08 11:28:41,284 INFO: -----------------SAVE:126epoch----------------\n"
     ]
    },
    {
     "name": "stdout",
     "output_type": "stream",
     "text": [
      "\n",
      "best epoch:126/loss:2.9497/f1:0.3946\n"
     ]
    },
    {
     "name": "stderr",
     "output_type": "stream",
     "text": [
      "100%|███████████████████████████████████████████| 20/20 [00:09<00:00,  2.09it/s]\n",
      "2022-06-08 11:28:50,879 INFO: Epoch:[127/500]\n",
      "2022-06-08 11:28:50,879 INFO: Train Loss:2.926 | Acc:0.4309 | F1:0.3562\n",
      "2022-06-08 11:28:55,395 INFO: -----------------SAVE:127epoch----------------\n"
     ]
    },
    {
     "name": "stdout",
     "output_type": "stream",
     "text": [
      "\n",
      "best epoch:127/loss:2.9264/f1:0.3562\n"
     ]
    },
    {
     "name": "stderr",
     "output_type": "stream",
     "text": [
      "100%|███████████████████████████████████████████| 20/20 [00:09<00:00,  2.05it/s]\n",
      "2022-06-08 11:29:05,168 INFO: Epoch:[128/500]\n",
      "2022-06-08 11:29:05,169 INFO: Train Loss:2.896 | Acc:0.4309 | F1:0.3603\n",
      "2022-06-08 11:29:09,662 INFO: -----------------SAVE:128epoch----------------\n"
     ]
    },
    {
     "name": "stdout",
     "output_type": "stream",
     "text": [
      "\n",
      "best epoch:128/loss:2.8962/f1:0.3603\n"
     ]
    },
    {
     "name": "stderr",
     "output_type": "stream",
     "text": [
      "100%|███████████████████████████████████████████| 20/20 [00:09<00:00,  2.06it/s]\n",
      "2022-06-08 11:29:19,397 INFO: Epoch:[129/500]\n",
      "2022-06-08 11:29:19,398 INFO: Train Loss:2.778 | Acc:0.4598 | F1:0.3762\n",
      "2022-06-08 11:29:23,891 INFO: -----------------SAVE:129epoch----------------\n"
     ]
    },
    {
     "name": "stdout",
     "output_type": "stream",
     "text": [
      "\n",
      "best epoch:129/loss:2.7782/f1:0.3762\n"
     ]
    },
    {
     "name": "stderr",
     "output_type": "stream",
     "text": [
      "100%|███████████████████████████████████████████| 20/20 [00:09<00:00,  2.03it/s]\n",
      "2022-06-08 11:29:33,773 INFO: Epoch:[130/500]\n",
      "2022-06-08 11:29:33,773 INFO: Train Loss:2.752 | Acc:0.4534 | F1:0.3766\n",
      "2022-06-08 11:29:38,283 INFO: -----------------SAVE:130epoch----------------\n"
     ]
    },
    {
     "name": "stdout",
     "output_type": "stream",
     "text": [
      "\n",
      "best epoch:130/loss:2.7520/f1:0.3766\n"
     ]
    },
    {
     "name": "stderr",
     "output_type": "stream",
     "text": [
      "100%|███████████████████████████████████████████| 20/20 [00:09<00:00,  2.07it/s]\n",
      "2022-06-08 11:29:47,974 INFO: Epoch:[131/500]\n",
      "2022-06-08 11:29:47,975 INFO: Train Loss:2.907 | Acc:0.4084 | F1:0.3467\n"
     ]
    },
    {
     "name": "stdout",
     "output_type": "stream",
     "text": [
      "\n",
      "best epoch:130/loss:2.7520/f1:0.3766\n"
     ]
    },
    {
     "name": "stderr",
     "output_type": "stream",
     "text": [
      "100%|███████████████████████████████████████████| 20/20 [00:09<00:00,  2.05it/s]\n",
      "2022-06-08 11:29:57,733 INFO: Epoch:[132/500]\n",
      "2022-06-08 11:29:57,734 INFO: Train Loss:2.742 | Acc:0.4309 | F1:0.3574\n",
      "2022-06-08 11:30:02,248 INFO: -----------------SAVE:132epoch----------------\n"
     ]
    },
    {
     "name": "stdout",
     "output_type": "stream",
     "text": [
      "\n",
      "best epoch:132/loss:2.7422/f1:0.3574\n"
     ]
    },
    {
     "name": "stderr",
     "output_type": "stream",
     "text": [
      "100%|███████████████████████████████████████████| 20/20 [00:09<00:00,  2.04it/s]\n",
      "2022-06-08 11:30:12,077 INFO: Epoch:[133/500]\n",
      "2022-06-08 11:30:12,078 INFO: Train Loss:2.708 | Acc:0.4662 | F1:0.3980\n",
      "2022-06-08 11:30:16,690 INFO: -----------------SAVE:133epoch----------------\n"
     ]
    },
    {
     "name": "stdout",
     "output_type": "stream",
     "text": [
      "\n",
      "best epoch:133/loss:2.7083/f1:0.3980\n"
     ]
    },
    {
     "name": "stderr",
     "output_type": "stream",
     "text": [
      "100%|███████████████████████████████████████████| 20/20 [00:09<00:00,  2.07it/s]\n",
      "2022-06-08 11:30:26,381 INFO: Epoch:[134/500]\n",
      "2022-06-08 11:30:26,382 INFO: Train Loss:2.635 | Acc:0.4984 | F1:0.4297\n",
      "2022-06-08 11:30:30,880 INFO: -----------------SAVE:134epoch----------------\n"
     ]
    },
    {
     "name": "stdout",
     "output_type": "stream",
     "text": [
      "\n",
      "best epoch:134/loss:2.6350/f1:0.4297\n"
     ]
    },
    {
     "name": "stderr",
     "output_type": "stream",
     "text": [
      "100%|███████████████████████████████████████████| 20/20 [00:09<00:00,  2.10it/s]\n",
      "2022-06-08 11:30:40,400 INFO: Epoch:[135/500]\n",
      "2022-06-08 11:30:40,401 INFO: Train Loss:2.705 | Acc:0.4373 | F1:0.3662\n"
     ]
    },
    {
     "name": "stdout",
     "output_type": "stream",
     "text": [
      "\n",
      "best epoch:134/loss:2.6350/f1:0.4297\n"
     ]
    },
    {
     "name": "stderr",
     "output_type": "stream",
     "text": [
      "100%|███████████████████████████████████████████| 20/20 [00:09<00:00,  2.08it/s]\n",
      "2022-06-08 11:30:50,022 INFO: Epoch:[136/500]\n",
      "2022-06-08 11:30:50,022 INFO: Train Loss:2.756 | Acc:0.4341 | F1:0.3572\n"
     ]
    },
    {
     "name": "stdout",
     "output_type": "stream",
     "text": [
      "\n",
      "best epoch:134/loss:2.6350/f1:0.4297\n"
     ]
    },
    {
     "name": "stderr",
     "output_type": "stream",
     "text": [
      "100%|███████████████████████████████████████████| 20/20 [00:09<00:00,  2.13it/s]\n",
      "2022-06-08 11:30:59,442 INFO: Epoch:[137/500]\n",
      "2022-06-08 11:30:59,443 INFO: Train Loss:2.638 | Acc:0.4277 | F1:0.3506\n"
     ]
    },
    {
     "name": "stdout",
     "output_type": "stream",
     "text": [
      "\n",
      "best epoch:134/loss:2.6350/f1:0.4297\n"
     ]
    },
    {
     "name": "stderr",
     "output_type": "stream",
     "text": [
      "100%|███████████████████████████████████████████| 20/20 [00:09<00:00,  2.13it/s]\n",
      "2022-06-08 11:31:08,823 INFO: Epoch:[138/500]\n",
      "2022-06-08 11:31:08,824 INFO: Train Loss:2.652 | Acc:0.4437 | F1:0.3685\n"
     ]
    },
    {
     "name": "stdout",
     "output_type": "stream",
     "text": [
      "\n",
      "best epoch:134/loss:2.6350/f1:0.4297\n"
     ]
    },
    {
     "name": "stderr",
     "output_type": "stream",
     "text": [
      "100%|███████████████████████████████████████████| 20/20 [00:09<00:00,  2.08it/s]\n",
      "2022-06-08 11:31:18,458 INFO: Epoch:[139/500]\n",
      "2022-06-08 11:31:18,459 INFO: Train Loss:2.671 | Acc:0.4534 | F1:0.3855\n"
     ]
    },
    {
     "name": "stdout",
     "output_type": "stream",
     "text": [
      "\n",
      "best epoch:134/loss:2.6350/f1:0.4297\n"
     ]
    },
    {
     "name": "stderr",
     "output_type": "stream",
     "text": [
      "100%|███████████████████████████████████████████| 20/20 [00:09<00:00,  2.11it/s]\n",
      "2022-06-08 11:31:27,933 INFO: Epoch:[140/500]\n",
      "2022-06-08 11:31:27,934 INFO: Train Loss:2.641 | Acc:0.4887 | F1:0.4117\n"
     ]
    },
    {
     "name": "stdout",
     "output_type": "stream",
     "text": [
      "\n",
      "best epoch:134/loss:2.6350/f1:0.4297\n"
     ]
    },
    {
     "name": "stderr",
     "output_type": "stream",
     "text": [
      "100%|███████████████████████████████████████████| 20/20 [00:09<00:00,  2.10it/s]\n",
      "2022-06-08 11:31:37,468 INFO: Epoch:[141/500]\n",
      "2022-06-08 11:31:37,468 INFO: Train Loss:2.636 | Acc:0.4727 | F1:0.4074\n"
     ]
    },
    {
     "name": "stdout",
     "output_type": "stream",
     "text": [
      "\n",
      "best epoch:134/loss:2.6350/f1:0.4297\n"
     ]
    },
    {
     "name": "stderr",
     "output_type": "stream",
     "text": [
      "100%|███████████████████████████████████████████| 20/20 [00:09<00:00,  2.12it/s]\n",
      "2022-06-08 11:31:46,914 INFO: Epoch:[142/500]\n",
      "2022-06-08 11:31:46,914 INFO: Train Loss:2.617 | Acc:0.4598 | F1:0.3860\n",
      "2022-06-08 11:31:51,412 INFO: -----------------SAVE:142epoch----------------\n"
     ]
    },
    {
     "name": "stdout",
     "output_type": "stream",
     "text": [
      "\n",
      "best epoch:142/loss:2.6171/f1:0.3860\n"
     ]
    },
    {
     "name": "stderr",
     "output_type": "stream",
     "text": [
      "100%|███████████████████████████████████████████| 20/20 [00:09<00:00,  2.09it/s]\n",
      "2022-06-08 11:32:00,969 INFO: Epoch:[143/500]\n",
      "2022-06-08 11:32:00,970 INFO: Train Loss:2.483 | Acc:0.4791 | F1:0.4004\n",
      "2022-06-08 11:32:05,473 INFO: -----------------SAVE:143epoch----------------\n"
     ]
    },
    {
     "name": "stdout",
     "output_type": "stream",
     "text": [
      "\n",
      "best epoch:143/loss:2.4828/f1:0.4004\n"
     ]
    },
    {
     "name": "stderr",
     "output_type": "stream",
     "text": [
      "100%|███████████████████████████████████████████| 20/20 [00:09<00:00,  2.05it/s]\n",
      "2022-06-08 11:32:15,260 INFO: Epoch:[144/500]\n",
      "2022-06-08 11:32:15,261 INFO: Train Loss:2.480 | Acc:0.5209 | F1:0.4589\n",
      "2022-06-08 11:32:19,769 INFO: -----------------SAVE:144epoch----------------\n"
     ]
    },
    {
     "name": "stdout",
     "output_type": "stream",
     "text": [
      "\n",
      "best epoch:144/loss:2.4799/f1:0.4589\n"
     ]
    },
    {
     "name": "stderr",
     "output_type": "stream",
     "text": [
      "100%|███████████████████████████████████████████| 20/20 [00:09<00:00,  2.11it/s]\n",
      "2022-06-08 11:32:29,236 INFO: Epoch:[145/500]\n",
      "2022-06-08 11:32:29,236 INFO: Train Loss:2.345 | Acc:0.5563 | F1:0.4986\n",
      "2022-06-08 11:32:33,742 INFO: -----------------SAVE:145epoch----------------\n"
     ]
    },
    {
     "name": "stdout",
     "output_type": "stream",
     "text": [
      "\n",
      "best epoch:145/loss:2.3449/f1:0.4986\n"
     ]
    },
    {
     "name": "stderr",
     "output_type": "stream",
     "text": [
      "100%|███████████████████████████████████████████| 20/20 [00:09<00:00,  2.07it/s]\n",
      "2022-06-08 11:32:43,407 INFO: Epoch:[146/500]\n",
      "2022-06-08 11:32:43,408 INFO: Train Loss:2.563 | Acc:0.4695 | F1:0.4007\n"
     ]
    },
    {
     "name": "stdout",
     "output_type": "stream",
     "text": [
      "\n",
      "best epoch:145/loss:2.3449/f1:0.4986\n"
     ]
    },
    {
     "name": "stderr",
     "output_type": "stream",
     "text": [
      "100%|███████████████████████████████████████████| 20/20 [00:09<00:00,  2.07it/s]\n",
      "2022-06-08 11:32:53,098 INFO: Epoch:[147/500]\n",
      "2022-06-08 11:32:53,098 INFO: Train Loss:2.198 | Acc:0.5659 | F1:0.4915\n",
      "2022-06-08 11:32:57,598 INFO: -----------------SAVE:147epoch----------------\n"
     ]
    },
    {
     "name": "stdout",
     "output_type": "stream",
     "text": [
      "\n",
      "best epoch:147/loss:2.1977/f1:0.4915\n"
     ]
    },
    {
     "name": "stderr",
     "output_type": "stream",
     "text": [
      "100%|███████████████████████████████████████████| 20/20 [00:09<00:00,  2.09it/s]\n",
      "2022-06-08 11:33:07,170 INFO: Epoch:[148/500]\n",
      "2022-06-08 11:33:07,170 INFO: Train Loss:2.402 | Acc:0.5080 | F1:0.4285\n"
     ]
    },
    {
     "name": "stdout",
     "output_type": "stream",
     "text": [
      "\n",
      "best epoch:147/loss:2.1977/f1:0.4915\n"
     ]
    },
    {
     "name": "stderr",
     "output_type": "stream",
     "text": [
      "100%|███████████████████████████████████████████| 20/20 [00:09<00:00,  2.10it/s]\n",
      "2022-06-08 11:33:16,698 INFO: Epoch:[149/500]\n",
      "2022-06-08 11:33:16,699 INFO: Train Loss:2.359 | Acc:0.5209 | F1:0.4577\n"
     ]
    },
    {
     "name": "stdout",
     "output_type": "stream",
     "text": [
      "\n",
      "best epoch:147/loss:2.1977/f1:0.4915\n"
     ]
    },
    {
     "name": "stderr",
     "output_type": "stream",
     "text": [
      "100%|███████████████████████████████████████████| 20/20 [00:09<00:00,  2.12it/s]\n",
      "2022-06-08 11:33:26,145 INFO: Epoch:[150/500]\n",
      "2022-06-08 11:33:26,146 INFO: Train Loss:2.353 | Acc:0.5305 | F1:0.4550\n"
     ]
    },
    {
     "name": "stdout",
     "output_type": "stream",
     "text": [
      "\n",
      "best epoch:147/loss:2.1977/f1:0.4915\n"
     ]
    },
    {
     "name": "stderr",
     "output_type": "stream",
     "text": [
      "100%|███████████████████████████████████████████| 20/20 [00:09<00:00,  2.06it/s]\n",
      "2022-06-08 11:33:35,860 INFO: Epoch:[151/500]\n",
      "2022-06-08 11:33:35,861 INFO: Train Loss:2.200 | Acc:0.5595 | F1:0.4786\n"
     ]
    },
    {
     "name": "stdout",
     "output_type": "stream",
     "text": [
      "\n",
      "best epoch:147/loss:2.1977/f1:0.4915\n"
     ]
    },
    {
     "name": "stderr",
     "output_type": "stream",
     "text": [
      "100%|███████████████████████████████████████████| 20/20 [00:09<00:00,  2.08it/s]\n",
      "2022-06-08 11:33:45,504 INFO: Epoch:[152/500]\n",
      "2022-06-08 11:33:45,505 INFO: Train Loss:2.265 | Acc:0.5016 | F1:0.4219\n"
     ]
    },
    {
     "name": "stdout",
     "output_type": "stream",
     "text": [
      "\n",
      "best epoch:147/loss:2.1977/f1:0.4915\n"
     ]
    },
    {
     "name": "stderr",
     "output_type": "stream",
     "text": [
      "100%|███████████████████████████████████████████| 20/20 [00:09<00:00,  2.08it/s]\n",
      "2022-06-08 11:33:55,125 INFO: Epoch:[153/500]\n",
      "2022-06-08 11:33:55,125 INFO: Train Loss:2.137 | Acc:0.5852 | F1:0.5224\n",
      "2022-06-08 11:33:59,731 INFO: -----------------SAVE:153epoch----------------\n"
     ]
    },
    {
     "name": "stdout",
     "output_type": "stream",
     "text": [
      "\n",
      "best epoch:153/loss:2.1372/f1:0.5224\n"
     ]
    },
    {
     "name": "stderr",
     "output_type": "stream",
     "text": [
      "100%|███████████████████████████████████████████| 20/20 [00:09<00:00,  2.09it/s]\n",
      "2022-06-08 11:34:09,290 INFO: Epoch:[154/500]\n",
      "2022-06-08 11:34:09,290 INFO: Train Loss:2.203 | Acc:0.5338 | F1:0.4872\n"
     ]
    },
    {
     "name": "stdout",
     "output_type": "stream",
     "text": [
      "\n",
      "best epoch:153/loss:2.1372/f1:0.5224\n"
     ]
    },
    {
     "name": "stderr",
     "output_type": "stream",
     "text": [
      "100%|███████████████████████████████████████████| 20/20 [00:09<00:00,  2.12it/s]\n",
      "2022-06-08 11:34:18,735 INFO: Epoch:[155/500]\n",
      "2022-06-08 11:34:18,736 INFO: Train Loss:2.262 | Acc:0.5241 | F1:0.4558\n"
     ]
    },
    {
     "name": "stdout",
     "output_type": "stream",
     "text": [
      "\n",
      "best epoch:153/loss:2.1372/f1:0.5224\n"
     ]
    },
    {
     "name": "stderr",
     "output_type": "stream",
     "text": [
      "100%|███████████████████████████████████████████| 20/20 [00:09<00:00,  2.09it/s]\n",
      "2022-06-08 11:34:28,311 INFO: Epoch:[156/500]\n",
      "2022-06-08 11:34:28,312 INFO: Train Loss:2.226 | Acc:0.5402 | F1:0.4726\n"
     ]
    },
    {
     "name": "stdout",
     "output_type": "stream",
     "text": [
      "\n",
      "best epoch:153/loss:2.1372/f1:0.5224\n"
     ]
    },
    {
     "name": "stderr",
     "output_type": "stream",
     "text": [
      "100%|███████████████████████████████████████████| 20/20 [00:09<00:00,  2.07it/s]\n",
      "2022-06-08 11:34:37,975 INFO: Epoch:[157/500]\n",
      "2022-06-08 11:34:37,976 INFO: Train Loss:2.087 | Acc:0.5852 | F1:0.5209\n",
      "2022-06-08 11:34:42,466 INFO: -----------------SAVE:157epoch----------------\n"
     ]
    },
    {
     "name": "stdout",
     "output_type": "stream",
     "text": [
      "\n",
      "best epoch:157/loss:2.0870/f1:0.5209\n"
     ]
    },
    {
     "name": "stderr",
     "output_type": "stream",
     "text": [
      "100%|███████████████████████████████████████████| 20/20 [00:09<00:00,  2.06it/s]\n",
      "2022-06-08 11:34:52,167 INFO: Epoch:[158/500]\n",
      "2022-06-08 11:34:52,168 INFO: Train Loss:2.145 | Acc:0.5498 | F1:0.4883\n"
     ]
    },
    {
     "name": "stdout",
     "output_type": "stream",
     "text": [
      "\n",
      "best epoch:157/loss:2.0870/f1:0.5209\n"
     ]
    },
    {
     "name": "stderr",
     "output_type": "stream",
     "text": [
      "100%|███████████████████████████████████████████| 20/20 [00:09<00:00,  2.11it/s]\n",
      "2022-06-08 11:35:01,637 INFO: Epoch:[159/500]\n",
      "2022-06-08 11:35:01,638 INFO: Train Loss:2.013 | Acc:0.5563 | F1:0.4872\n",
      "2022-06-08 11:35:06,144 INFO: -----------------SAVE:159epoch----------------\n"
     ]
    },
    {
     "name": "stdout",
     "output_type": "stream",
     "text": [
      "\n",
      "best epoch:159/loss:2.0130/f1:0.4872\n"
     ]
    },
    {
     "name": "stderr",
     "output_type": "stream",
     "text": [
      "100%|███████████████████████████████████████████| 20/20 [00:09<00:00,  2.10it/s]\n",
      "2022-06-08 11:35:15,679 INFO: Epoch:[160/500]\n",
      "2022-06-08 11:35:15,680 INFO: Train Loss:2.103 | Acc:0.5659 | F1:0.4995\n"
     ]
    },
    {
     "name": "stdout",
     "output_type": "stream",
     "text": [
      "\n",
      "best epoch:159/loss:2.0130/f1:0.4872\n"
     ]
    },
    {
     "name": "stderr",
     "output_type": "stream",
     "text": [
      "100%|███████████████████████████████████████████| 20/20 [00:09<00:00,  2.10it/s]\n",
      "2022-06-08 11:35:25,213 INFO: Epoch:[161/500]\n",
      "2022-06-08 11:35:25,213 INFO: Train Loss:2.105 | Acc:0.5627 | F1:0.4938\n"
     ]
    },
    {
     "name": "stdout",
     "output_type": "stream",
     "text": [
      "\n",
      "best epoch:159/loss:2.0130/f1:0.4872\n"
     ]
    },
    {
     "name": "stderr",
     "output_type": "stream",
     "text": [
      "100%|███████████████████████████████████████████| 20/20 [00:09<00:00,  2.12it/s]\n",
      "2022-06-08 11:35:34,676 INFO: Epoch:[162/500]\n",
      "2022-06-08 11:35:34,676 INFO: Train Loss:2.075 | Acc:0.5884 | F1:0.5141\n"
     ]
    },
    {
     "name": "stdout",
     "output_type": "stream",
     "text": [
      "\n",
      "best epoch:159/loss:2.0130/f1:0.4872\n"
     ]
    },
    {
     "name": "stderr",
     "output_type": "stream",
     "text": [
      "100%|███████████████████████████████████████████| 20/20 [00:09<00:00,  2.12it/s]\n",
      "2022-06-08 11:35:44,100 INFO: Epoch:[163/500]\n",
      "2022-06-08 11:35:44,100 INFO: Train Loss:1.979 | Acc:0.5691 | F1:0.4905\n",
      "2022-06-08 11:35:48,610 INFO: -----------------SAVE:163epoch----------------\n"
     ]
    },
    {
     "name": "stdout",
     "output_type": "stream",
     "text": [
      "\n",
      "best epoch:163/loss:1.9789/f1:0.4905\n"
     ]
    },
    {
     "name": "stderr",
     "output_type": "stream",
     "text": [
      "100%|███████████████████████████████████████████| 20/20 [00:09<00:00,  2.06it/s]\n",
      "2022-06-08 11:35:58,308 INFO: Epoch:[164/500]\n",
      "2022-06-08 11:35:58,308 INFO: Train Loss:1.982 | Acc:0.5884 | F1:0.5146\n"
     ]
    },
    {
     "name": "stdout",
     "output_type": "stream",
     "text": [
      "\n",
      "best epoch:163/loss:1.9789/f1:0.4905\n"
     ]
    },
    {
     "name": "stderr",
     "output_type": "stream",
     "text": [
      "100%|███████████████████████████████████████████| 20/20 [00:09<00:00,  2.13it/s]\n",
      "2022-06-08 11:36:07,709 INFO: Epoch:[165/500]\n",
      "2022-06-08 11:36:07,709 INFO: Train Loss:2.043 | Acc:0.5788 | F1:0.5103\n"
     ]
    },
    {
     "name": "stdout",
     "output_type": "stream",
     "text": [
      "\n",
      "best epoch:163/loss:1.9789/f1:0.4905\n"
     ]
    },
    {
     "name": "stderr",
     "output_type": "stream",
     "text": [
      "100%|███████████████████████████████████████████| 20/20 [00:09<00:00,  2.14it/s]\n",
      "2022-06-08 11:36:17,080 INFO: Epoch:[166/500]\n",
      "2022-06-08 11:36:17,081 INFO: Train Loss:1.963 | Acc:0.5788 | F1:0.5066\n",
      "2022-06-08 11:36:21,569 INFO: -----------------SAVE:166epoch----------------\n"
     ]
    },
    {
     "name": "stdout",
     "output_type": "stream",
     "text": [
      "\n",
      "best epoch:166/loss:1.9635/f1:0.5066\n"
     ]
    },
    {
     "name": "stderr",
     "output_type": "stream",
     "text": [
      "100%|███████████████████████████████████████████| 20/20 [00:09<00:00,  2.09it/s]\n",
      "2022-06-08 11:36:31,124 INFO: Epoch:[167/500]\n",
      "2022-06-08 11:36:31,125 INFO: Train Loss:1.966 | Acc:0.5531 | F1:0.4860\n"
     ]
    },
    {
     "name": "stdout",
     "output_type": "stream",
     "text": [
      "\n",
      "best epoch:166/loss:1.9635/f1:0.5066\n"
     ]
    },
    {
     "name": "stderr",
     "output_type": "stream",
     "text": [
      "100%|███████████████████████████████████████████| 20/20 [00:09<00:00,  2.10it/s]\n",
      "2022-06-08 11:36:40,682 INFO: Epoch:[168/500]\n",
      "2022-06-08 11:36:40,682 INFO: Train Loss:1.973 | Acc:0.5884 | F1:0.5281\n"
     ]
    },
    {
     "name": "stdout",
     "output_type": "stream",
     "text": [
      "\n",
      "best epoch:166/loss:1.9635/f1:0.5066\n"
     ]
    },
    {
     "name": "stderr",
     "output_type": "stream",
     "text": [
      "100%|███████████████████████████████████████████| 20/20 [00:09<00:00,  2.10it/s]\n",
      "2022-06-08 11:36:50,197 INFO: Epoch:[169/500]\n",
      "2022-06-08 11:36:50,197 INFO: Train Loss:1.967 | Acc:0.6045 | F1:0.5434\n"
     ]
    },
    {
     "name": "stdout",
     "output_type": "stream",
     "text": [
      "\n",
      "best epoch:166/loss:1.9635/f1:0.5066\n"
     ]
    },
    {
     "name": "stderr",
     "output_type": "stream",
     "text": [
      "100%|███████████████████████████████████████████| 20/20 [00:09<00:00,  2.09it/s]\n",
      "2022-06-08 11:36:59,789 INFO: Epoch:[170/500]\n",
      "2022-06-08 11:36:59,789 INFO: Train Loss:1.818 | Acc:0.6238 | F1:0.5677\n",
      "2022-06-08 11:37:04,282 INFO: -----------------SAVE:170epoch----------------\n"
     ]
    },
    {
     "name": "stdout",
     "output_type": "stream",
     "text": [
      "\n",
      "best epoch:170/loss:1.8183/f1:0.5677\n"
     ]
    },
    {
     "name": "stderr",
     "output_type": "stream",
     "text": [
      "100%|███████████████████████████████████████████| 20/20 [00:09<00:00,  2.09it/s]\n",
      "2022-06-08 11:37:13,838 INFO: Epoch:[171/500]\n",
      "2022-06-08 11:37:13,838 INFO: Train Loss:1.996 | Acc:0.5949 | F1:0.5283\n"
     ]
    },
    {
     "name": "stdout",
     "output_type": "stream",
     "text": [
      "\n",
      "best epoch:170/loss:1.8183/f1:0.5677\n"
     ]
    },
    {
     "name": "stderr",
     "output_type": "stream",
     "text": [
      "100%|███████████████████████████████████████████| 20/20 [00:09<00:00,  2.12it/s]\n",
      "2022-06-08 11:37:23,289 INFO: Epoch:[172/500]\n",
      "2022-06-08 11:37:23,290 INFO: Train Loss:1.995 | Acc:0.5563 | F1:0.4935\n"
     ]
    },
    {
     "name": "stdout",
     "output_type": "stream",
     "text": [
      "\n",
      "best epoch:170/loss:1.8183/f1:0.5677\n"
     ]
    },
    {
     "name": "stderr",
     "output_type": "stream",
     "text": [
      "100%|███████████████████████████████████████████| 20/20 [00:09<00:00,  2.08it/s]\n",
      "2022-06-08 11:37:32,925 INFO: Epoch:[173/500]\n",
      "2022-06-08 11:37:32,926 INFO: Train Loss:1.921 | Acc:0.6077 | F1:0.5396\n"
     ]
    },
    {
     "name": "stdout",
     "output_type": "stream",
     "text": [
      "\n",
      "best epoch:170/loss:1.8183/f1:0.5677\n"
     ]
    },
    {
     "name": "stderr",
     "output_type": "stream",
     "text": [
      "100%|███████████████████████████████████████████| 20/20 [00:09<00:00,  2.09it/s]\n",
      "2022-06-08 11:37:42,497 INFO: Epoch:[174/500]\n",
      "2022-06-08 11:37:42,498 INFO: Train Loss:1.886 | Acc:0.6141 | F1:0.5499\n"
     ]
    },
    {
     "name": "stdout",
     "output_type": "stream",
     "text": [
      "\n",
      "best epoch:170/loss:1.8183/f1:0.5677\n"
     ]
    },
    {
     "name": "stderr",
     "output_type": "stream",
     "text": [
      "100%|███████████████████████████████████████████| 20/20 [00:09<00:00,  2.07it/s]\n",
      "2022-06-08 11:37:52,151 INFO: Epoch:[175/500]\n",
      "2022-06-08 11:37:52,152 INFO: Train Loss:1.899 | Acc:0.5981 | F1:0.5250\n"
     ]
    },
    {
     "name": "stdout",
     "output_type": "stream",
     "text": [
      "\n",
      "best epoch:170/loss:1.8183/f1:0.5677\n"
     ]
    },
    {
     "name": "stderr",
     "output_type": "stream",
     "text": [
      "100%|███████████████████████████████████████████| 20/20 [00:09<00:00,  2.09it/s]\n",
      "2022-06-08 11:38:01,722 INFO: Epoch:[176/500]\n",
      "2022-06-08 11:38:01,723 INFO: Train Loss:1.779 | Acc:0.6013 | F1:0.5320\n",
      "2022-06-08 11:38:06,212 INFO: -----------------SAVE:176epoch----------------\n"
     ]
    },
    {
     "name": "stdout",
     "output_type": "stream",
     "text": [
      "\n",
      "best epoch:176/loss:1.7789/f1:0.5320\n"
     ]
    },
    {
     "name": "stderr",
     "output_type": "stream",
     "text": [
      "100%|███████████████████████████████████████████| 20/20 [00:09<00:00,  2.08it/s]\n",
      "2022-06-08 11:38:15,829 INFO: Epoch:[177/500]\n",
      "2022-06-08 11:38:15,829 INFO: Train Loss:1.737 | Acc:0.6431 | F1:0.5829\n",
      "2022-06-08 11:38:20,446 INFO: -----------------SAVE:177epoch----------------\n"
     ]
    },
    {
     "name": "stdout",
     "output_type": "stream",
     "text": [
      "\n",
      "best epoch:177/loss:1.7372/f1:0.5829\n"
     ]
    },
    {
     "name": "stderr",
     "output_type": "stream",
     "text": [
      "100%|███████████████████████████████████████████| 20/20 [00:09<00:00,  2.09it/s]\n",
      "2022-06-08 11:38:30,030 INFO: Epoch:[178/500]\n",
      "2022-06-08 11:38:30,031 INFO: Train Loss:1.771 | Acc:0.6399 | F1:0.5892\n"
     ]
    },
    {
     "name": "stdout",
     "output_type": "stream",
     "text": [
      "\n",
      "best epoch:177/loss:1.7372/f1:0.5829\n"
     ]
    },
    {
     "name": "stderr",
     "output_type": "stream",
     "text": [
      "100%|███████████████████████████████████████████| 20/20 [00:09<00:00,  2.11it/s]\n",
      "2022-06-08 11:38:39,499 INFO: Epoch:[179/500]\n",
      "2022-06-08 11:38:39,500 INFO: Train Loss:1.770 | Acc:0.6174 | F1:0.5405\n"
     ]
    },
    {
     "name": "stdout",
     "output_type": "stream",
     "text": [
      "\n",
      "best epoch:177/loss:1.7372/f1:0.5829\n"
     ]
    },
    {
     "name": "stderr",
     "output_type": "stream",
     "text": [
      "100%|███████████████████████████████████████████| 20/20 [00:09<00:00,  2.05it/s]\n",
      "2022-06-08 11:38:49,267 INFO: Epoch:[180/500]\n",
      "2022-06-08 11:38:49,268 INFO: Train Loss:1.835 | Acc:0.6109 | F1:0.5532\n"
     ]
    },
    {
     "name": "stdout",
     "output_type": "stream",
     "text": [
      "\n",
      "best epoch:177/loss:1.7372/f1:0.5829\n"
     ]
    },
    {
     "name": "stderr",
     "output_type": "stream",
     "text": [
      "100%|███████████████████████████████████████████| 20/20 [00:09<00:00,  2.08it/s]\n",
      "2022-06-08 11:38:58,891 INFO: Epoch:[181/500]\n",
      "2022-06-08 11:38:58,892 INFO: Train Loss:1.643 | Acc:0.6752 | F1:0.6154\n",
      "2022-06-08 11:39:03,381 INFO: -----------------SAVE:181epoch----------------\n"
     ]
    },
    {
     "name": "stdout",
     "output_type": "stream",
     "text": [
      "\n",
      "best epoch:181/loss:1.6432/f1:0.6154\n"
     ]
    },
    {
     "name": "stderr",
     "output_type": "stream",
     "text": [
      "100%|███████████████████████████████████████████| 20/20 [00:09<00:00,  2.10it/s]\n",
      "2022-06-08 11:39:12,907 INFO: Epoch:[182/500]\n",
      "2022-06-08 11:39:12,908 INFO: Train Loss:1.814 | Acc:0.5916 | F1:0.5259\n"
     ]
    },
    {
     "name": "stdout",
     "output_type": "stream",
     "text": [
      "\n",
      "best epoch:181/loss:1.6432/f1:0.6154\n"
     ]
    },
    {
     "name": "stderr",
     "output_type": "stream",
     "text": [
      "100%|███████████████████████████████████████████| 20/20 [00:09<00:00,  2.12it/s]\n",
      "2022-06-08 11:39:22,336 INFO: Epoch:[183/500]\n",
      "2022-06-08 11:39:22,337 INFO: Train Loss:1.849 | Acc:0.5916 | F1:0.5281\n"
     ]
    },
    {
     "name": "stdout",
     "output_type": "stream",
     "text": [
      "\n",
      "best epoch:181/loss:1.6432/f1:0.6154\n"
     ]
    },
    {
     "name": "stderr",
     "output_type": "stream",
     "text": [
      "100%|███████████████████████████████████████████| 20/20 [00:09<00:00,  2.07it/s]\n",
      "2022-06-08 11:39:32,019 INFO: Epoch:[184/500]\n",
      "2022-06-08 11:39:32,020 INFO: Train Loss:1.758 | Acc:0.6431 | F1:0.5900\n"
     ]
    },
    {
     "name": "stdout",
     "output_type": "stream",
     "text": [
      "\n",
      "best epoch:181/loss:1.6432/f1:0.6154\n"
     ]
    },
    {
     "name": "stderr",
     "output_type": "stream",
     "text": [
      "100%|███████████████████████████████████████████| 20/20 [00:09<00:00,  2.11it/s]\n",
      "2022-06-08 11:39:41,517 INFO: Epoch:[185/500]\n",
      "2022-06-08 11:39:41,518 INFO: Train Loss:1.712 | Acc:0.6527 | F1:0.5897\n"
     ]
    },
    {
     "name": "stdout",
     "output_type": "stream",
     "text": [
      "\n",
      "best epoch:181/loss:1.6432/f1:0.6154\n"
     ]
    },
    {
     "name": "stderr",
     "output_type": "stream",
     "text": [
      "100%|███████████████████████████████████████████| 20/20 [00:09<00:00,  2.09it/s]\n",
      "2022-06-08 11:39:51,083 INFO: Epoch:[186/500]\n",
      "2022-06-08 11:39:51,084 INFO: Train Loss:1.681 | Acc:0.6463 | F1:0.5838\n"
     ]
    },
    {
     "name": "stdout",
     "output_type": "stream",
     "text": [
      "\n",
      "best epoch:181/loss:1.6432/f1:0.6154\n"
     ]
    },
    {
     "name": "stderr",
     "output_type": "stream",
     "text": [
      "100%|███████████████████████████████████████████| 20/20 [00:09<00:00,  2.05it/s]\n",
      "2022-06-08 11:40:00,852 INFO: Epoch:[187/500]\n",
      "2022-06-08 11:40:00,853 INFO: Train Loss:1.631 | Acc:0.6431 | F1:0.5756\n",
      "2022-06-08 11:40:05,375 INFO: -----------------SAVE:187epoch----------------\n"
     ]
    },
    {
     "name": "stdout",
     "output_type": "stream",
     "text": [
      "\n",
      "best epoch:187/loss:1.6310/f1:0.5756\n"
     ]
    },
    {
     "name": "stderr",
     "output_type": "stream",
     "text": [
      "100%|███████████████████████████████████████████| 20/20 [00:09<00:00,  2.05it/s]\n",
      "2022-06-08 11:40:15,121 INFO: Epoch:[188/500]\n",
      "2022-06-08 11:40:15,121 INFO: Train Loss:1.627 | Acc:0.6559 | F1:0.5919\n",
      "2022-06-08 11:40:19,604 INFO: -----------------SAVE:188epoch----------------\n"
     ]
    },
    {
     "name": "stdout",
     "output_type": "stream",
     "text": [
      "\n",
      "best epoch:188/loss:1.6271/f1:0.5919\n"
     ]
    },
    {
     "name": "stderr",
     "output_type": "stream",
     "text": [
      "100%|███████████████████████████████████████████| 20/20 [00:09<00:00,  2.07it/s]\n",
      "2022-06-08 11:40:29,274 INFO: Epoch:[189/500]\n",
      "2022-06-08 11:40:29,274 INFO: Train Loss:1.683 | Acc:0.6431 | F1:0.5763\n"
     ]
    },
    {
     "name": "stdout",
     "output_type": "stream",
     "text": [
      "\n",
      "best epoch:188/loss:1.6271/f1:0.5919\n"
     ]
    },
    {
     "name": "stderr",
     "output_type": "stream",
     "text": [
      "100%|███████████████████████████████████████████| 20/20 [00:09<00:00,  2.06it/s]\n",
      "2022-06-08 11:40:39,008 INFO: Epoch:[190/500]\n",
      "2022-06-08 11:40:39,009 INFO: Train Loss:1.570 | Acc:0.6109 | F1:0.5481\n",
      "2022-06-08 11:40:43,494 INFO: -----------------SAVE:190epoch----------------\n"
     ]
    },
    {
     "name": "stdout",
     "output_type": "stream",
     "text": [
      "\n",
      "best epoch:190/loss:1.5698/f1:0.5481\n"
     ]
    },
    {
     "name": "stderr",
     "output_type": "stream",
     "text": [
      "100%|███████████████████████████████████████████| 20/20 [00:09<00:00,  2.07it/s]\n",
      "2022-06-08 11:40:53,179 INFO: Epoch:[191/500]\n",
      "2022-06-08 11:40:53,179 INFO: Train Loss:1.671 | Acc:0.6559 | F1:0.6083\n"
     ]
    },
    {
     "name": "stdout",
     "output_type": "stream",
     "text": [
      "\n",
      "best epoch:190/loss:1.5698/f1:0.5481\n"
     ]
    },
    {
     "name": "stderr",
     "output_type": "stream",
     "text": [
      "100%|███████████████████████████████████████████| 20/20 [00:09<00:00,  2.09it/s]\n",
      "2022-06-08 11:41:02,752 INFO: Epoch:[192/500]\n",
      "2022-06-08 11:41:02,753 INFO: Train Loss:1.817 | Acc:0.5820 | F1:0.5164\n"
     ]
    },
    {
     "name": "stdout",
     "output_type": "stream",
     "text": [
      "\n",
      "best epoch:190/loss:1.5698/f1:0.5481\n"
     ]
    },
    {
     "name": "stderr",
     "output_type": "stream",
     "text": [
      "100%|███████████████████████████████████████████| 20/20 [00:09<00:00,  2.08it/s]\n",
      "2022-06-08 11:41:12,357 INFO: Epoch:[193/500]\n",
      "2022-06-08 11:41:12,358 INFO: Train Loss:1.638 | Acc:0.6206 | F1:0.5606\n"
     ]
    },
    {
     "name": "stdout",
     "output_type": "stream",
     "text": [
      "\n",
      "best epoch:190/loss:1.5698/f1:0.5481\n"
     ]
    },
    {
     "name": "stderr",
     "output_type": "stream",
     "text": [
      "100%|███████████████████████████████████████████| 20/20 [00:09<00:00,  2.10it/s]\n",
      "2022-06-08 11:41:21,896 INFO: Epoch:[194/500]\n",
      "2022-06-08 11:41:21,896 INFO: Train Loss:1.541 | Acc:0.6495 | F1:0.5859\n",
      "2022-06-08 11:41:25,600 INFO: -----------------SAVE:194epoch----------------\n"
     ]
    },
    {
     "name": "stdout",
     "output_type": "stream",
     "text": [
      "\n",
      "best epoch:194/loss:1.5415/f1:0.5859\n"
     ]
    },
    {
     "name": "stderr",
     "output_type": "stream",
     "text": [
      "100%|███████████████████████████████████████████| 20/20 [00:09<00:00,  2.06it/s]\n",
      "2022-06-08 11:41:35,306 INFO: Epoch:[195/500]\n",
      "2022-06-08 11:41:35,306 INFO: Train Loss:1.661 | Acc:0.6688 | F1:0.6155\n"
     ]
    },
    {
     "name": "stdout",
     "output_type": "stream",
     "text": [
      "\n",
      "best epoch:194/loss:1.5415/f1:0.5859\n"
     ]
    },
    {
     "name": "stderr",
     "output_type": "stream",
     "text": [
      "100%|███████████████████████████████████████████| 20/20 [00:09<00:00,  2.06it/s]\n",
      "2022-06-08 11:41:45,015 INFO: Epoch:[196/500]\n",
      "2022-06-08 11:41:45,016 INFO: Train Loss:1.482 | Acc:0.6656 | F1:0.6058\n",
      "2022-06-08 11:41:49,536 INFO: -----------------SAVE:196epoch----------------\n"
     ]
    },
    {
     "name": "stdout",
     "output_type": "stream",
     "text": [
      "\n",
      "best epoch:196/loss:1.4823/f1:0.6058\n"
     ]
    },
    {
     "name": "stderr",
     "output_type": "stream",
     "text": [
      "100%|███████████████████████████████████████████| 20/20 [00:09<00:00,  2.11it/s]\n",
      "2022-06-08 11:41:59,024 INFO: Epoch:[197/500]\n",
      "2022-06-08 11:41:59,024 INFO: Train Loss:1.720 | Acc:0.6270 | F1:0.5657\n"
     ]
    },
    {
     "name": "stdout",
     "output_type": "stream",
     "text": [
      "\n",
      "best epoch:196/loss:1.4823/f1:0.6058\n"
     ]
    },
    {
     "name": "stderr",
     "output_type": "stream",
     "text": [
      "100%|███████████████████████████████████████████| 20/20 [00:09<00:00,  2.10it/s]\n",
      "2022-06-08 11:42:08,580 INFO: Epoch:[198/500]\n",
      "2022-06-08 11:42:08,581 INFO: Train Loss:1.530 | Acc:0.6817 | F1:0.6251\n"
     ]
    },
    {
     "name": "stdout",
     "output_type": "stream",
     "text": [
      "\n",
      "best epoch:196/loss:1.4823/f1:0.6058\n"
     ]
    },
    {
     "name": "stderr",
     "output_type": "stream",
     "text": [
      "100%|███████████████████████████████████████████| 20/20 [00:09<00:00,  2.06it/s]\n",
      "2022-06-08 11:42:18,297 INFO: Epoch:[199/500]\n",
      "2022-06-08 11:42:18,298 INFO: Train Loss:1.604 | Acc:0.6720 | F1:0.6097\n"
     ]
    },
    {
     "name": "stdout",
     "output_type": "stream",
     "text": [
      "\n",
      "best epoch:196/loss:1.4823/f1:0.6058\n"
     ]
    },
    {
     "name": "stderr",
     "output_type": "stream",
     "text": [
      "100%|███████████████████████████████████████████| 20/20 [00:09<00:00,  2.06it/s]\n",
      "2022-06-08 11:42:28,011 INFO: Epoch:[200/500]\n",
      "2022-06-08 11:42:28,012 INFO: Train Loss:1.553 | Acc:0.6463 | F1:0.5915\n"
     ]
    },
    {
     "name": "stdout",
     "output_type": "stream",
     "text": [
      "\n",
      "best epoch:196/loss:1.4823/f1:0.6058\n"
     ]
    },
    {
     "name": "stderr",
     "output_type": "stream",
     "text": [
      "100%|███████████████████████████████████████████| 20/20 [00:09<00:00,  2.08it/s]\n",
      "2022-06-08 11:42:37,658 INFO: Epoch:[201/500]\n",
      "2022-06-08 11:42:37,658 INFO: Train Loss:1.545 | Acc:0.6656 | F1:0.6113\n"
     ]
    },
    {
     "name": "stdout",
     "output_type": "stream",
     "text": [
      "\n",
      "best epoch:196/loss:1.4823/f1:0.6058\n"
     ]
    },
    {
     "name": "stderr",
     "output_type": "stream",
     "text": [
      "100%|███████████████████████████████████████████| 20/20 [00:09<00:00,  2.11it/s]\n",
      "2022-06-08 11:42:47,153 INFO: Epoch:[202/500]\n",
      "2022-06-08 11:42:47,154 INFO: Train Loss:1.572 | Acc:0.6495 | F1:0.5920\n"
     ]
    },
    {
     "name": "stdout",
     "output_type": "stream",
     "text": [
      "\n",
      "best epoch:196/loss:1.4823/f1:0.6058\n"
     ]
    },
    {
     "name": "stderr",
     "output_type": "stream",
     "text": [
      "100%|███████████████████████████████████████████| 20/20 [00:09<00:00,  2.10it/s]\n",
      "2022-06-08 11:42:56,667 INFO: Epoch:[203/500]\n",
      "2022-06-08 11:42:56,667 INFO: Train Loss:1.542 | Acc:0.6817 | F1:0.6180\n"
     ]
    },
    {
     "name": "stdout",
     "output_type": "stream",
     "text": [
      "\n",
      "best epoch:196/loss:1.4823/f1:0.6058\n"
     ]
    },
    {
     "name": "stderr",
     "output_type": "stream",
     "text": [
      "100%|███████████████████████████████████████████| 20/20 [00:09<00:00,  2.11it/s]\n",
      "2022-06-08 11:43:06,178 INFO: Epoch:[204/500]\n",
      "2022-06-08 11:43:06,179 INFO: Train Loss:1.374 | Acc:0.7106 | F1:0.6509\n",
      "2022-06-08 11:43:10,659 INFO: -----------------SAVE:204epoch----------------\n"
     ]
    },
    {
     "name": "stdout",
     "output_type": "stream",
     "text": [
      "\n",
      "best epoch:204/loss:1.3744/f1:0.6509\n"
     ]
    },
    {
     "name": "stderr",
     "output_type": "stream",
     "text": [
      "100%|███████████████████████████████████████████| 20/20 [00:09<00:00,  2.13it/s]\n",
      "2022-06-08 11:43:20,048 INFO: Epoch:[205/500]\n",
      "2022-06-08 11:43:20,048 INFO: Train Loss:1.337 | Acc:0.7042 | F1:0.6399\n",
      "2022-06-08 11:43:24,637 INFO: -----------------SAVE:205epoch----------------\n"
     ]
    },
    {
     "name": "stdout",
     "output_type": "stream",
     "text": [
      "\n",
      "best epoch:205/loss:1.3371/f1:0.6399\n"
     ]
    },
    {
     "name": "stderr",
     "output_type": "stream",
     "text": [
      "100%|███████████████████████████████████████████| 20/20 [00:09<00:00,  2.12it/s]\n",
      "2022-06-08 11:43:34,092 INFO: Epoch:[206/500]\n",
      "2022-06-08 11:43:34,093 INFO: Train Loss:1.447 | Acc:0.6913 | F1:0.6350\n"
     ]
    },
    {
     "name": "stdout",
     "output_type": "stream",
     "text": [
      "\n",
      "best epoch:205/loss:1.3371/f1:0.6399\n"
     ]
    },
    {
     "name": "stderr",
     "output_type": "stream",
     "text": [
      "100%|███████████████████████████████████████████| 20/20 [00:09<00:00,  2.10it/s]\n",
      "2022-06-08 11:43:43,640 INFO: Epoch:[207/500]\n",
      "2022-06-08 11:43:43,641 INFO: Train Loss:1.350 | Acc:0.7331 | F1:0.6823\n"
     ]
    },
    {
     "name": "stdout",
     "output_type": "stream",
     "text": [
      "\n",
      "best epoch:205/loss:1.3371/f1:0.6399\n"
     ]
    },
    {
     "name": "stderr",
     "output_type": "stream",
     "text": [
      "100%|███████████████████████████████████████████| 20/20 [00:09<00:00,  2.07it/s]\n",
      "2022-06-08 11:43:53,306 INFO: Epoch:[208/500]\n",
      "2022-06-08 11:43:53,306 INFO: Train Loss:1.483 | Acc:0.6913 | F1:0.6387\n"
     ]
    },
    {
     "name": "stdout",
     "output_type": "stream",
     "text": [
      "\n",
      "best epoch:205/loss:1.3371/f1:0.6399\n"
     ]
    },
    {
     "name": "stderr",
     "output_type": "stream",
     "text": [
      "100%|███████████████████████████████████████████| 20/20 [00:09<00:00,  2.12it/s]\n",
      "2022-06-08 11:44:02,759 INFO: Epoch:[209/500]\n",
      "2022-06-08 11:44:02,759 INFO: Train Loss:1.421 | Acc:0.6752 | F1:0.6086\n"
     ]
    },
    {
     "name": "stdout",
     "output_type": "stream",
     "text": [
      "\n",
      "best epoch:205/loss:1.3371/f1:0.6399\n"
     ]
    },
    {
     "name": "stderr",
     "output_type": "stream",
     "text": [
      "100%|███████████████████████████████████████████| 20/20 [00:09<00:00,  2.09it/s]\n",
      "2022-06-08 11:44:12,355 INFO: Epoch:[210/500]\n",
      "2022-06-08 11:44:12,355 INFO: Train Loss:1.446 | Acc:0.6656 | F1:0.6112\n"
     ]
    },
    {
     "name": "stdout",
     "output_type": "stream",
     "text": [
      "\n",
      "best epoch:205/loss:1.3371/f1:0.6399\n"
     ]
    },
    {
     "name": "stderr",
     "output_type": "stream",
     "text": [
      "100%|███████████████████████████████████████████| 20/20 [00:09<00:00,  2.10it/s]\n",
      "2022-06-08 11:44:21,903 INFO: Epoch:[211/500]\n",
      "2022-06-08 11:44:21,903 INFO: Train Loss:1.418 | Acc:0.7010 | F1:0.6501\n"
     ]
    },
    {
     "name": "stdout",
     "output_type": "stream",
     "text": [
      "\n",
      "best epoch:205/loss:1.3371/f1:0.6399\n"
     ]
    },
    {
     "name": "stderr",
     "output_type": "stream",
     "text": [
      "100%|███████████████████████████████████████████| 20/20 [00:09<00:00,  2.11it/s]\n",
      "2022-06-08 11:44:31,399 INFO: Epoch:[212/500]\n",
      "2022-06-08 11:44:31,399 INFO: Train Loss:1.293 | Acc:0.7331 | F1:0.6717\n",
      "2022-06-08 11:44:35,871 INFO: -----------------SAVE:212epoch----------------\n"
     ]
    },
    {
     "name": "stdout",
     "output_type": "stream",
     "text": [
      "\n",
      "best epoch:212/loss:1.2934/f1:0.6717\n"
     ]
    },
    {
     "name": "stderr",
     "output_type": "stream",
     "text": [
      "100%|███████████████████████████████████████████| 20/20 [00:09<00:00,  2.09it/s]\n",
      "2022-06-08 11:44:45,446 INFO: Epoch:[213/500]\n",
      "2022-06-08 11:44:45,446 INFO: Train Loss:1.476 | Acc:0.6495 | F1:0.5969\n"
     ]
    },
    {
     "name": "stdout",
     "output_type": "stream",
     "text": [
      "\n",
      "best epoch:212/loss:1.2934/f1:0.6717\n"
     ]
    },
    {
     "name": "stderr",
     "output_type": "stream",
     "text": [
      "100%|███████████████████████████████████████████| 20/20 [00:09<00:00,  2.11it/s]\n",
      "2022-06-08 11:44:54,920 INFO: Epoch:[214/500]\n",
      "2022-06-08 11:44:54,921 INFO: Train Loss:1.375 | Acc:0.7170 | F1:0.6608\n"
     ]
    },
    {
     "name": "stdout",
     "output_type": "stream",
     "text": [
      "\n",
      "best epoch:212/loss:1.2934/f1:0.6717\n"
     ]
    },
    {
     "name": "stderr",
     "output_type": "stream",
     "text": [
      "100%|███████████████████████████████████████████| 20/20 [00:09<00:00,  2.07it/s]\n",
      "2022-06-08 11:45:04,608 INFO: Epoch:[215/500]\n",
      "2022-06-08 11:45:04,608 INFO: Train Loss:1.437 | Acc:0.6752 | F1:0.6174\n"
     ]
    },
    {
     "name": "stdout",
     "output_type": "stream",
     "text": [
      "\n",
      "best epoch:212/loss:1.2934/f1:0.6717\n"
     ]
    },
    {
     "name": "stderr",
     "output_type": "stream",
     "text": [
      "100%|███████████████████████████████████████████| 20/20 [00:09<00:00,  2.06it/s]\n",
      "2022-06-08 11:45:14,308 INFO: Epoch:[216/500]\n",
      "2022-06-08 11:45:14,309 INFO: Train Loss:1.409 | Acc:0.6688 | F1:0.6048\n"
     ]
    },
    {
     "name": "stdout",
     "output_type": "stream",
     "text": [
      "\n",
      "best epoch:212/loss:1.2934/f1:0.6717\n"
     ]
    },
    {
     "name": "stderr",
     "output_type": "stream",
     "text": [
      "100%|███████████████████████████████████████████| 20/20 [00:09<00:00,  2.06it/s]\n",
      "2022-06-08 11:45:24,022 INFO: Epoch:[217/500]\n",
      "2022-06-08 11:45:24,022 INFO: Train Loss:1.207 | Acc:0.7460 | F1:0.6892\n",
      "2022-06-08 11:45:28,562 INFO: -----------------SAVE:217epoch----------------\n"
     ]
    },
    {
     "name": "stdout",
     "output_type": "stream",
     "text": [
      "\n",
      "best epoch:217/loss:1.2066/f1:0.6892\n"
     ]
    },
    {
     "name": "stderr",
     "output_type": "stream",
     "text": [
      "100%|███████████████████████████████████████████| 20/20 [00:09<00:00,  2.07it/s]\n",
      "2022-06-08 11:45:38,240 INFO: Epoch:[218/500]\n",
      "2022-06-08 11:45:38,240 INFO: Train Loss:1.441 | Acc:0.6817 | F1:0.6165\n"
     ]
    },
    {
     "name": "stdout",
     "output_type": "stream",
     "text": [
      "\n",
      "best epoch:217/loss:1.2066/f1:0.6892\n"
     ]
    },
    {
     "name": "stderr",
     "output_type": "stream",
     "text": [
      "100%|███████████████████████████████████████████| 20/20 [00:09<00:00,  2.07it/s]\n",
      "2022-06-08 11:45:47,896 INFO: Epoch:[219/500]\n",
      "2022-06-08 11:45:47,896 INFO: Train Loss:1.337 | Acc:0.6913 | F1:0.6293\n"
     ]
    },
    {
     "name": "stdout",
     "output_type": "stream",
     "text": [
      "\n",
      "best epoch:217/loss:1.2066/f1:0.6892\n"
     ]
    },
    {
     "name": "stderr",
     "output_type": "stream",
     "text": [
      "100%|███████████████████████████████████████████| 20/20 [00:09<00:00,  2.07it/s]\n",
      "2022-06-08 11:45:57,563 INFO: Epoch:[220/500]\n",
      "2022-06-08 11:45:57,564 INFO: Train Loss:1.218 | Acc:0.7331 | F1:0.6741\n"
     ]
    },
    {
     "name": "stdout",
     "output_type": "stream",
     "text": [
      "\n",
      "best epoch:217/loss:1.2066/f1:0.6892\n"
     ]
    },
    {
     "name": "stderr",
     "output_type": "stream",
     "text": [
      "100%|███████████████████████████████████████████| 20/20 [00:09<00:00,  2.05it/s]\n",
      "2022-06-08 11:46:07,348 INFO: Epoch:[221/500]\n",
      "2022-06-08 11:46:07,349 INFO: Train Loss:1.230 | Acc:0.7363 | F1:0.6765\n"
     ]
    },
    {
     "name": "stdout",
     "output_type": "stream",
     "text": [
      "\n",
      "best epoch:217/loss:1.2066/f1:0.6892\n"
     ]
    },
    {
     "name": "stderr",
     "output_type": "stream",
     "text": [
      "100%|███████████████████████████████████████████| 20/20 [00:09<00:00,  2.08it/s]\n",
      "2022-06-08 11:46:16,983 INFO: Epoch:[222/500]\n",
      "2022-06-08 11:46:16,984 INFO: Train Loss:1.286 | Acc:0.7267 | F1:0.6760\n"
     ]
    },
    {
     "name": "stdout",
     "output_type": "stream",
     "text": [
      "\n",
      "best epoch:217/loss:1.2066/f1:0.6892\n"
     ]
    },
    {
     "name": "stderr",
     "output_type": "stream",
     "text": [
      "100%|███████████████████████████████████████████| 20/20 [00:09<00:00,  2.08it/s]\n",
      "2022-06-08 11:46:26,605 INFO: Epoch:[223/500]\n",
      "2022-06-08 11:46:26,606 INFO: Train Loss:1.221 | Acc:0.7749 | F1:0.7262\n"
     ]
    },
    {
     "name": "stdout",
     "output_type": "stream",
     "text": [
      "\n",
      "best epoch:217/loss:1.2066/f1:0.6892\n"
     ]
    },
    {
     "name": "stderr",
     "output_type": "stream",
     "text": [
      "100%|███████████████████████████████████████████| 20/20 [00:09<00:00,  2.03it/s]\n",
      "2022-06-08 11:46:36,451 INFO: Epoch:[224/500]\n",
      "2022-06-08 11:46:36,452 INFO: Train Loss:1.369 | Acc:0.7074 | F1:0.6542\n"
     ]
    },
    {
     "name": "stdout",
     "output_type": "stream",
     "text": [
      "\n",
      "best epoch:217/loss:1.2066/f1:0.6892\n"
     ]
    },
    {
     "name": "stderr",
     "output_type": "stream",
     "text": [
      "100%|███████████████████████████████████████████| 20/20 [00:09<00:00,  2.06it/s]\n",
      "2022-06-08 11:46:46,156 INFO: Epoch:[225/500]\n",
      "2022-06-08 11:46:46,157 INFO: Train Loss:1.439 | Acc:0.6688 | F1:0.6119\n"
     ]
    },
    {
     "name": "stdout",
     "output_type": "stream",
     "text": [
      "\n",
      "best epoch:217/loss:1.2066/f1:0.6892\n"
     ]
    },
    {
     "name": "stderr",
     "output_type": "stream",
     "text": [
      "100%|███████████████████████████████████████████| 20/20 [00:09<00:00,  2.07it/s]\n",
      "2022-06-08 11:46:55,815 INFO: Epoch:[226/500]\n",
      "2022-06-08 11:46:55,815 INFO: Train Loss:1.415 | Acc:0.6752 | F1:0.6233\n"
     ]
    },
    {
     "name": "stdout",
     "output_type": "stream",
     "text": [
      "\n",
      "best epoch:217/loss:1.2066/f1:0.6892\n"
     ]
    },
    {
     "name": "stderr",
     "output_type": "stream",
     "text": [
      "100%|███████████████████████████████████████████| 20/20 [00:09<00:00,  2.07it/s]\n",
      "2022-06-08 11:47:05,502 INFO: Epoch:[227/500]\n",
      "2022-06-08 11:47:05,503 INFO: Train Loss:1.248 | Acc:0.7492 | F1:0.6905\n"
     ]
    },
    {
     "name": "stdout",
     "output_type": "stream",
     "text": [
      "\n",
      "best epoch:217/loss:1.2066/f1:0.6892\n"
     ]
    },
    {
     "name": "stderr",
     "output_type": "stream",
     "text": [
      "100%|███████████████████████████████████████████| 20/20 [00:09<00:00,  2.04it/s]\n",
      "2022-06-08 11:47:15,319 INFO: Epoch:[228/500]\n",
      "2022-06-08 11:47:15,320 INFO: Train Loss:1.195 | Acc:0.7460 | F1:0.6924\n",
      "2022-06-08 11:47:19,811 INFO: -----------------SAVE:228epoch----------------\n"
     ]
    },
    {
     "name": "stdout",
     "output_type": "stream",
     "text": [
      "\n",
      "best epoch:228/loss:1.1951/f1:0.6924\n"
     ]
    },
    {
     "name": "stderr",
     "output_type": "stream",
     "text": [
      "100%|███████████████████████████████████████████| 20/20 [00:09<00:00,  2.02it/s]\n",
      "2022-06-08 11:47:29,696 INFO: Epoch:[229/500]\n",
      "2022-06-08 11:47:29,697 INFO: Train Loss:1.091 | Acc:0.7653 | F1:0.7147\n",
      "2022-06-08 11:47:34,198 INFO: -----------------SAVE:229epoch----------------\n"
     ]
    },
    {
     "name": "stdout",
     "output_type": "stream",
     "text": [
      "\n",
      "best epoch:229/loss:1.0909/f1:0.7147\n"
     ]
    },
    {
     "name": "stderr",
     "output_type": "stream",
     "text": [
      "100%|███████████████████████████████████████████| 20/20 [00:09<00:00,  2.06it/s]\n",
      "2022-06-08 11:47:43,913 INFO: Epoch:[230/500]\n",
      "2022-06-08 11:47:43,914 INFO: Train Loss:1.104 | Acc:0.7717 | F1:0.7237\n"
     ]
    },
    {
     "name": "stdout",
     "output_type": "stream",
     "text": [
      "\n",
      "best epoch:229/loss:1.0909/f1:0.7147\n"
     ]
    },
    {
     "name": "stderr",
     "output_type": "stream",
     "text": [
      "100%|███████████████████████████████████████████| 20/20 [00:09<00:00,  2.07it/s]\n",
      "2022-06-08 11:47:53,596 INFO: Epoch:[231/500]\n",
      "2022-06-08 11:47:53,596 INFO: Train Loss:1.156 | Acc:0.7492 | F1:0.7027\n"
     ]
    },
    {
     "name": "stdout",
     "output_type": "stream",
     "text": [
      "\n",
      "best epoch:229/loss:1.0909/f1:0.7147\n"
     ]
    },
    {
     "name": "stderr",
     "output_type": "stream",
     "text": [
      "100%|███████████████████████████████████████████| 20/20 [00:09<00:00,  2.04it/s]\n",
      "2022-06-08 11:48:03,403 INFO: Epoch:[232/500]\n",
      "2022-06-08 11:48:03,404 INFO: Train Loss:1.304 | Acc:0.6977 | F1:0.6412\n"
     ]
    },
    {
     "name": "stdout",
     "output_type": "stream",
     "text": [
      "\n",
      "best epoch:229/loss:1.0909/f1:0.7147\n"
     ]
    },
    {
     "name": "stderr",
     "output_type": "stream",
     "text": [
      "100%|███████████████████████████████████████████| 20/20 [00:09<00:00,  2.05it/s]\n",
      "2022-06-08 11:48:13,189 INFO: Epoch:[233/500]\n",
      "2022-06-08 11:48:13,190 INFO: Train Loss:1.181 | Acc:0.7267 | F1:0.6690\n"
     ]
    },
    {
     "name": "stdout",
     "output_type": "stream",
     "text": [
      "\n",
      "best epoch:229/loss:1.0909/f1:0.7147\n"
     ]
    },
    {
     "name": "stderr",
     "output_type": "stream",
     "text": [
      "100%|███████████████████████████████████████████| 20/20 [00:09<00:00,  2.06it/s]\n",
      "2022-06-08 11:48:22,921 INFO: Epoch:[234/500]\n",
      "2022-06-08 11:48:22,921 INFO: Train Loss:1.231 | Acc:0.7267 | F1:0.6736\n"
     ]
    },
    {
     "name": "stdout",
     "output_type": "stream",
     "text": [
      "\n",
      "best epoch:229/loss:1.0909/f1:0.7147\n"
     ]
    },
    {
     "name": "stderr",
     "output_type": "stream",
     "text": [
      "100%|███████████████████████████████████████████| 20/20 [00:09<00:00,  2.05it/s]\n",
      "2022-06-08 11:48:32,681 INFO: Epoch:[235/500]\n",
      "2022-06-08 11:48:32,681 INFO: Train Loss:1.289 | Acc:0.7267 | F1:0.6725\n"
     ]
    },
    {
     "name": "stdout",
     "output_type": "stream",
     "text": [
      "\n",
      "best epoch:229/loss:1.0909/f1:0.7147\n"
     ]
    },
    {
     "name": "stderr",
     "output_type": "stream",
     "text": [
      "100%|███████████████████████████████████████████| 20/20 [00:09<00:00,  2.06it/s]\n",
      "2022-06-08 11:48:42,409 INFO: Epoch:[236/500]\n",
      "2022-06-08 11:48:42,409 INFO: Train Loss:1.212 | Acc:0.7074 | F1:0.6560\n"
     ]
    },
    {
     "name": "stdout",
     "output_type": "stream",
     "text": [
      "\n",
      "best epoch:229/loss:1.0909/f1:0.7147\n"
     ]
    },
    {
     "name": "stderr",
     "output_type": "stream",
     "text": [
      "100%|███████████████████████████████████████████| 20/20 [00:09<00:00,  2.08it/s]\n",
      "2022-06-08 11:48:52,036 INFO: Epoch:[237/500]\n",
      "2022-06-08 11:48:52,037 INFO: Train Loss:1.169 | Acc:0.7363 | F1:0.6847\n"
     ]
    },
    {
     "name": "stdout",
     "output_type": "stream",
     "text": [
      "\n",
      "best epoch:229/loss:1.0909/f1:0.7147\n"
     ]
    },
    {
     "name": "stderr",
     "output_type": "stream",
     "text": [
      "100%|███████████████████████████████████████████| 20/20 [00:09<00:00,  2.09it/s]\n",
      "2022-06-08 11:49:01,596 INFO: Epoch:[238/500]\n",
      "2022-06-08 11:49:01,597 INFO: Train Loss:1.342 | Acc:0.6527 | F1:0.5891\n"
     ]
    },
    {
     "name": "stdout",
     "output_type": "stream",
     "text": [
      "\n",
      "best epoch:229/loss:1.0909/f1:0.7147\n"
     ]
    },
    {
     "name": "stderr",
     "output_type": "stream",
     "text": [
      "100%|███████████████████████████████████████████| 20/20 [00:09<00:00,  2.10it/s]\n",
      "2022-06-08 11:49:11,122 INFO: Epoch:[239/500]\n",
      "2022-06-08 11:49:11,122 INFO: Train Loss:1.173 | Acc:0.7524 | F1:0.7072\n"
     ]
    },
    {
     "name": "stdout",
     "output_type": "stream",
     "text": [
      "\n",
      "best epoch:229/loss:1.0909/f1:0.7147\n"
     ]
    },
    {
     "name": "stderr",
     "output_type": "stream",
     "text": [
      "100%|███████████████████████████████████████████| 20/20 [00:09<00:00,  2.11it/s]\n",
      "2022-06-08 11:49:20,628 INFO: Epoch:[240/500]\n",
      "2022-06-08 11:49:20,629 INFO: Train Loss:1.235 | Acc:0.7170 | F1:0.6644\n"
     ]
    },
    {
     "name": "stdout",
     "output_type": "stream",
     "text": [
      "\n",
      "best epoch:229/loss:1.0909/f1:0.7147\n"
     ]
    },
    {
     "name": "stderr",
     "output_type": "stream",
     "text": [
      "100%|███████████████████████████████████████████| 20/20 [00:09<00:00,  2.08it/s]\n",
      "2022-06-08 11:49:30,268 INFO: Epoch:[241/500]\n",
      "2022-06-08 11:49:30,269 INFO: Train Loss:1.083 | Acc:0.7846 | F1:0.7409\n",
      "2022-06-08 11:49:34,771 INFO: -----------------SAVE:241epoch----------------\n"
     ]
    },
    {
     "name": "stdout",
     "output_type": "stream",
     "text": [
      "\n",
      "best epoch:241/loss:1.0834/f1:0.7409\n"
     ]
    },
    {
     "name": "stderr",
     "output_type": "stream",
     "text": [
      "100%|███████████████████████████████████████████| 20/20 [00:09<00:00,  2.08it/s]\n",
      "2022-06-08 11:49:44,413 INFO: Epoch:[242/500]\n",
      "2022-06-08 11:49:44,414 INFO: Train Loss:1.153 | Acc:0.7267 | F1:0.6680\n"
     ]
    },
    {
     "name": "stdout",
     "output_type": "stream",
     "text": [
      "\n",
      "best epoch:241/loss:1.0834/f1:0.7409\n"
     ]
    },
    {
     "name": "stderr",
     "output_type": "stream",
     "text": [
      "100%|███████████████████████████████████████████| 20/20 [00:09<00:00,  2.11it/s]\n",
      "2022-06-08 11:49:53,917 INFO: Epoch:[243/500]\n",
      "2022-06-08 11:49:53,918 INFO: Train Loss:1.364 | Acc:0.6817 | F1:0.6334\n"
     ]
    },
    {
     "name": "stdout",
     "output_type": "stream",
     "text": [
      "\n",
      "best epoch:241/loss:1.0834/f1:0.7409\n"
     ]
    },
    {
     "name": "stderr",
     "output_type": "stream",
     "text": [
      "100%|███████████████████████████████████████████| 20/20 [00:09<00:00,  2.13it/s]\n",
      "2022-06-08 11:50:03,325 INFO: Epoch:[244/500]\n",
      "2022-06-08 11:50:03,326 INFO: Train Loss:1.165 | Acc:0.7203 | F1:0.6790\n"
     ]
    },
    {
     "name": "stdout",
     "output_type": "stream",
     "text": [
      "\n",
      "best epoch:241/loss:1.0834/f1:0.7409\n"
     ]
    },
    {
     "name": "stderr",
     "output_type": "stream",
     "text": [
      "100%|███████████████████████████████████████████| 20/20 [00:09<00:00,  2.07it/s]\n",
      "2022-06-08 11:50:12,994 INFO: Epoch:[245/500]\n",
      "2022-06-08 11:50:12,995 INFO: Train Loss:1.262 | Acc:0.7395 | F1:0.7004\n"
     ]
    },
    {
     "name": "stdout",
     "output_type": "stream",
     "text": [
      "\n",
      "best epoch:241/loss:1.0834/f1:0.7409\n"
     ]
    },
    {
     "name": "stderr",
     "output_type": "stream",
     "text": [
      "100%|███████████████████████████████████████████| 20/20 [00:09<00:00,  2.09it/s]\n",
      "2022-06-08 11:50:22,593 INFO: Epoch:[246/500]\n",
      "2022-06-08 11:50:22,594 INFO: Train Loss:1.075 | Acc:0.7653 | F1:0.7106\n",
      "2022-06-08 11:50:27,213 INFO: -----------------SAVE:246epoch----------------\n"
     ]
    },
    {
     "name": "stdout",
     "output_type": "stream",
     "text": [
      "\n",
      "best epoch:246/loss:1.0752/f1:0.7106\n"
     ]
    },
    {
     "name": "stderr",
     "output_type": "stream",
     "text": [
      "100%|███████████████████████████████████████████| 20/20 [00:09<00:00,  2.09it/s]\n",
      "2022-06-08 11:50:36,795 INFO: Epoch:[247/500]\n",
      "2022-06-08 11:50:36,796 INFO: Train Loss:0.992 | Acc:0.7878 | F1:0.7389\n",
      "2022-06-08 11:50:41,287 INFO: -----------------SAVE:247epoch----------------\n"
     ]
    },
    {
     "name": "stdout",
     "output_type": "stream",
     "text": [
      "\n",
      "best epoch:247/loss:0.9917/f1:0.7389\n"
     ]
    },
    {
     "name": "stderr",
     "output_type": "stream",
     "text": [
      "100%|███████████████████████████████████████████| 20/20 [00:09<00:00,  2.10it/s]\n",
      "2022-06-08 11:50:50,816 INFO: Epoch:[248/500]\n",
      "2022-06-08 11:50:50,816 INFO: Train Loss:1.142 | Acc:0.7267 | F1:0.6706\n"
     ]
    },
    {
     "name": "stdout",
     "output_type": "stream",
     "text": [
      "\n",
      "best epoch:247/loss:0.9917/f1:0.7389\n"
     ]
    },
    {
     "name": "stderr",
     "output_type": "stream",
     "text": [
      "100%|███████████████████████████████████████████| 20/20 [00:09<00:00,  2.10it/s]\n",
      "2022-06-08 11:51:00,338 INFO: Epoch:[249/500]\n",
      "2022-06-08 11:51:00,339 INFO: Train Loss:0.974 | Acc:0.7910 | F1:0.7410\n",
      "2022-06-08 11:51:04,855 INFO: -----------------SAVE:249epoch----------------\n"
     ]
    },
    {
     "name": "stdout",
     "output_type": "stream",
     "text": [
      "\n",
      "best epoch:249/loss:0.9737/f1:0.7410\n"
     ]
    },
    {
     "name": "stderr",
     "output_type": "stream",
     "text": [
      "100%|███████████████████████████████████████████| 20/20 [00:09<00:00,  2.11it/s]\n",
      "2022-06-08 11:51:14,359 INFO: Epoch:[250/500]\n",
      "2022-06-08 11:51:14,360 INFO: Train Loss:1.362 | Acc:0.7010 | F1:0.6389\n"
     ]
    },
    {
     "name": "stdout",
     "output_type": "stream",
     "text": [
      "\n",
      "best epoch:249/loss:0.9737/f1:0.7410\n"
     ]
    },
    {
     "name": "stderr",
     "output_type": "stream",
     "text": [
      "100%|███████████████████████████████████████████| 20/20 [00:09<00:00,  2.10it/s]\n",
      "2022-06-08 11:51:23,912 INFO: Epoch:[251/500]\n",
      "2022-06-08 11:51:23,912 INFO: Train Loss:1.173 | Acc:0.7556 | F1:0.7154\n"
     ]
    },
    {
     "name": "stdout",
     "output_type": "stream",
     "text": [
      "\n",
      "best epoch:249/loss:0.9737/f1:0.7410\n"
     ]
    },
    {
     "name": "stderr",
     "output_type": "stream",
     "text": [
      "100%|███████████████████████████████████████████| 20/20 [00:09<00:00,  2.08it/s]\n",
      "2022-06-08 11:51:33,551 INFO: Epoch:[252/500]\n",
      "2022-06-08 11:51:33,553 INFO: Train Loss:1.123 | Acc:0.7428 | F1:0.6891\n"
     ]
    },
    {
     "name": "stdout",
     "output_type": "stream",
     "text": [
      "\n",
      "best epoch:249/loss:0.9737/f1:0.7410\n"
     ]
    },
    {
     "name": "stderr",
     "output_type": "stream",
     "text": [
      "100%|███████████████████████████████████████████| 20/20 [00:09<00:00,  2.08it/s]\n",
      "2022-06-08 11:51:43,181 INFO: Epoch:[253/500]\n",
      "2022-06-08 11:51:43,181 INFO: Train Loss:1.009 | Acc:0.7685 | F1:0.7223\n"
     ]
    },
    {
     "name": "stdout",
     "output_type": "stream",
     "text": [
      "\n",
      "best epoch:249/loss:0.9737/f1:0.7410\n"
     ]
    },
    {
     "name": "stderr",
     "output_type": "stream",
     "text": [
      "100%|███████████████████████████████████████████| 20/20 [00:09<00:00,  2.12it/s]\n",
      "2022-06-08 11:51:52,649 INFO: Epoch:[254/500]\n",
      "2022-06-08 11:51:52,650 INFO: Train Loss:1.309 | Acc:0.7042 | F1:0.6476\n"
     ]
    },
    {
     "name": "stdout",
     "output_type": "stream",
     "text": [
      "\n",
      "best epoch:249/loss:0.9737/f1:0.7410\n"
     ]
    },
    {
     "name": "stderr",
     "output_type": "stream",
     "text": [
      "100%|███████████████████████████████████████████| 20/20 [00:09<00:00,  2.10it/s]\n",
      "2022-06-08 11:52:02,199 INFO: Epoch:[255/500]\n",
      "2022-06-08 11:52:02,199 INFO: Train Loss:1.121 | Acc:0.7524 | F1:0.7053\n"
     ]
    },
    {
     "name": "stdout",
     "output_type": "stream",
     "text": [
      "\n",
      "best epoch:249/loss:0.9737/f1:0.7410\n"
     ]
    },
    {
     "name": "stderr",
     "output_type": "stream",
     "text": [
      "100%|███████████████████████████████████████████| 20/20 [00:09<00:00,  2.08it/s]\n",
      "2022-06-08 11:52:11,812 INFO: Epoch:[256/500]\n",
      "2022-06-08 11:52:11,813 INFO: Train Loss:1.170 | Acc:0.7524 | F1:0.7042\n"
     ]
    },
    {
     "name": "stdout",
     "output_type": "stream",
     "text": [
      "\n",
      "best epoch:249/loss:0.9737/f1:0.7410\n"
     ]
    },
    {
     "name": "stderr",
     "output_type": "stream",
     "text": [
      "100%|███████████████████████████████████████████| 20/20 [00:09<00:00,  2.09it/s]\n",
      "2022-06-08 11:52:21,370 INFO: Epoch:[257/500]\n",
      "2022-06-08 11:52:21,371 INFO: Train Loss:1.127 | Acc:0.7395 | F1:0.6894\n"
     ]
    },
    {
     "name": "stdout",
     "output_type": "stream",
     "text": [
      "\n",
      "best epoch:249/loss:0.9737/f1:0.7410\n"
     ]
    },
    {
     "name": "stderr",
     "output_type": "stream",
     "text": [
      "100%|███████████████████████████████████████████| 20/20 [00:09<00:00,  2.10it/s]\n",
      "2022-06-08 11:52:30,896 INFO: Epoch:[258/500]\n",
      "2022-06-08 11:52:30,897 INFO: Train Loss:1.095 | Acc:0.7685 | F1:0.7170\n"
     ]
    },
    {
     "name": "stdout",
     "output_type": "stream",
     "text": [
      "\n",
      "best epoch:249/loss:0.9737/f1:0.7410\n"
     ]
    },
    {
     "name": "stderr",
     "output_type": "stream",
     "text": [
      "100%|███████████████████████████████████████████| 20/20 [00:09<00:00,  2.11it/s]\n",
      "2022-06-08 11:52:40,377 INFO: Epoch:[259/500]\n",
      "2022-06-08 11:52:40,378 INFO: Train Loss:0.987 | Acc:0.7878 | F1:0.7446\n"
     ]
    },
    {
     "name": "stdout",
     "output_type": "stream",
     "text": [
      "\n",
      "best epoch:249/loss:0.9737/f1:0.7410\n"
     ]
    },
    {
     "name": "stderr",
     "output_type": "stream",
     "text": [
      "100%|███████████████████████████████████████████| 20/20 [00:09<00:00,  2.06it/s]\n",
      "2022-06-08 11:52:50,091 INFO: Epoch:[260/500]\n",
      "2022-06-08 11:52:50,091 INFO: Train Loss:1.154 | Acc:0.7363 | F1:0.6869\n"
     ]
    },
    {
     "name": "stdout",
     "output_type": "stream",
     "text": [
      "\n",
      "best epoch:249/loss:0.9737/f1:0.7410\n"
     ]
    },
    {
     "name": "stderr",
     "output_type": "stream",
     "text": [
      "100%|███████████████████████████████████████████| 20/20 [00:09<00:00,  2.07it/s]\n",
      "2022-06-08 11:52:59,777 INFO: Epoch:[261/500]\n",
      "2022-06-08 11:52:59,778 INFO: Train Loss:1.182 | Acc:0.7042 | F1:0.6449\n"
     ]
    },
    {
     "name": "stdout",
     "output_type": "stream",
     "text": [
      "\n",
      "best epoch:249/loss:0.9737/f1:0.7410\n"
     ]
    },
    {
     "name": "stderr",
     "output_type": "stream",
     "text": [
      "100%|███████████████████████████████████████████| 20/20 [00:09<00:00,  2.04it/s]\n",
      "2022-06-08 11:53:09,591 INFO: Epoch:[262/500]\n",
      "2022-06-08 11:53:09,592 INFO: Train Loss:1.129 | Acc:0.7685 | F1:0.7184\n"
     ]
    },
    {
     "name": "stdout",
     "output_type": "stream",
     "text": [
      "\n",
      "best epoch:249/loss:0.9737/f1:0.7410\n"
     ]
    },
    {
     "name": "stderr",
     "output_type": "stream",
     "text": [
      "100%|███████████████████████████████████████████| 20/20 [00:09<00:00,  2.08it/s]\n",
      "2022-06-08 11:53:19,231 INFO: Epoch:[263/500]\n",
      "2022-06-08 11:53:19,232 INFO: Train Loss:1.047 | Acc:0.7878 | F1:0.7438\n"
     ]
    },
    {
     "name": "stdout",
     "output_type": "stream",
     "text": [
      "\n",
      "best epoch:249/loss:0.9737/f1:0.7410\n"
     ]
    },
    {
     "name": "stderr",
     "output_type": "stream",
     "text": [
      "100%|███████████████████████████████████████████| 20/20 [00:09<00:00,  2.07it/s]\n",
      "2022-06-08 11:53:28,894 INFO: Epoch:[264/500]\n",
      "2022-06-08 11:53:28,895 INFO: Train Loss:0.976 | Acc:0.7749 | F1:0.7245\n"
     ]
    },
    {
     "name": "stdout",
     "output_type": "stream",
     "text": [
      "\n",
      "best epoch:249/loss:0.9737/f1:0.7410\n"
     ]
    },
    {
     "name": "stderr",
     "output_type": "stream",
     "text": [
      "100%|███████████████████████████████████████████| 20/20 [00:09<00:00,  2.07it/s]\n",
      "2022-06-08 11:53:38,548 INFO: Epoch:[265/500]\n",
      "2022-06-08 11:53:38,548 INFO: Train Loss:1.008 | Acc:0.7588 | F1:0.7100\n"
     ]
    },
    {
     "name": "stdout",
     "output_type": "stream",
     "text": [
      "\n",
      "best epoch:249/loss:0.9737/f1:0.7410\n"
     ]
    },
    {
     "name": "stderr",
     "output_type": "stream",
     "text": [
      "100%|███████████████████████████████████████████| 20/20 [00:09<00:00,  2.06it/s]\n",
      "2022-06-08 11:53:48,271 INFO: Epoch:[266/500]\n",
      "2022-06-08 11:53:48,272 INFO: Train Loss:0.997 | Acc:0.8103 | F1:0.7717\n"
     ]
    },
    {
     "name": "stdout",
     "output_type": "stream",
     "text": [
      "\n",
      "best epoch:249/loss:0.9737/f1:0.7410\n"
     ]
    },
    {
     "name": "stderr",
     "output_type": "stream",
     "text": [
      "100%|███████████████████████████████████████████| 20/20 [00:09<00:00,  2.10it/s]\n",
      "2022-06-08 11:53:57,791 INFO: Epoch:[267/500]\n",
      "2022-06-08 11:53:57,791 INFO: Train Loss:1.045 | Acc:0.7942 | F1:0.7528\n"
     ]
    },
    {
     "name": "stdout",
     "output_type": "stream",
     "text": [
      "\n",
      "best epoch:249/loss:0.9737/f1:0.7410\n"
     ]
    },
    {
     "name": "stderr",
     "output_type": "stream",
     "text": [
      "100%|███████████████████████████████████████████| 20/20 [00:09<00:00,  2.05it/s]\n",
      "2022-06-08 11:54:07,542 INFO: Epoch:[268/500]\n",
      "2022-06-08 11:54:07,543 INFO: Train Loss:1.057 | Acc:0.7492 | F1:0.6917\n"
     ]
    },
    {
     "name": "stdout",
     "output_type": "stream",
     "text": [
      "\n",
      "best epoch:249/loss:0.9737/f1:0.7410\n"
     ]
    },
    {
     "name": "stderr",
     "output_type": "stream",
     "text": [
      "100%|███████████████████████████████████████████| 20/20 [00:09<00:00,  2.06it/s]\n",
      "2022-06-08 11:54:17,254 INFO: Epoch:[269/500]\n",
      "2022-06-08 11:54:17,255 INFO: Train Loss:1.012 | Acc:0.7814 | F1:0.7312\n"
     ]
    },
    {
     "name": "stdout",
     "output_type": "stream",
     "text": [
      "\n",
      "best epoch:249/loss:0.9737/f1:0.7410\n"
     ]
    },
    {
     "name": "stderr",
     "output_type": "stream",
     "text": [
      "100%|███████████████████████████████████████████| 20/20 [00:09<00:00,  2.06it/s]\n",
      "2022-06-08 11:54:26,960 INFO: Epoch:[270/500]\n",
      "2022-06-08 11:54:26,960 INFO: Train Loss:1.021 | Acc:0.7653 | F1:0.7128\n"
     ]
    },
    {
     "name": "stdout",
     "output_type": "stream",
     "text": [
      "\n",
      "best epoch:249/loss:0.9737/f1:0.7410\n"
     ]
    },
    {
     "name": "stderr",
     "output_type": "stream",
     "text": [
      "100%|███████████████████████████████████████████| 20/20 [00:09<00:00,  2.07it/s]\n",
      "2022-06-08 11:54:36,638 INFO: Epoch:[271/500]\n",
      "2022-06-08 11:54:36,639 INFO: Train Loss:0.962 | Acc:0.7846 | F1:0.7357\n",
      "2022-06-08 11:54:41,131 INFO: -----------------SAVE:271epoch----------------\n"
     ]
    },
    {
     "name": "stdout",
     "output_type": "stream",
     "text": [
      "\n",
      "best epoch:271/loss:0.9615/f1:0.7357\n"
     ]
    },
    {
     "name": "stderr",
     "output_type": "stream",
     "text": [
      "100%|███████████████████████████████████████████| 20/20 [00:09<00:00,  2.04it/s]\n",
      "2022-06-08 11:54:50,961 INFO: Epoch:[272/500]\n",
      "2022-06-08 11:54:50,961 INFO: Train Loss:1.037 | Acc:0.7685 | F1:0.7219\n"
     ]
    },
    {
     "name": "stdout",
     "output_type": "stream",
     "text": [
      "\n",
      "best epoch:271/loss:0.9615/f1:0.7357\n"
     ]
    },
    {
     "name": "stderr",
     "output_type": "stream",
     "text": [
      "100%|███████████████████████████████████████████| 20/20 [00:09<00:00,  2.09it/s]\n",
      "2022-06-08 11:55:00,539 INFO: Epoch:[273/500]\n",
      "2022-06-08 11:55:00,540 INFO: Train Loss:1.074 | Acc:0.7588 | F1:0.7061\n"
     ]
    },
    {
     "name": "stdout",
     "output_type": "stream",
     "text": [
      "\n",
      "best epoch:271/loss:0.9615/f1:0.7357\n"
     ]
    },
    {
     "name": "stderr",
     "output_type": "stream",
     "text": [
      "100%|███████████████████████████████████████████| 20/20 [00:09<00:00,  2.03it/s]\n",
      "2022-06-08 11:55:10,424 INFO: Epoch:[274/500]\n",
      "2022-06-08 11:55:10,425 INFO: Train Loss:1.013 | Acc:0.7846 | F1:0.7346\n"
     ]
    },
    {
     "name": "stdout",
     "output_type": "stream",
     "text": [
      "\n",
      "best epoch:271/loss:0.9615/f1:0.7357\n"
     ]
    },
    {
     "name": "stderr",
     "output_type": "stream",
     "text": [
      "100%|███████████████████████████████████████████| 20/20 [00:09<00:00,  2.06it/s]\n",
      "2022-06-08 11:55:20,160 INFO: Epoch:[275/500]\n",
      "2022-06-08 11:55:20,161 INFO: Train Loss:1.092 | Acc:0.7460 | F1:0.6998\n"
     ]
    },
    {
     "name": "stdout",
     "output_type": "stream",
     "text": [
      "\n",
      "best epoch:271/loss:0.9615/f1:0.7357\n"
     ]
    },
    {
     "name": "stderr",
     "output_type": "stream",
     "text": [
      "100%|███████████████████████████████████████████| 20/20 [00:09<00:00,  2.03it/s]\n",
      "2022-06-08 11:55:30,027 INFO: Epoch:[276/500]\n",
      "2022-06-08 11:55:30,028 INFO: Train Loss:1.003 | Acc:0.7814 | F1:0.7344\n"
     ]
    },
    {
     "name": "stdout",
     "output_type": "stream",
     "text": [
      "\n",
      "best epoch:271/loss:0.9615/f1:0.7357\n"
     ]
    },
    {
     "name": "stderr",
     "output_type": "stream",
     "text": [
      "100%|███████████████████████████████████████████| 20/20 [00:09<00:00,  2.06it/s]\n",
      "2022-06-08 11:55:39,761 INFO: Epoch:[277/500]\n",
      "2022-06-08 11:55:39,762 INFO: Train Loss:0.973 | Acc:0.8135 | F1:0.7718\n"
     ]
    },
    {
     "name": "stdout",
     "output_type": "stream",
     "text": [
      "\n",
      "best epoch:271/loss:0.9615/f1:0.7357\n"
     ]
    },
    {
     "name": "stderr",
     "output_type": "stream",
     "text": [
      "100%|███████████████████████████████████████████| 20/20 [00:09<00:00,  2.04it/s]\n",
      "2022-06-08 11:55:49,596 INFO: Epoch:[278/500]\n",
      "2022-06-08 11:55:49,597 INFO: Train Loss:0.878 | Acc:0.8264 | F1:0.7915\n",
      "2022-06-08 11:55:54,090 INFO: -----------------SAVE:278epoch----------------\n"
     ]
    },
    {
     "name": "stdout",
     "output_type": "stream",
     "text": [
      "\n",
      "best epoch:278/loss:0.8783/f1:0.7915\n"
     ]
    },
    {
     "name": "stderr",
     "output_type": "stream",
     "text": [
      "100%|███████████████████████████████████████████| 20/20 [00:09<00:00,  2.05it/s]\n",
      "2022-06-08 11:56:03,834 INFO: Epoch:[279/500]\n",
      "2022-06-08 11:56:03,834 INFO: Train Loss:0.981 | Acc:0.7781 | F1:0.7282\n"
     ]
    },
    {
     "name": "stdout",
     "output_type": "stream",
     "text": [
      "\n",
      "best epoch:278/loss:0.8783/f1:0.7915\n"
     ]
    },
    {
     "name": "stderr",
     "output_type": "stream",
     "text": [
      "100%|███████████████████████████████████████████| 20/20 [00:09<00:00,  2.12it/s]\n",
      "2022-06-08 11:56:13,296 INFO: Epoch:[280/500]\n",
      "2022-06-08 11:56:13,296 INFO: Train Loss:0.920 | Acc:0.8071 | F1:0.7643\n"
     ]
    },
    {
     "name": "stdout",
     "output_type": "stream",
     "text": [
      "\n",
      "best epoch:278/loss:0.8783/f1:0.7915\n"
     ]
    },
    {
     "name": "stderr",
     "output_type": "stream",
     "text": [
      "100%|███████████████████████████████████████████| 20/20 [00:09<00:00,  2.09it/s]\n",
      "2022-06-08 11:56:22,860 INFO: Epoch:[281/500]\n",
      "2022-06-08 11:56:22,860 INFO: Train Loss:0.981 | Acc:0.7781 | F1:0.7282\n"
     ]
    },
    {
     "name": "stdout",
     "output_type": "stream",
     "text": [
      "\n",
      "best epoch:278/loss:0.8783/f1:0.7915\n"
     ]
    },
    {
     "name": "stderr",
     "output_type": "stream",
     "text": [
      "100%|███████████████████████████████████████████| 20/20 [00:09<00:00,  2.09it/s]\n",
      "2022-06-08 11:56:32,431 INFO: Epoch:[282/500]\n",
      "2022-06-08 11:56:32,432 INFO: Train Loss:1.021 | Acc:0.7749 | F1:0.7262\n"
     ]
    },
    {
     "name": "stdout",
     "output_type": "stream",
     "text": [
      "\n",
      "best epoch:278/loss:0.8783/f1:0.7915\n"
     ]
    },
    {
     "name": "stderr",
     "output_type": "stream",
     "text": [
      "100%|███████████████████████████████████████████| 20/20 [00:09<00:00,  2.11it/s]\n",
      "2022-06-08 11:56:41,902 INFO: Epoch:[283/500]\n",
      "2022-06-08 11:56:41,903 INFO: Train Loss:1.012 | Acc:0.7588 | F1:0.7122\n"
     ]
    },
    {
     "name": "stdout",
     "output_type": "stream",
     "text": [
      "\n",
      "best epoch:278/loss:0.8783/f1:0.7915\n"
     ]
    },
    {
     "name": "stderr",
     "output_type": "stream",
     "text": [
      "100%|███████████████████████████████████████████| 20/20 [00:09<00:00,  2.09it/s]\n",
      "2022-06-08 11:56:51,486 INFO: Epoch:[284/500]\n",
      "2022-06-08 11:56:51,486 INFO: Train Loss:0.976 | Acc:0.7588 | F1:0.7138\n"
     ]
    },
    {
     "name": "stdout",
     "output_type": "stream",
     "text": [
      "\n",
      "best epoch:278/loss:0.8783/f1:0.7915\n"
     ]
    },
    {
     "name": "stderr",
     "output_type": "stream",
     "text": [
      "100%|███████████████████████████████████████████| 20/20 [00:09<00:00,  2.09it/s]\n",
      "2022-06-08 11:57:01,079 INFO: Epoch:[285/500]\n",
      "2022-06-08 11:57:01,080 INFO: Train Loss:1.025 | Acc:0.7749 | F1:0.7268\n"
     ]
    },
    {
     "name": "stdout",
     "output_type": "stream",
     "text": [
      "\n",
      "best epoch:278/loss:0.8783/f1:0.7915\n"
     ]
    },
    {
     "name": "stderr",
     "output_type": "stream",
     "text": [
      "100%|███████████████████████████████████████████| 20/20 [00:09<00:00,  2.15it/s]\n",
      "2022-06-08 11:57:10,391 INFO: Epoch:[286/500]\n",
      "2022-06-08 11:57:10,392 INFO: Train Loss:1.048 | Acc:0.7653 | F1:0.7235\n"
     ]
    },
    {
     "name": "stdout",
     "output_type": "stream",
     "text": [
      "\n",
      "best epoch:278/loss:0.8783/f1:0.7915\n"
     ]
    },
    {
     "name": "stderr",
     "output_type": "stream",
     "text": [
      "100%|███████████████████████████████████████████| 20/20 [00:09<00:00,  2.07it/s]\n",
      "2022-06-08 11:57:20,071 INFO: Epoch:[287/500]\n",
      "2022-06-08 11:57:20,071 INFO: Train Loss:1.013 | Acc:0.7749 | F1:0.7298\n"
     ]
    },
    {
     "name": "stdout",
     "output_type": "stream",
     "text": [
      "\n",
      "best epoch:278/loss:0.8783/f1:0.7915\n"
     ]
    },
    {
     "name": "stderr",
     "output_type": "stream",
     "text": [
      "100%|███████████████████████████████████████████| 20/20 [00:09<00:00,  2.08it/s]\n",
      "2022-06-08 11:57:29,706 INFO: Epoch:[288/500]\n",
      "2022-06-08 11:57:29,706 INFO: Train Loss:0.995 | Acc:0.7846 | F1:0.7441\n"
     ]
    },
    {
     "name": "stdout",
     "output_type": "stream",
     "text": [
      "\n",
      "best epoch:278/loss:0.8783/f1:0.7915\n"
     ]
    },
    {
     "name": "stderr",
     "output_type": "stream",
     "text": [
      "100%|███████████████████████████████████████████| 20/20 [00:09<00:00,  2.11it/s]\n",
      "2022-06-08 11:57:39,194 INFO: Epoch:[289/500]\n",
      "2022-06-08 11:57:39,195 INFO: Train Loss:0.771 | Acc:0.8199 | F1:0.7787\n",
      "2022-06-08 11:57:43,693 INFO: -----------------SAVE:289epoch----------------\n"
     ]
    },
    {
     "name": "stdout",
     "output_type": "stream",
     "text": [
      "\n",
      "best epoch:289/loss:0.7708/f1:0.7787\n"
     ]
    },
    {
     "name": "stderr",
     "output_type": "stream",
     "text": [
      "100%|███████████████████████████████████████████| 20/20 [00:09<00:00,  2.09it/s]\n",
      "2022-06-08 11:57:53,247 INFO: Epoch:[290/500]\n",
      "2022-06-08 11:57:53,248 INFO: Train Loss:0.909 | Acc:0.7846 | F1:0.7448\n"
     ]
    },
    {
     "name": "stdout",
     "output_type": "stream",
     "text": [
      "\n",
      "best epoch:289/loss:0.7708/f1:0.7787\n"
     ]
    },
    {
     "name": "stderr",
     "output_type": "stream",
     "text": [
      "100%|███████████████████████████████████████████| 20/20 [00:09<00:00,  2.09it/s]\n",
      "2022-06-08 11:58:02,817 INFO: Epoch:[291/500]\n",
      "2022-06-08 11:58:02,818 INFO: Train Loss:1.112 | Acc:0.7235 | F1:0.6797\n"
     ]
    },
    {
     "name": "stdout",
     "output_type": "stream",
     "text": [
      "\n",
      "best epoch:289/loss:0.7708/f1:0.7787\n"
     ]
    },
    {
     "name": "stderr",
     "output_type": "stream",
     "text": [
      "100%|███████████████████████████████████████████| 20/20 [00:09<00:00,  2.09it/s]\n",
      "2022-06-08 11:58:12,392 INFO: Epoch:[292/500]\n",
      "2022-06-08 11:58:12,392 INFO: Train Loss:0.775 | Acc:0.8167 | F1:0.7792\n"
     ]
    },
    {
     "name": "stdout",
     "output_type": "stream",
     "text": [
      "\n",
      "best epoch:289/loss:0.7708/f1:0.7787\n"
     ]
    },
    {
     "name": "stderr",
     "output_type": "stream",
     "text": [
      "100%|███████████████████████████████████████████| 20/20 [00:09<00:00,  2.09it/s]\n",
      "2022-06-08 11:58:21,995 INFO: Epoch:[293/500]\n",
      "2022-06-08 11:58:21,995 INFO: Train Loss:0.930 | Acc:0.8006 | F1:0.7518\n"
     ]
    },
    {
     "name": "stdout",
     "output_type": "stream",
     "text": [
      "\n",
      "best epoch:289/loss:0.7708/f1:0.7787\n"
     ]
    },
    {
     "name": "stderr",
     "output_type": "stream",
     "text": [
      "100%|███████████████████████████████████████████| 20/20 [00:09<00:00,  2.07it/s]\n",
      "2022-06-08 11:58:31,673 INFO: Epoch:[294/500]\n",
      "2022-06-08 11:58:31,674 INFO: Train Loss:0.898 | Acc:0.8167 | F1:0.7766\n"
     ]
    },
    {
     "name": "stdout",
     "output_type": "stream",
     "text": [
      "\n",
      "best epoch:289/loss:0.7708/f1:0.7787\n"
     ]
    },
    {
     "name": "stderr",
     "output_type": "stream",
     "text": [
      "100%|███████████████████████████████████████████| 20/20 [00:09<00:00,  2.13it/s]\n",
      "2022-06-08 11:58:41,095 INFO: Epoch:[295/500]\n",
      "2022-06-08 11:58:41,096 INFO: Train Loss:0.913 | Acc:0.8006 | F1:0.7668\n"
     ]
    },
    {
     "name": "stdout",
     "output_type": "stream",
     "text": [
      "\n",
      "best epoch:289/loss:0.7708/f1:0.7787\n"
     ]
    },
    {
     "name": "stderr",
     "output_type": "stream",
     "text": [
      "100%|███████████████████████████████████████████| 20/20 [00:09<00:00,  2.09it/s]\n",
      "2022-06-08 11:58:50,662 INFO: Epoch:[296/500]\n",
      "2022-06-08 11:58:50,663 INFO: Train Loss:0.808 | Acc:0.8103 | F1:0.7776\n"
     ]
    },
    {
     "name": "stdout",
     "output_type": "stream",
     "text": [
      "\n",
      "best epoch:289/loss:0.7708/f1:0.7787\n"
     ]
    },
    {
     "name": "stderr",
     "output_type": "stream",
     "text": [
      "100%|███████████████████████████████████████████| 20/20 [00:09<00:00,  2.09it/s]\n",
      "2022-06-08 11:59:00,246 INFO: Epoch:[297/500]\n",
      "2022-06-08 11:59:00,247 INFO: Train Loss:0.946 | Acc:0.7846 | F1:0.7417\n"
     ]
    },
    {
     "name": "stdout",
     "output_type": "stream",
     "text": [
      "\n",
      "best epoch:289/loss:0.7708/f1:0.7787\n"
     ]
    },
    {
     "name": "stderr",
     "output_type": "stream",
     "text": [
      "100%|███████████████████████████████████████████| 20/20 [00:09<00:00,  2.08it/s]\n",
      "2022-06-08 11:59:09,874 INFO: Epoch:[298/500]\n",
      "2022-06-08 11:59:09,874 INFO: Train Loss:0.859 | Acc:0.7942 | F1:0.7425\n"
     ]
    },
    {
     "name": "stdout",
     "output_type": "stream",
     "text": [
      "\n",
      "best epoch:289/loss:0.7708/f1:0.7787\n"
     ]
    },
    {
     "name": "stderr",
     "output_type": "stream",
     "text": [
      "100%|███████████████████████████████████████████| 20/20 [00:09<00:00,  2.09it/s]\n",
      "2022-06-08 11:59:19,439 INFO: Epoch:[299/500]\n",
      "2022-06-08 11:59:19,440 INFO: Train Loss:0.804 | Acc:0.8103 | F1:0.7708\n"
     ]
    },
    {
     "name": "stdout",
     "output_type": "stream",
     "text": [
      "\n",
      "best epoch:289/loss:0.7708/f1:0.7787\n"
     ]
    },
    {
     "name": "stderr",
     "output_type": "stream",
     "text": [
      "100%|███████████████████████████████████████████| 20/20 [00:09<00:00,  2.11it/s]\n",
      "2022-06-08 11:59:28,928 INFO: Epoch:[300/500]\n",
      "2022-06-08 11:59:28,929 INFO: Train Loss:0.896 | Acc:0.7974 | F1:0.7454\n"
     ]
    },
    {
     "name": "stdout",
     "output_type": "stream",
     "text": [
      "\n",
      "best epoch:289/loss:0.7708/f1:0.7787\n"
     ]
    },
    {
     "name": "stderr",
     "output_type": "stream",
     "text": [
      "100%|███████████████████████████████████████████| 20/20 [00:09<00:00,  2.11it/s]\n",
      "2022-06-08 11:59:38,403 INFO: Epoch:[301/500]\n",
      "2022-06-08 11:59:38,404 INFO: Train Loss:0.814 | Acc:0.7910 | F1:0.7469\n"
     ]
    },
    {
     "name": "stdout",
     "output_type": "stream",
     "text": [
      "\n",
      "best epoch:289/loss:0.7708/f1:0.7787\n"
     ]
    },
    {
     "name": "stderr",
     "output_type": "stream",
     "text": [
      "100%|███████████████████████████████████████████| 20/20 [00:09<00:00,  2.10it/s]\n",
      "2022-06-08 11:59:47,939 INFO: Epoch:[302/500]\n",
      "2022-06-08 11:59:47,939 INFO: Train Loss:0.780 | Acc:0.8264 | F1:0.7894\n"
     ]
    },
    {
     "name": "stdout",
     "output_type": "stream",
     "text": [
      "\n",
      "best epoch:289/loss:0.7708/f1:0.7787\n"
     ]
    },
    {
     "name": "stderr",
     "output_type": "stream",
     "text": [
      "100%|███████████████████████████████████████████| 20/20 [00:09<00:00,  2.08it/s]\n",
      "2022-06-08 11:59:57,579 INFO: Epoch:[303/500]\n",
      "2022-06-08 11:59:57,580 INFO: Train Loss:0.822 | Acc:0.8103 | F1:0.7663\n"
     ]
    },
    {
     "name": "stdout",
     "output_type": "stream",
     "text": [
      "\n",
      "best epoch:289/loss:0.7708/f1:0.7787\n"
     ]
    },
    {
     "name": "stderr",
     "output_type": "stream",
     "text": [
      "100%|███████████████████████████████████████████| 20/20 [00:09<00:00,  2.10it/s]\n",
      "2022-06-08 12:00:07,127 INFO: Epoch:[304/500]\n",
      "2022-06-08 12:00:07,128 INFO: Train Loss:0.783 | Acc:0.8296 | F1:0.7916\n"
     ]
    },
    {
     "name": "stdout",
     "output_type": "stream",
     "text": [
      "\n",
      "best epoch:289/loss:0.7708/f1:0.7787\n"
     ]
    },
    {
     "name": "stderr",
     "output_type": "stream",
     "text": [
      "100%|███████████████████████████████████████████| 20/20 [00:09<00:00,  2.10it/s]\n",
      "2022-06-08 12:00:16,641 INFO: Epoch:[305/500]\n",
      "2022-06-08 12:00:16,641 INFO: Train Loss:0.885 | Acc:0.7942 | F1:0.7523\n"
     ]
    },
    {
     "name": "stdout",
     "output_type": "stream",
     "text": [
      "\n",
      "best epoch:289/loss:0.7708/f1:0.7787\n"
     ]
    },
    {
     "name": "stderr",
     "output_type": "stream",
     "text": [
      "100%|███████████████████████████████████████████| 20/20 [00:09<00:00,  2.08it/s]\n",
      "2022-06-08 12:00:26,267 INFO: Epoch:[306/500]\n",
      "2022-06-08 12:00:26,268 INFO: Train Loss:0.841 | Acc:0.8071 | F1:0.7669\n"
     ]
    },
    {
     "name": "stdout",
     "output_type": "stream",
     "text": [
      "\n",
      "best epoch:289/loss:0.7708/f1:0.7787\n"
     ]
    },
    {
     "name": "stderr",
     "output_type": "stream",
     "text": [
      "100%|███████████████████████████████████████████| 20/20 [00:09<00:00,  2.14it/s]\n",
      "2022-06-08 12:00:35,646 INFO: Epoch:[307/500]\n",
      "2022-06-08 12:00:35,646 INFO: Train Loss:0.833 | Acc:0.8071 | F1:0.7675\n"
     ]
    },
    {
     "name": "stdout",
     "output_type": "stream",
     "text": [
      "\n",
      "best epoch:289/loss:0.7708/f1:0.7787\n"
     ]
    },
    {
     "name": "stderr",
     "output_type": "stream",
     "text": [
      "100%|███████████████████████████████████████████| 20/20 [00:09<00:00,  2.13it/s]\n",
      "2022-06-08 12:00:45,049 INFO: Epoch:[308/500]\n",
      "2022-06-08 12:00:45,050 INFO: Train Loss:0.804 | Acc:0.8071 | F1:0.7601\n"
     ]
    },
    {
     "name": "stdout",
     "output_type": "stream",
     "text": [
      "\n",
      "best epoch:289/loss:0.7708/f1:0.7787\n"
     ]
    },
    {
     "name": "stderr",
     "output_type": "stream",
     "text": [
      "100%|███████████████████████████████████████████| 20/20 [00:09<00:00,  2.08it/s]\n",
      "2022-06-08 12:00:54,682 INFO: Epoch:[309/500]\n",
      "2022-06-08 12:00:54,683 INFO: Train Loss:0.872 | Acc:0.7878 | F1:0.7471\n"
     ]
    },
    {
     "name": "stdout",
     "output_type": "stream",
     "text": [
      "\n",
      "best epoch:289/loss:0.7708/f1:0.7787\n"
     ]
    },
    {
     "name": "stderr",
     "output_type": "stream",
     "text": [
      "100%|███████████████████████████████████████████| 20/20 [00:09<00:00,  2.10it/s]\n",
      "2022-06-08 12:01:04,206 INFO: Epoch:[310/500]\n",
      "2022-06-08 12:01:04,206 INFO: Train Loss:0.990 | Acc:0.7749 | F1:0.7278\n"
     ]
    },
    {
     "name": "stdout",
     "output_type": "stream",
     "text": [
      "\n",
      "best epoch:289/loss:0.7708/f1:0.7787\n"
     ]
    },
    {
     "name": "stderr",
     "output_type": "stream",
     "text": [
      "100%|███████████████████████████████████████████| 20/20 [00:09<00:00,  2.11it/s]\n",
      "2022-06-08 12:01:13,686 INFO: Epoch:[311/500]\n",
      "2022-06-08 12:01:13,687 INFO: Train Loss:0.857 | Acc:0.8328 | F1:0.7980\n"
     ]
    },
    {
     "name": "stdout",
     "output_type": "stream",
     "text": [
      "\n",
      "best epoch:289/loss:0.7708/f1:0.7787\n"
     ]
    },
    {
     "name": "stderr",
     "output_type": "stream",
     "text": [
      "100%|███████████████████████████████████████████| 20/20 [00:09<00:00,  2.09it/s]\n",
      "2022-06-08 12:01:23,281 INFO: Epoch:[312/500]\n",
      "2022-06-08 12:01:23,281 INFO: Train Loss:0.833 | Acc:0.8424 | F1:0.8075\n"
     ]
    },
    {
     "name": "stdout",
     "output_type": "stream",
     "text": [
      "\n",
      "best epoch:289/loss:0.7708/f1:0.7787\n"
     ]
    },
    {
     "name": "stderr",
     "output_type": "stream",
     "text": [
      "100%|███████████████████████████████████████████| 20/20 [00:09<00:00,  2.13it/s]\n",
      "2022-06-08 12:01:32,665 INFO: Epoch:[313/500]\n",
      "2022-06-08 12:01:32,665 INFO: Train Loss:0.895 | Acc:0.7781 | F1:0.7333\n"
     ]
    },
    {
     "name": "stdout",
     "output_type": "stream",
     "text": [
      "\n",
      "best epoch:289/loss:0.7708/f1:0.7787\n"
     ]
    },
    {
     "name": "stderr",
     "output_type": "stream",
     "text": [
      "100%|███████████████████████████████████████████| 20/20 [00:09<00:00,  2.13it/s]\n",
      "2022-06-08 12:01:42,076 INFO: Epoch:[314/500]\n",
      "2022-06-08 12:01:42,077 INFO: Train Loss:0.833 | Acc:0.8457 | F1:0.8105\n"
     ]
    },
    {
     "name": "stdout",
     "output_type": "stream",
     "text": [
      "\n",
      "best epoch:289/loss:0.7708/f1:0.7787\n"
     ]
    },
    {
     "name": "stderr",
     "output_type": "stream",
     "text": [
      "100%|███████████████████████████████████████████| 20/20 [00:09<00:00,  2.12it/s]\n",
      "2022-06-08 12:01:51,533 INFO: Epoch:[315/500]\n",
      "2022-06-08 12:01:51,534 INFO: Train Loss:0.732 | Acc:0.8424 | F1:0.8035\n",
      "2022-06-08 12:01:56,042 INFO: -----------------SAVE:315epoch----------------\n"
     ]
    },
    {
     "name": "stdout",
     "output_type": "stream",
     "text": [
      "\n",
      "best epoch:315/loss:0.7321/f1:0.8035\n"
     ]
    },
    {
     "name": "stderr",
     "output_type": "stream",
     "text": [
      "100%|███████████████████████████████████████████| 20/20 [00:09<00:00,  2.05it/s]\n",
      "2022-06-08 12:02:05,816 INFO: Epoch:[316/500]\n",
      "2022-06-08 12:02:05,817 INFO: Train Loss:0.846 | Acc:0.8071 | F1:0.7639\n"
     ]
    },
    {
     "name": "stdout",
     "output_type": "stream",
     "text": [
      "\n",
      "best epoch:315/loss:0.7321/f1:0.8035\n"
     ]
    },
    {
     "name": "stderr",
     "output_type": "stream",
     "text": [
      "100%|███████████████████████████████████████████| 20/20 [00:09<00:00,  2.10it/s]\n",
      "2022-06-08 12:02:15,438 INFO: Epoch:[317/500]\n",
      "2022-06-08 12:02:15,439 INFO: Train Loss:0.838 | Acc:0.8103 | F1:0.7690\n"
     ]
    },
    {
     "name": "stdout",
     "output_type": "stream",
     "text": [
      "\n",
      "best epoch:315/loss:0.7321/f1:0.8035\n"
     ]
    },
    {
     "name": "stderr",
     "output_type": "stream",
     "text": [
      "100%|███████████████████████████████████████████| 20/20 [00:09<00:00,  2.12it/s]\n",
      "2022-06-08 12:02:24,893 INFO: Epoch:[318/500]\n",
      "2022-06-08 12:02:24,893 INFO: Train Loss:0.798 | Acc:0.8328 | F1:0.7926\n"
     ]
    },
    {
     "name": "stdout",
     "output_type": "stream",
     "text": [
      "\n",
      "best epoch:315/loss:0.7321/f1:0.8035\n"
     ]
    },
    {
     "name": "stderr",
     "output_type": "stream",
     "text": [
      "100%|███████████████████████████████████████████| 20/20 [00:09<00:00,  2.10it/s]\n",
      "2022-06-08 12:02:34,434 INFO: Epoch:[319/500]\n",
      "2022-06-08 12:02:34,435 INFO: Train Loss:0.859 | Acc:0.8039 | F1:0.7674\n"
     ]
    },
    {
     "name": "stdout",
     "output_type": "stream",
     "text": [
      "\n",
      "best epoch:315/loss:0.7321/f1:0.8035\n"
     ]
    },
    {
     "name": "stderr",
     "output_type": "stream",
     "text": [
      "100%|███████████████████████████████████████████| 20/20 [00:09<00:00,  2.11it/s]\n",
      "2022-06-08 12:02:43,918 INFO: Epoch:[320/500]\n",
      "2022-06-08 12:02:43,918 INFO: Train Loss:0.762 | Acc:0.8392 | F1:0.8009\n"
     ]
    },
    {
     "name": "stdout",
     "output_type": "stream",
     "text": [
      "\n",
      "best epoch:315/loss:0.7321/f1:0.8035\n"
     ]
    },
    {
     "name": "stderr",
     "output_type": "stream",
     "text": [
      "100%|███████████████████████████████████████████| 20/20 [00:09<00:00,  2.07it/s]\n",
      "2022-06-08 12:02:53,613 INFO: Epoch:[321/500]\n",
      "2022-06-08 12:02:53,614 INFO: Train Loss:0.874 | Acc:0.7781 | F1:0.7351\n"
     ]
    },
    {
     "name": "stdout",
     "output_type": "stream",
     "text": [
      "\n",
      "best epoch:315/loss:0.7321/f1:0.8035\n"
     ]
    },
    {
     "name": "stderr",
     "output_type": "stream",
     "text": [
      "100%|███████████████████████████████████████████| 20/20 [00:09<00:00,  2.06it/s]\n",
      "2022-06-08 12:03:03,353 INFO: Epoch:[322/500]\n",
      "2022-06-08 12:03:03,353 INFO: Train Loss:0.873 | Acc:0.8039 | F1:0.7629\n"
     ]
    },
    {
     "name": "stdout",
     "output_type": "stream",
     "text": [
      "\n",
      "best epoch:315/loss:0.7321/f1:0.8035\n"
     ]
    },
    {
     "name": "stderr",
     "output_type": "stream",
     "text": [
      "100%|███████████████████████████████████████████| 20/20 [00:09<00:00,  2.09it/s]\n",
      "2022-06-08 12:03:12,950 INFO: Epoch:[323/500]\n",
      "2022-06-08 12:03:12,950 INFO: Train Loss:0.854 | Acc:0.8135 | F1:0.7685\n"
     ]
    },
    {
     "name": "stdout",
     "output_type": "stream",
     "text": [
      "\n",
      "best epoch:315/loss:0.7321/f1:0.8035\n"
     ]
    },
    {
     "name": "stderr",
     "output_type": "stream",
     "text": [
      "100%|███████████████████████████████████████████| 20/20 [00:09<00:00,  2.08it/s]\n",
      "2022-06-08 12:03:22,558 INFO: Epoch:[324/500]\n",
      "2022-06-08 12:03:22,559 INFO: Train Loss:0.868 | Acc:0.7942 | F1:0.7583\n"
     ]
    },
    {
     "name": "stdout",
     "output_type": "stream",
     "text": [
      "\n",
      "best epoch:315/loss:0.7321/f1:0.8035\n"
     ]
    },
    {
     "name": "stderr",
     "output_type": "stream",
     "text": [
      "100%|███████████████████████████████████████████| 20/20 [00:09<00:00,  2.09it/s]\n",
      "2022-06-08 12:03:32,141 INFO: Epoch:[325/500]\n",
      "2022-06-08 12:03:32,141 INFO: Train Loss:0.920 | Acc:0.7910 | F1:0.7518\n"
     ]
    },
    {
     "name": "stdout",
     "output_type": "stream",
     "text": [
      "\n",
      "best epoch:315/loss:0.7321/f1:0.8035\n"
     ]
    },
    {
     "name": "stderr",
     "output_type": "stream",
     "text": [
      "100%|███████████████████████████████████████████| 20/20 [00:09<00:00,  2.10it/s]\n",
      "2022-06-08 12:03:41,667 INFO: Epoch:[326/500]\n",
      "2022-06-08 12:03:41,668 INFO: Train Loss:0.993 | Acc:0.7717 | F1:0.7320\n"
     ]
    },
    {
     "name": "stdout",
     "output_type": "stream",
     "text": [
      "\n",
      "best epoch:315/loss:0.7321/f1:0.8035\n"
     ]
    },
    {
     "name": "stderr",
     "output_type": "stream",
     "text": [
      "100%|███████████████████████████████████████████| 20/20 [00:09<00:00,  2.08it/s]\n",
      "2022-06-08 12:03:51,310 INFO: Epoch:[327/500]\n",
      "2022-06-08 12:03:51,311 INFO: Train Loss:0.858 | Acc:0.7910 | F1:0.7519\n"
     ]
    },
    {
     "name": "stdout",
     "output_type": "stream",
     "text": [
      "\n",
      "best epoch:315/loss:0.7321/f1:0.8035\n"
     ]
    },
    {
     "name": "stderr",
     "output_type": "stream",
     "text": [
      "100%|███████████████████████████████████████████| 20/20 [00:09<00:00,  2.06it/s]\n",
      "2022-06-08 12:04:01,011 INFO: Epoch:[328/500]\n",
      "2022-06-08 12:04:01,012 INFO: Train Loss:0.578 | Acc:0.8489 | F1:0.8121\n",
      "2022-06-08 12:04:05,528 INFO: -----------------SAVE:328epoch----------------\n"
     ]
    },
    {
     "name": "stdout",
     "output_type": "stream",
     "text": [
      "\n",
      "best epoch:328/loss:0.5783/f1:0.8121\n"
     ]
    },
    {
     "name": "stderr",
     "output_type": "stream",
     "text": [
      "100%|███████████████████████████████████████████| 20/20 [00:09<00:00,  2.03it/s]\n",
      "2022-06-08 12:04:15,388 INFO: Epoch:[329/500]\n",
      "2022-06-08 12:04:15,389 INFO: Train Loss:0.878 | Acc:0.8135 | F1:0.7709\n"
     ]
    },
    {
     "name": "stdout",
     "output_type": "stream",
     "text": [
      "\n",
      "best epoch:328/loss:0.5783/f1:0.8121\n"
     ]
    },
    {
     "name": "stderr",
     "output_type": "stream",
     "text": [
      "100%|███████████████████████████████████████████| 20/20 [00:09<00:00,  2.06it/s]\n",
      "2022-06-08 12:04:25,108 INFO: Epoch:[330/500]\n",
      "2022-06-08 12:04:25,108 INFO: Train Loss:0.886 | Acc:0.8006 | F1:0.7600\n"
     ]
    },
    {
     "name": "stdout",
     "output_type": "stream",
     "text": [
      "\n",
      "best epoch:328/loss:0.5783/f1:0.8121\n"
     ]
    },
    {
     "name": "stderr",
     "output_type": "stream",
     "text": [
      "100%|███████████████████████████████████████████| 20/20 [00:09<00:00,  2.09it/s]\n",
      "2022-06-08 12:04:34,709 INFO: Epoch:[331/500]\n",
      "2022-06-08 12:04:34,709 INFO: Train Loss:0.756 | Acc:0.8199 | F1:0.7762\n"
     ]
    },
    {
     "name": "stdout",
     "output_type": "stream",
     "text": [
      "\n",
      "best epoch:328/loss:0.5783/f1:0.8121\n"
     ]
    },
    {
     "name": "stderr",
     "output_type": "stream",
     "text": [
      "100%|███████████████████████████████████████████| 20/20 [00:09<00:00,  2.06it/s]\n",
      "2022-06-08 12:04:44,441 INFO: Epoch:[332/500]\n",
      "2022-06-08 12:04:44,441 INFO: Train Loss:0.876 | Acc:0.8039 | F1:0.7685\n"
     ]
    },
    {
     "name": "stdout",
     "output_type": "stream",
     "text": [
      "\n",
      "best epoch:328/loss:0.5783/f1:0.8121\n"
     ]
    },
    {
     "name": "stderr",
     "output_type": "stream",
     "text": [
      "100%|███████████████████████████████████████████| 20/20 [00:09<00:00,  2.08it/s]\n",
      "2022-06-08 12:04:54,086 INFO: Epoch:[333/500]\n",
      "2022-06-08 12:04:54,086 INFO: Train Loss:0.706 | Acc:0.8328 | F1:0.7962\n"
     ]
    },
    {
     "name": "stdout",
     "output_type": "stream",
     "text": [
      "\n",
      "best epoch:328/loss:0.5783/f1:0.8121\n"
     ]
    },
    {
     "name": "stderr",
     "output_type": "stream",
     "text": [
      "100%|███████████████████████████████████████████| 20/20 [00:09<00:00,  2.02it/s]\n",
      "2022-06-08 12:05:03,981 INFO: Epoch:[334/500]\n",
      "2022-06-08 12:05:03,982 INFO: Train Loss:0.720 | Acc:0.8489 | F1:0.8155\n"
     ]
    },
    {
     "name": "stdout",
     "output_type": "stream",
     "text": [
      "\n",
      "best epoch:328/loss:0.5783/f1:0.8121\n"
     ]
    },
    {
     "name": "stderr",
     "output_type": "stream",
     "text": [
      "100%|███████████████████████████████████████████| 20/20 [00:09<00:00,  2.07it/s]\n",
      "2022-06-08 12:05:13,673 INFO: Epoch:[335/500]\n",
      "2022-06-08 12:05:13,674 INFO: Train Loss:0.701 | Acc:0.8296 | F1:0.7888\n"
     ]
    },
    {
     "name": "stdout",
     "output_type": "stream",
     "text": [
      "\n",
      "best epoch:328/loss:0.5783/f1:0.8121\n"
     ]
    },
    {
     "name": "stderr",
     "output_type": "stream",
     "text": [
      "100%|███████████████████████████████████████████| 20/20 [00:09<00:00,  2.01it/s]\n",
      "2022-06-08 12:05:23,649 INFO: Epoch:[336/500]\n",
      "2022-06-08 12:05:23,650 INFO: Train Loss:0.928 | Acc:0.7814 | F1:0.7421\n"
     ]
    },
    {
     "name": "stdout",
     "output_type": "stream",
     "text": [
      "\n",
      "best epoch:328/loss:0.5783/f1:0.8121\n"
     ]
    },
    {
     "name": "stderr",
     "output_type": "stream",
     "text": [
      "100%|███████████████████████████████████████████| 20/20 [00:09<00:00,  2.04it/s]\n",
      "2022-06-08 12:05:33,445 INFO: Epoch:[337/500]\n",
      "2022-06-08 12:05:33,446 INFO: Train Loss:0.792 | Acc:0.8167 | F1:0.7741\n"
     ]
    },
    {
     "name": "stdout",
     "output_type": "stream",
     "text": [
      "\n",
      "best epoch:328/loss:0.5783/f1:0.8121\n"
     ]
    },
    {
     "name": "stderr",
     "output_type": "stream",
     "text": [
      "100%|███████████████████████████████████████████| 20/20 [00:09<00:00,  2.04it/s]\n",
      "2022-06-08 12:05:43,272 INFO: Epoch:[338/500]\n",
      "2022-06-08 12:05:43,273 INFO: Train Loss:0.586 | Acc:0.8650 | F1:0.8310\n"
     ]
    },
    {
     "name": "stdout",
     "output_type": "stream",
     "text": [
      "\n",
      "best epoch:328/loss:0.5783/f1:0.8121\n"
     ]
    },
    {
     "name": "stderr",
     "output_type": "stream",
     "text": [
      "100%|███████████████████████████████████████████| 20/20 [00:09<00:00,  2.03it/s]\n",
      "2022-06-08 12:05:53,133 INFO: Epoch:[339/500]\n",
      "2022-06-08 12:05:53,134 INFO: Train Loss:0.765 | Acc:0.8232 | F1:0.7843\n"
     ]
    },
    {
     "name": "stdout",
     "output_type": "stream",
     "text": [
      "\n",
      "best epoch:328/loss:0.5783/f1:0.8121\n"
     ]
    },
    {
     "name": "stderr",
     "output_type": "stream",
     "text": [
      "100%|███████████████████████████████████████████| 20/20 [00:09<00:00,  2.02it/s]\n",
      "2022-06-08 12:06:03,049 INFO: Epoch:[340/500]\n",
      "2022-06-08 12:06:03,049 INFO: Train Loss:0.733 | Acc:0.8328 | F1:0.7957\n"
     ]
    },
    {
     "name": "stdout",
     "output_type": "stream",
     "text": [
      "\n",
      "best epoch:328/loss:0.5783/f1:0.8121\n"
     ]
    },
    {
     "name": "stderr",
     "output_type": "stream",
     "text": [
      "100%|███████████████████████████████████████████| 20/20 [00:09<00:00,  2.04it/s]\n",
      "2022-06-08 12:06:12,841 INFO: Epoch:[341/500]\n",
      "2022-06-08 12:06:12,842 INFO: Train Loss:0.691 | Acc:0.8199 | F1:0.7776\n"
     ]
    },
    {
     "name": "stdout",
     "output_type": "stream",
     "text": [
      "\n",
      "best epoch:328/loss:0.5783/f1:0.8121\n"
     ]
    },
    {
     "name": "stderr",
     "output_type": "stream",
     "text": [
      "100%|███████████████████████████████████████████| 20/20 [00:09<00:00,  2.08it/s]\n",
      "2022-06-08 12:06:22,475 INFO: Epoch:[342/500]\n",
      "2022-06-08 12:06:22,475 INFO: Train Loss:0.844 | Acc:0.8328 | F1:0.8013\n"
     ]
    },
    {
     "name": "stdout",
     "output_type": "stream",
     "text": [
      "\n",
      "best epoch:328/loss:0.5783/f1:0.8121\n"
     ]
    },
    {
     "name": "stderr",
     "output_type": "stream",
     "text": [
      "100%|███████████████████████████████████████████| 20/20 [00:09<00:00,  2.06it/s]\n",
      "2022-06-08 12:06:32,189 INFO: Epoch:[343/500]\n",
      "2022-06-08 12:06:32,189 INFO: Train Loss:0.710 | Acc:0.8328 | F1:0.7982\n"
     ]
    },
    {
     "name": "stdout",
     "output_type": "stream",
     "text": [
      "\n",
      "best epoch:328/loss:0.5783/f1:0.8121\n"
     ]
    },
    {
     "name": "stderr",
     "output_type": "stream",
     "text": [
      "100%|███████████████████████████████████████████| 20/20 [00:09<00:00,  2.04it/s]\n",
      "2022-06-08 12:06:42,015 INFO: Epoch:[344/500]\n",
      "2022-06-08 12:06:42,015 INFO: Train Loss:0.742 | Acc:0.8360 | F1:0.8046\n"
     ]
    },
    {
     "name": "stdout",
     "output_type": "stream",
     "text": [
      "\n",
      "best epoch:328/loss:0.5783/f1:0.8121\n"
     ]
    },
    {
     "name": "stderr",
     "output_type": "stream",
     "text": [
      "100%|███████████████████████████████████████████| 20/20 [00:09<00:00,  2.03it/s]\n",
      "2022-06-08 12:06:51,862 INFO: Epoch:[345/500]\n",
      "2022-06-08 12:06:51,863 INFO: Train Loss:0.836 | Acc:0.7974 | F1:0.7585\n"
     ]
    },
    {
     "name": "stdout",
     "output_type": "stream",
     "text": [
      "\n",
      "best epoch:328/loss:0.5783/f1:0.8121\n"
     ]
    },
    {
     "name": "stderr",
     "output_type": "stream",
     "text": [
      "100%|███████████████████████████████████████████| 20/20 [00:09<00:00,  2.06it/s]\n",
      "2022-06-08 12:07:01,583 INFO: Epoch:[346/500]\n",
      "2022-06-08 12:07:01,584 INFO: Train Loss:0.750 | Acc:0.8360 | F1:0.7985\n"
     ]
    },
    {
     "name": "stdout",
     "output_type": "stream",
     "text": [
      "\n",
      "best epoch:328/loss:0.5783/f1:0.8121\n"
     ]
    },
    {
     "name": "stderr",
     "output_type": "stream",
     "text": [
      "100%|███████████████████████████████████████████| 20/20 [00:09<00:00,  2.04it/s]\n",
      "2022-06-08 12:07:11,401 INFO: Epoch:[347/500]\n",
      "2022-06-08 12:07:11,402 INFO: Train Loss:0.613 | Acc:0.8553 | F1:0.8233\n"
     ]
    },
    {
     "name": "stdout",
     "output_type": "stream",
     "text": [
      "\n",
      "best epoch:328/loss:0.5783/f1:0.8121\n"
     ]
    },
    {
     "name": "stderr",
     "output_type": "stream",
     "text": [
      "100%|███████████████████████████████████████████| 20/20 [00:09<00:00,  2.02it/s]\n",
      "2022-06-08 12:07:21,306 INFO: Epoch:[348/500]\n",
      "2022-06-08 12:07:21,307 INFO: Train Loss:0.794 | Acc:0.7974 | F1:0.7505\n"
     ]
    },
    {
     "name": "stdout",
     "output_type": "stream",
     "text": [
      "\n",
      "best epoch:328/loss:0.5783/f1:0.8121\n"
     ]
    },
    {
     "name": "stderr",
     "output_type": "stream",
     "text": [
      "100%|███████████████████████████████████████████| 20/20 [00:09<00:00,  2.04it/s]\n",
      "2022-06-08 12:07:31,125 INFO: Epoch:[349/500]\n",
      "2022-06-08 12:07:31,126 INFO: Train Loss:0.693 | Acc:0.8392 | F1:0.7996\n"
     ]
    },
    {
     "name": "stdout",
     "output_type": "stream",
     "text": [
      "\n",
      "best epoch:328/loss:0.5783/f1:0.8121\n"
     ]
    },
    {
     "name": "stderr",
     "output_type": "stream",
     "text": [
      "100%|███████████████████████████████████████████| 20/20 [00:09<00:00,  2.04it/s]\n",
      "2022-06-08 12:07:40,946 INFO: Epoch:[350/500]\n",
      "2022-06-08 12:07:40,947 INFO: Train Loss:0.802 | Acc:0.8135 | F1:0.7804\n"
     ]
    },
    {
     "name": "stdout",
     "output_type": "stream",
     "text": [
      "\n",
      "best epoch:328/loss:0.5783/f1:0.8121\n"
     ]
    },
    {
     "name": "stderr",
     "output_type": "stream",
     "text": [
      "100%|███████████████████████████████████████████| 20/20 [00:09<00:00,  2.04it/s]\n",
      "2022-06-08 12:07:50,774 INFO: Epoch:[351/500]\n",
      "2022-06-08 12:07:50,775 INFO: Train Loss:0.677 | Acc:0.8617 | F1:0.8344\n"
     ]
    },
    {
     "name": "stdout",
     "output_type": "stream",
     "text": [
      "\n",
      "best epoch:328/loss:0.5783/f1:0.8121\n"
     ]
    },
    {
     "name": "stderr",
     "output_type": "stream",
     "text": [
      "100%|███████████████████████████████████████████| 20/20 [00:09<00:00,  2.06it/s]\n",
      "2022-06-08 12:08:00,517 INFO: Epoch:[352/500]\n",
      "2022-06-08 12:08:00,518 INFO: Train Loss:0.736 | Acc:0.8232 | F1:0.7864\n"
     ]
    },
    {
     "name": "stdout",
     "output_type": "stream",
     "text": [
      "\n",
      "best epoch:328/loss:0.5783/f1:0.8121\n"
     ]
    },
    {
     "name": "stderr",
     "output_type": "stream",
     "text": [
      "100%|███████████████████████████████████████████| 20/20 [00:09<00:00,  2.01it/s]\n",
      "2022-06-08 12:08:10,459 INFO: Epoch:[353/500]\n",
      "2022-06-08 12:08:10,460 INFO: Train Loss:0.798 | Acc:0.8135 | F1:0.7842\n"
     ]
    },
    {
     "name": "stdout",
     "output_type": "stream",
     "text": [
      "\n",
      "best epoch:328/loss:0.5783/f1:0.8121\n"
     ]
    },
    {
     "name": "stderr",
     "output_type": "stream",
     "text": [
      "100%|███████████████████████████████████████████| 20/20 [00:09<00:00,  2.03it/s]\n",
      "2022-06-08 12:08:20,307 INFO: Epoch:[354/500]\n",
      "2022-06-08 12:08:20,308 INFO: Train Loss:0.832 | Acc:0.8232 | F1:0.7853\n"
     ]
    },
    {
     "name": "stdout",
     "output_type": "stream",
     "text": [
      "\n",
      "best epoch:328/loss:0.5783/f1:0.8121\n"
     ]
    },
    {
     "name": "stderr",
     "output_type": "stream",
     "text": [
      "100%|███████████████████████████████████████████| 20/20 [00:09<00:00,  2.02it/s]\n",
      "2022-06-08 12:08:30,235 INFO: Epoch:[355/500]\n",
      "2022-06-08 12:08:30,236 INFO: Train Loss:0.607 | Acc:0.8521 | F1:0.8156\n"
     ]
    },
    {
     "name": "stdout",
     "output_type": "stream",
     "text": [
      "\n",
      "best epoch:328/loss:0.5783/f1:0.8121\n"
     ]
    },
    {
     "name": "stderr",
     "output_type": "stream",
     "text": [
      "100%|███████████████████████████████████████████| 20/20 [00:09<00:00,  2.01it/s]\n",
      "2022-06-08 12:08:40,191 INFO: Epoch:[356/500]\n",
      "2022-06-08 12:08:40,192 INFO: Train Loss:0.764 | Acc:0.8328 | F1:0.7995\n"
     ]
    },
    {
     "name": "stdout",
     "output_type": "stream",
     "text": [
      "\n",
      "best epoch:328/loss:0.5783/f1:0.8121\n"
     ]
    },
    {
     "name": "stderr",
     "output_type": "stream",
     "text": [
      "100%|███████████████████████████████████████████| 20/20 [00:09<00:00,  2.06it/s]\n",
      "2022-06-08 12:08:49,920 INFO: Epoch:[357/500]\n",
      "2022-06-08 12:08:49,921 INFO: Train Loss:0.707 | Acc:0.8360 | F1:0.8044\n"
     ]
    },
    {
     "name": "stdout",
     "output_type": "stream",
     "text": [
      "\n",
      "best epoch:328/loss:0.5783/f1:0.8121\n"
     ]
    },
    {
     "name": "stderr",
     "output_type": "stream",
     "text": [
      "100%|███████████████████████████████████████████| 20/20 [00:09<00:00,  2.03it/s]\n",
      "2022-06-08 12:08:59,764 INFO: Epoch:[358/500]\n",
      "2022-06-08 12:08:59,765 INFO: Train Loss:0.794 | Acc:0.8135 | F1:0.7783\n",
      "2022-06-08 12:08:59,770 INFO: \n",
      "Best Train Epoch:328 | Train Loss:0.5783 | Train Acc:0.8489 | Train F1:0.8121\n",
      "2022-06-08 12:08:59,771 INFO: Total Process time:65.904Minute\n"
     ]
    }
   ],
   "source": [
    "# fold 없이\n",
    "models_path = []\n",
    "args.fold = 0\n",
    "args.exp_num = str(0)\n",
    "save_path = main(args)\n",
    "models_path.append(save_path)"
   ]
  },
  {
   "cell_type": "code",
   "execution_count": 19,
   "id": "f626fb20",
   "metadata": {},
   "outputs": [
    {
     "data": {
      "text/plain": [
       "['results/000']"
      ]
     },
     "execution_count": 19,
     "metadata": {},
     "output_type": "execute_result"
    }
   ],
   "source": [
    "models_path"
   ]
  },
  {
   "cell_type": "code",
   "execution_count": 20,
   "id": "a866b263",
   "metadata": {},
   "outputs": [],
   "source": [
    "# # fold X\n",
    "# result = result(models_path, test_loader, device)"
   ]
  },
  {
   "cell_type": "code",
   "execution_count": 21,
   "id": "d34beddd",
   "metadata": {},
   "outputs": [
    {
     "name": "stdout",
     "output_type": "stream",
     "text": [
      "batch_size = 16\n",
      "epochs = 500\n",
      "img_size = 224\n",
      "patience = 30\n"
     ]
    }
   ],
   "source": [
    "# 학습에 사용한 모델의 batch_size, epoch, img_size, patience\n",
    "print('batch_size =', args.batch_size)\n",
    "print('epochs =', args.epochs)\n",
    "print('img_size =', args.img_size)\n",
    "print('patience =', args.patience)"
   ]
  },
  {
   "cell_type": "code",
   "execution_count": 22,
   "id": "a1f5385e",
   "metadata": {},
   "outputs": [
    {
     "name": "stdout",
     "output_type": "stream",
     "text": [
      "model = regnety_160\n"
     ]
    }
   ],
   "source": [
    "print('model =', args.encoder_name)"
   ]
  },
  {
   "cell_type": "code",
   "execution_count": null,
   "id": "f18ee487",
   "metadata": {},
   "outputs": [],
   "source": []
  },
  {
   "cell_type": "code",
   "execution_count": null,
   "id": "fdfece32",
   "metadata": {},
   "outputs": [],
   "source": []
  },
  {
   "cell_type": "code",
   "execution_count": null,
   "id": "32afb705",
   "metadata": {},
   "outputs": [],
   "source": []
  },
  {
   "cell_type": "code",
   "execution_count": null,
   "id": "d2b2aea6",
   "metadata": {},
   "outputs": [],
   "source": []
  },
  {
   "cell_type": "code",
   "execution_count": null,
   "id": "9f94a302",
   "metadata": {},
   "outputs": [],
   "source": []
  },
  {
   "cell_type": "code",
   "execution_count": null,
   "id": "58f81609",
   "metadata": {},
   "outputs": [],
   "source": []
  },
  {
   "cell_type": "code",
   "execution_count": null,
   "id": "eac9705a",
   "metadata": {},
   "outputs": [],
   "source": []
  }
 ],
 "metadata": {
  "kernelspec": {
   "display_name": "Python [conda env:pytorch_16] *",
   "language": "python",
   "name": "conda-env-pytorch_16-py"
  },
  "language_info": {
   "codemirror_mode": {
    "name": "ipython",
    "version": 3
   },
   "file_extension": ".py",
   "mimetype": "text/x-python",
   "name": "python",
   "nbconvert_exporter": "python",
   "pygments_lexer": "ipython3",
   "version": "3.8.13"
  }
 },
 "nbformat": 4,
 "nbformat_minor": 5
}
