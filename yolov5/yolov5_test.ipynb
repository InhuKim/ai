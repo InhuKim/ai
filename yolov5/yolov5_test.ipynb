{
 "cells": [
  {
   "cell_type": "markdown",
   "id": "f3053350",
   "metadata": {},
   "source": [
    "# 1. Install and Import Dependencies"
   ]
  },
  {
   "cell_type": "code",
   "execution_count": null,
   "id": "71e9edad",
   "metadata": {},
   "outputs": [],
   "source": [
    "!pip3 install torch==1.8.2 torchvision==0.9.2 torchaudio===0.8.2 --extra-index-url https://download.pytorch.org/whl/lts/1.8/cu111"
   ]
  },
  {
   "cell_type": "code",
   "execution_count": null,
   "id": "63b92493",
   "metadata": {},
   "outputs": [],
   "source": [
    "!git clone https://github.com/ultralytics/yolov5"
   ]
  },
  {
   "cell_type": "code",
   "execution_count": null,
   "id": "e44f9929",
   "metadata": {},
   "outputs": [],
   "source": [
    "!cd yolov5 & pip install -r requirements.txt"
   ]
  },
  {
   "cell_type": "code",
   "execution_count": null,
   "id": "556d7966",
   "metadata": {},
   "outputs": [],
   "source": [
    "import torch\n",
    "from matplotlib import pyplot as plt\n",
    "import numpy as np\n",
    "import cv2\n",
    "import PIL\n",
    "import torchvision.transforms as transforms"
   ]
  },
  {
   "cell_type": "markdown",
   "id": "0e8069ca",
   "metadata": {},
   "source": [
    "# 2. Load Model"
   ]
  },
  {
   "cell_type": "code",
   "execution_count": null,
   "id": "3b426883",
   "metadata": {},
   "outputs": [],
   "source": [
    "model = torch.hub.load('ultralytics/yolov5', 'yolov5s')\n",
    "\n",
    "model"
   ]
  },
  {
   "cell_type": "markdown",
   "id": "7672de9a",
   "metadata": {},
   "source": [
    "# 3. Make Detections with Images"
   ]
  },
  {
   "cell_type": "code",
   "execution_count": null,
   "id": "f99dc337",
   "metadata": {},
   "outputs": [],
   "source": [
    "img = PIL.Image.open('C:/Users/yourm/Desktop/yunghab3/20220603_114217.png')\n",
    "img.show()"
   ]
  },
  {
   "cell_type": "code",
   "execution_count": null,
   "id": "9c9efc35",
   "metadata": {},
   "outputs": [],
   "source": [
    "# object detection 적용된 이미지를 저장\n",
    "results = model(img)\n",
    "results.save()"
   ]
  },
  {
   "cell_type": "markdown",
   "id": "5233ce9f",
   "metadata": {},
   "source": [
    "# 4. Real Time Detections"
   ]
  },
  {
   "cell_type": "code",
   "execution_count": null,
   "id": "302fa547",
   "metadata": {},
   "outputs": [],
   "source": [
    "# 웹켐을 이용\n",
    "cap = cv2.VideoCapture(0) #0은 웹캠을 의미함 만약 파일이나 웹주소라면 그대로 주소를 쓰면됨\n",
    "while cap.isOpened():\n",
    "    ret, frame = cap.read() # ret은 이미지 유무(True, Flase), frame 은 이미지\n",
    "    \n",
    "    # Make detections \n",
    "    results = model(frame)\n",
    "    \n",
    "    cv2.imshow('YOLO', np.squeeze(results.render()))\n",
    "    \n",
    "    if cv2.waitKey(10) & 0xFF == ord('q'): # q 를 누르면 빠져나옴.\n",
    "        break\n",
    "cap.release()\n",
    "cv2.destroyAllWindows()"
   ]
  },
  {
   "cell_type": "markdown",
   "id": "48258732",
   "metadata": {},
   "source": [
    "# 5. Train from scratch"
   ]
  },
  {
   "cell_type": "code",
   "execution_count": null,
   "id": "23c43c3e",
   "metadata": {},
   "outputs": [],
   "source": [
    "import uuid   # Unique identifier\n",
    "import os\n",
    "import time"
   ]
  },
  {
   "cell_type": "code",
   "execution_count": null,
   "id": "c68f47cd",
   "metadata": {},
   "outputs": [],
   "source": [
    "IMAGES_PATH = os.path.join('yolov5/data', 'images') #/yolov5/data/images 디렉토리에 저장된다.\n",
    "labels = ['awake', 'drowsy'] # 깨있는상태, 졸린상태 2가지 구분\n",
    "number_imgs = 20  # 각 20장씩"
   ]
  },
  {
   "cell_type": "code",
   "execution_count": null,
   "id": "56b85fa8",
   "metadata": {},
   "outputs": [],
   "source": [
    "print(os.getcwd())\n",
    "cap = cv2.VideoCapture(0)\n",
    "# Loop through labels\n",
    "for label in labels:  # 20장, 20장  총 40장을 찍는다.\n",
    "    print('Collecting images for {}'.format(label))\n",
    "    time.sleep(5) # 5초후에 시작\n",
    "    \n",
    "    # Loop through image range\n",
    "    for img_num in range(number_imgs):\n",
    "        print('Collecting images for {}, image number {}'.format(label, img_num))\n",
    "        \n",
    "        # Webcam feed\n",
    "        ret, frame = cap.read()\n",
    "        \n",
    "        # Naming out image path\n",
    "        imgname = os.path.join(IMAGES_PATH, label+'.'+str(uuid.uuid1())+'.jpg') # 유니크한 파일이름을 생성해줌\n",
    "        print('imgname : ',imgname)\n",
    "        # Writes out image to file \n",
    "        cv2.imwrite(imgname, frame)\n",
    "        \n",
    "        # Render to the screen\n",
    "        cv2.imshow('Image Collection', frame)\n",
    "        \n",
    "        # 2 second delay between captures\n",
    "        time.sleep(2)\n",
    "        \n",
    "        if cv2.waitKey(10) & 0xFF == ord('q'):\n",
    "            break\n",
    "cap.release()\n",
    "cv2.destroyAllWindows()"
   ]
  },
  {
   "cell_type": "code",
   "execution_count": null,
   "id": "b4d3636d",
   "metadata": {},
   "outputs": [],
   "source": [
    "# 라벨링하는 프로그램 설치\n",
    "# labelImg 폴더위치 확인 필요..\n",
    "!git clone https://github.com/tzutalin/labelImg"
   ]
  },
  {
   "cell_type": "code",
   "execution_count": null,
   "id": "a293a3a7",
   "metadata": {},
   "outputs": [],
   "source": [
    "# 원래 소스에는 !pip install pyqt5 lxml --upgrade  이거여지만 spyder와 버전문제로 아래처럼 수정하였슴.\n",
    "print(\"###### spyder\")\n",
    "!pip install spyder --upgrade\n",
    "print(\"###### pyqt5\")\n",
    "!pip install pyqt5 --upgrade\n",
    "print(\"###### lxml\")\n",
    "!pip install lxml --upgrade\n",
    "\n"
   ]
  },
  {
   "cell_type": "code",
   "execution_count": null,
   "id": "321e3e3d",
   "metadata": {},
   "outputs": [],
   "source": [
    "# 현재 디렉토리 위치 확인하고 설치한 labelImg 폴더로 이동\n",
    "print(os.getcwd())\n"
   ]
  },
  {
   "cell_type": "code",
   "execution_count": null,
   "id": "46df4eac",
   "metadata": {},
   "outputs": [],
   "source": [
    "#%cd labelImg"
   ]
  },
  {
   "cell_type": "code",
   "execution_count": null,
   "id": "84bc2ec3",
   "metadata": {},
   "outputs": [],
   "source": [
    "# resources.qrc 파일을 resources.py 파일로 바꿔준다고 합니다.\n",
    "# labelImg.py 파일을 돌리기 위해필요\n",
    "#아래는 윈도우에서 \n",
    "!pyrcc5 -o libs/resources.py resources.qrc\n",
    "\n",
    "#다른 OS는 https://github.com/tzutalin/labelImg 에서 확인후 실행"
   ]
  },
  {
   "cell_type": "code",
   "execution_count": null,
   "id": "b2011373",
   "metadata": {},
   "outputs": [],
   "source": [
    "# labelImg.py 파일 실행\n",
    "print(os.getcwd())\n",
    "!python labelImg.py"
   ]
  },
  {
   "cell_type": "markdown",
   "id": "f0d9011a",
   "metadata": {},
   "source": [
    "### 5-2 라벨만드는방법은 다음게시글을 확인하세요"
   ]
  },
  {
   "cell_type": "markdown",
   "id": "3cb224d6",
   "metadata": {},
   "source": [
    "### 5-3 트레이닝"
   ]
  },
  {
   "cell_type": "code",
   "execution_count": null,
   "id": "701e6cf2",
   "metadata": {},
   "outputs": [],
   "source": [
    "!python train.py --img 320 --batch 16 --epochs 20 --data dataset.yml --weights yolov5s.pt --workers 2"
   ]
  },
  {
   "cell_type": "markdown",
   "id": "fafa4181",
   "metadata": {},
   "source": [
    "### 5-4 colab 에서 트레이닝은 다음게시글을 확인하세요"
   ]
  },
  {
   "cell_type": "markdown",
   "id": "f2b981c5",
   "metadata": {},
   "source": [
    "# 6. Load Custom Model"
   ]
  },
  {
   "cell_type": "code",
   "execution_count": null,
   "id": "2cbad678",
   "metadata": {},
   "outputs": [],
   "source": [
    "# 우리가 만든 모델을 이용해서 테스트합니다.\n",
    "import os\n",
    "import torch\n",
    "from matplotlib import pyplot as plt\n",
    "import numpy as np\n",
    "import cv2\n",
    "os.getcwd()\n",
    "#%cd .."
   ]
  },
  {
   "cell_type": "code",
   "execution_count": null,
   "id": "140d6cc9",
   "metadata": {},
   "outputs": [],
   "source": [
    "# path 에 train 시킨 모델을 적어줍니다.\n",
    "model = torch.hub.load('ultralytics/yolov5', 'custom', path='./yolov5/runs/train/exp_colab/weights/best.pt', force_reload=True)"
   ]
  },
  {
   "cell_type": "code",
   "execution_count": null,
   "id": "c47eca82",
   "metadata": {},
   "outputs": [],
   "source": [
    "cap = cv2.VideoCapture(0)\n",
    "while cap.isOpened():\n",
    "    ret, frame = cap.read()\n",
    "    \n",
    "    # Make detections \n",
    "    results = model(frame)\n",
    "    \n",
    "    cv2.imshow('YOLO', np.squeeze(results.render()))\n",
    "    \n",
    "    if cv2.waitKey(10) & 0xFF == ord('q'):\n",
    "        break\n",
    "cap.release()\n",
    "cv2.destroyAllWindows()"
   ]
  },
  {
   "cell_type": "markdown",
   "id": "a7512a90",
   "metadata": {},
   "source": [
    "# 모델 변환"
   ]
  },
  {
   "cell_type": "code",
   "execution_count": null,
   "id": "2e8ae78e",
   "metadata": {},
   "outputs": [],
   "source": [
    "### 1. Yolo v5(.pt model)  ---> .pb model\n",
    "### 2. pb model  ---> .tflite model\n",
    "### 3. Use tflite model in Android App"
   ]
  },
  {
   "cell_type": "code",
   "execution_count": null,
   "id": "962d3738",
   "metadata": {},
   "outputs": [],
   "source": [
    "import os\n",
    "# 폴더위치 : yolov5 에서 실행\n",
    "os.getcwd()\n"
   ]
  },
  {
   "cell_type": "code",
   "execution_count": null,
   "id": "cf41d612",
   "metadata": {},
   "outputs": [],
   "source": [
    "#%cd yolov5"
   ]
  },
  {
   "cell_type": "code",
   "execution_count": null,
   "id": "5217bfab",
   "metadata": {},
   "outputs": [],
   "source": [
    "# 같은 위치에 tflite 파일을 생성합니다. saved_model 폴더에 pb 파일도 생성됩니다.\n",
    "!python export.py --weights ./runs/train/exp_colab/weights/best.pt --include tflite --img 416"
   ]
  },
  {
   "cell_type": "code",
   "execution_count": null,
   "id": "08869211",
   "metadata": {},
   "outputs": [],
   "source": [
    "# 테스트 해봅니다.\n",
    "# --data dataset.yml을 넣지않으면 coco128.yaml 로 실행될겁니다.\n",
    "# source 는 웹캠으로 잡았습니다. 파일주소를 넣어도 됩니다.\n",
    "!python detect.py --weights ./runs/train/exp_colab/weights/best-fp16.tflite --data dataset.yml --img 416 --conf 0.25 --source 0"
   ]
  },
  {
   "cell_type": "code",
   "execution_count": null,
   "id": "321cba39",
   "metadata": {},
   "outputs": [],
   "source": []
  },
  {
   "cell_type": "code",
   "execution_count": null,
   "id": "27b9e563",
   "metadata": {},
   "outputs": [],
   "source": []
  },
  {
   "cell_type": "code",
   "execution_count": null,
   "id": "ca5fa99e",
   "metadata": {},
   "outputs": [],
   "source": []
  },
  {
   "cell_type": "code",
   "execution_count": null,
   "id": "7dc6ff94",
   "metadata": {},
   "outputs": [],
   "source": []
  },
  {
   "cell_type": "code",
   "execution_count": null,
   "id": "ca1f170e",
   "metadata": {},
   "outputs": [],
   "source": []
  },
  {
   "cell_type": "code",
   "execution_count": null,
   "id": "4b80c093",
   "metadata": {},
   "outputs": [],
   "source": []
  },
  {
   "cell_type": "code",
   "execution_count": null,
   "id": "30e6d5c4",
   "metadata": {},
   "outputs": [],
   "source": []
  }
 ],
 "metadata": {
  "kernelspec": {
   "display_name": "Python 3 (ipykernel)",
   "language": "python",
   "name": "python3"
  },
  "language_info": {
   "codemirror_mode": {
    "name": "ipython",
    "version": 3
   },
   "file_extension": ".py",
   "mimetype": "text/x-python",
   "name": "python",
   "nbconvert_exporter": "python",
   "pygments_lexer": "ipython3",
   "version": "3.9.7"
  }
 },
 "nbformat": 4,
 "nbformat_minor": 5
}
