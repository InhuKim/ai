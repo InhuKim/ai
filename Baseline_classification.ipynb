{
 "cells": [
  {
   "cell_type": "markdown",
   "id": "1420e48b",
   "metadata": {},
   "source": [
    "# Library"
   ]
  },
  {
   "cell_type": "code",
   "execution_count": 1,
   "id": "dad549c3",
   "metadata": {},
   "outputs": [],
   "source": [
    "import numpy as np\n",
    "import random\n",
    "import os\n",
    "import math\n",
    "from sklearn import preprocessing\n",
    "from sklearn.preprocessing import MinMaxScaler\n",
    "\n",
    "\n",
    "from glob import glob\n",
    "import pandas as pd\n",
    "import cv2\n",
    "from tqdm.auto import tqdm\n",
    "\n",
    "import torch\n",
    "import torch.nn as nn\n",
    "import torch.nn.functional as F\n",
    "from torch.utils.data import DataLoader, Dataset\n",
    "\n",
    "from torch.autograd import Variable\n",
    "\n",
    "import torchvision.models as models\n",
    "from torchvision import transforms"
   ]
  },
  {
   "cell_type": "code",
   "execution_count": null,
   "id": "78ba78c4",
   "metadata": {},
   "outputs": [],
   "source": [
    "device = 'cuda' if torch.cuda.is_available() else 'cpu'\n",
    "print(f\"Using {device} device\")"
   ]
  },
  {
   "cell_type": "markdown",
   "id": "1179c37e",
   "metadata": {},
   "source": [
    "# 0. HyperParameter"
   ]
  },
  {
   "cell_type": "code",
   "execution_count": null,
   "id": "9e4bdec9",
   "metadata": {},
   "outputs": [],
   "source": []
  },
  {
   "cell_type": "markdown",
   "id": "1420acd4",
   "metadata": {},
   "source": [
    "# 1. Data Pre-processing"
   ]
  },
  {
   "cell_type": "markdown",
   "id": "10b46093",
   "metadata": {},
   "source": [
    "### - Data load"
   ]
  },
  {
   "cell_type": "code",
   "execution_count": null,
   "id": "191aa5e8",
   "metadata": {},
   "outputs": [],
   "source": [
    "# 디렉토리 내의 이미지 파일명 불러오기\n",
    "def get_image_data(data_dir):\n",
    "    img_path_list = []\n",
    "    label_list = []\n",
    "    \n",
    "    image_path = os.path.join(data_dir, 'image')\n",
    "    label_path = os.path.join(data_dir, 'label')\n",
    "    \n",
    "    for product_name in os.listdir(image_path):\n",
    "        product_path = os.path.join(image_path, product_name)\n",
    "        if os.path.isdir(product_path):\n",
    "            # get image path\n",
    "            img_path_list.extend(glob(os.path.join(product_path, '*.jpg')))\n",
    "            img_path_list.extend(glob(os.path.join(product_path, '*.png')))\n",
    "            label = list(product_name[:5])\n",
    "            \n",
    "            # get label\n",
    "            label_list.append(''.join(label))\n",
    "                \n",
    "    return img_path_list, label_list"
   ]
  },
  {
   "cell_type": "code",
   "execution_count": null,
   "id": "a13b1e0a",
   "metadata": {},
   "outputs": [],
   "source": [
    "img_list, label_list = get_train_data('./Data/product_image/Training/')"
   ]
  },
  {
   "cell_type": "code",
   "execution_count": null,
   "id": "254c82c9",
   "metadata": {},
   "outputs": [],
   "source": [
    "# 레이블을 one-hot-vector로 변환\n",
    "le = preprocessing.LabelEncoder()\n",
    "targets = le.fit_transform(y)\n",
    "targets = torch.as_tensor(tainrgets)\n",
    "one_hot_y = F.one_hot(targets)"
   ]
  },
  {
   "cell_type": "code",
   "execution_count": null,
   "id": "3851a658",
   "metadata": {},
   "outputs": [],
   "source": [
    "class CustomDataset(Dataset):\n",
    "    def __init__(self, img_path_list, label_list, train_mode=True, transforms=None):\n",
    "        self.transforms = transforms\n",
    "        self.train_mode = train_mode\n",
    "        self.img_path_list = img_path_list\n",
    "        self.label_list = label_list\n",
    "\n",
    "    def __getitem__(self, index):\n",
    "        img_path = self.img_path_list[index]\n",
    "        # Get image data\n",
    "        image = cv2.imread(img_path)\n",
    "        if self.transforms is not None:\n",
    "            image = self.transforms(image)\n",
    "\n",
    "        if self.train_mode:\n",
    "            label = self.label_list[index]\n",
    "            return image, label\n",
    "        else:\n",
    "            return image\n",
    "    \n",
    "    def __len__(self):\n",
    "        return len(self.img_path_list)"
   ]
  },
  {
   "cell_type": "code",
   "execution_count": null,
   "id": "c34aeb39",
   "metadata": {},
   "outputs": [],
   "source": [
    "# resize, toTensor, normalize\n",
    "\n",
    "train_transform = transforms.Compose([\n",
    "                    transforms.ToTensor(),\n",
    "                    transforms.Resize((256, 256)),\n",
    "                    transforms.Normalize(mean=(0.5, 0.5, 0.5), std=(0.5, 0.5, 0.5))\n",
    "                    ])\n",
    "\n",
    "test_transform = transforms.Compose([\n",
    "                    transforms.ToTensor(),\n",
    "                    transforms.Resize((256, 256)),\n",
    "                    transforms.Normalize(mean=(0.5, 0.5, 0.5), std=(0.5, 0.5, 0.5))\n",
    "                    ])"
   ]
  },
  {
   "cell_type": "code",
   "execution_count": null,
   "id": "49689766",
   "metadata": {},
   "outputs": [],
   "source": [
    "# training, validation split\n",
    "train_len = int(len(x)*0.8)\n",
    "\n",
    "train_img_path = x[:train_len]\n",
    "train_label = one_hot_y[:train_len]\n",
    "\n",
    "vali_img_path = x[train_len:]\n",
    "vali_label = one_hot_y[train_len:]"
   ]
  },
  {
   "cell_type": "code",
   "execution_count": null,
   "id": "61802b4f",
   "metadata": {},
   "outputs": [],
   "source": [
    "# data loader\n",
    "train_dataset = CustomDataset(train_img_path, train_label, train_mode=True, transforms=train_transform)\n",
    "train_loader = DataLoader(train_dataset, batch_size = 32, shuffle=True, num_workers=0, collate_fn=None)\n",
    "\n",
    "vali_dataset = CustomDataset(vali_img_path, vali_label, train_mode=True, transforms=test_transform)\n",
    "vali_loader = DataLoader(vali_dataset, batch_size = 5, shuffle=False, num_workers=0, collate_fn=None)"
   ]
  },
  {
   "cell_type": "markdown",
   "id": "c0ecd916",
   "metadata": {},
   "source": [
    "### - Augmentation\n",
    " - using albumentation"
   ]
  },
  {
   "cell_type": "code",
   "execution_count": null,
   "id": "52bbd469",
   "metadata": {},
   "outputs": [],
   "source": []
  },
  {
   "cell_type": "markdown",
   "id": "f5b9aa59",
   "metadata": {},
   "source": [
    "# 2. Function"
   ]
  },
  {
   "cell_type": "markdown",
   "id": "5a314e8b",
   "metadata": {},
   "source": [
    "### - EarlyStopping"
   ]
  },
  {
   "cell_type": "code",
   "execution_count": null,
   "id": "4cda96cc",
   "metadata": {},
   "outputs": [],
   "source": []
  },
  {
   "cell_type": "markdown",
   "id": "433369ad",
   "metadata": {},
   "source": [
    "### - LR Scheduler"
   ]
  },
  {
   "cell_type": "code",
   "execution_count": null,
   "id": "9af85ac9",
   "metadata": {},
   "outputs": [],
   "source": []
  },
  {
   "cell_type": "markdown",
   "id": "678011f5",
   "metadata": {},
   "source": [
    "### - Tensorboard"
   ]
  },
  {
   "cell_type": "code",
   "execution_count": null,
   "id": "02f6f0f1",
   "metadata": {},
   "outputs": [],
   "source": []
  },
  {
   "cell_type": "markdown",
   "id": "4d94eb70",
   "metadata": {},
   "source": [
    "# 3. Models "
   ]
  },
  {
   "cell_type": "code",
   "execution_count": null,
   "id": "8c3df6de",
   "metadata": {},
   "outputs": [],
   "source": []
  },
  {
   "cell_type": "markdown",
   "id": "884e830e",
   "metadata": {},
   "source": [
    "# 4. Train"
   ]
  },
  {
   "cell_type": "code",
   "execution_count": null,
   "id": "da63af21",
   "metadata": {},
   "outputs": [],
   "source": []
  },
  {
   "cell_type": "markdown",
   "id": "a6346fef",
   "metadata": {},
   "source": [
    "# 5. Inference"
   ]
  },
  {
   "cell_type": "code",
   "execution_count": null,
   "id": "5629b82f",
   "metadata": {},
   "outputs": [],
   "source": []
  }
 ],
 "metadata": {
  "kernelspec": {
   "display_name": "Python [conda env:pytorch_16] *",
   "language": "python",
   "name": "conda-env-pytorch_16-py"
  },
  "language_info": {
   "codemirror_mode": {
    "name": "ipython",
    "version": 3
   },
   "file_extension": ".py",
   "mimetype": "text/x-python",
   "name": "python",
   "nbconvert_exporter": "python",
   "pygments_lexer": "ipython3",
   "version": "3.8.13"
  }
 },
 "nbformat": 4,
 "nbformat_minor": 5
}
