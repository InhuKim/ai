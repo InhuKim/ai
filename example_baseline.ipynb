{
 "cells": [
  {
   "cell_type": "code",
   "execution_count": 1,
   "id": "4c356142",
   "metadata": {},
   "outputs": [],
   "source": [
    "import numpy as np\n",
    "import random\n",
    "import os\n",
    "import math\n",
    "from sklearn import preprocessing\n",
    "from sklearn.preprocessing import MinMaxScaler\n",
    "\n",
    "\n",
    "from glob import glob\n",
    "import pandas as pd\n",
    "import cv2\n",
    "from tqdm.auto import tqdm\n",
    "\n",
    "import torch\n",
    "import torch.nn as nn\n",
    "import torch.nn.functional as F\n",
    "from torch.utils.data import DataLoader, Dataset\n",
    "\n",
    "from torch.autograd import Variable\n",
    "\n",
    "import torchvision.models as models\n",
    "from torchvision import transforms"
   ]
  },
  {
   "cell_type": "code",
   "execution_count": 2,
   "id": "b9e119fa",
   "metadata": {},
   "outputs": [
    {
     "name": "stdout",
     "output_type": "stream",
     "text": [
      "Using cuda device\n"
     ]
    }
   ],
   "source": [
    "device = 'cuda' if torch.cuda.is_available() else 'cpu'\n",
    "print(f\"Using {device} device\")"
   ]
  },
  {
   "cell_type": "code",
   "execution_count": 3,
   "id": "3e024084",
   "metadata": {},
   "outputs": [
    {
     "data": {
      "text/plain": [
       "True"
      ]
     },
     "execution_count": 3,
     "metadata": {},
     "output_type": "execute_result"
    }
   ],
   "source": [
    "torch.cuda.is_available()"
   ]
  },
  {
   "cell_type": "code",
   "execution_count": 4,
   "id": "840c846c",
   "metadata": {},
   "outputs": [],
   "source": [
    "torch.cuda.empty_cache()"
   ]
  },
  {
   "cell_type": "markdown",
   "id": "0e248641",
   "metadata": {},
   "source": [
    "### data"
   ]
  },
  {
   "cell_type": "code",
   "execution_count": 5,
   "id": "36f8c3d1",
   "metadata": {},
   "outputs": [],
   "source": [
    "def get_train_data(data_dir):\n",
    "    img_path_list = []\n",
    "    label_list = []\n",
    "    \n",
    "    image_path = os.path.join(data_dir, 'image')\n",
    "    label_path = os.path.join(data_dir, 'label')\n",
    "    \n",
    "    for product_name in os.listdir(image_path):\n",
    "        product_path = os.path.join(image_path, product_name)\n",
    "        if os.path.isdir(product_path):\n",
    "            # get image path\n",
    "            img_path_list.extend(glob(os.path.join(product_path, '*.jpg')))\n",
    "            img_path_list.extend(glob(os.path.join(product_path, '*.png')))\n",
    "            label = list(product_name[:5])\n",
    "            \n",
    "            # get label\n",
    "            label_list.append(''.join(label))\n",
    "                \n",
    "    return img_path_list, label_list"
   ]
  },
  {
   "cell_type": "code",
   "execution_count": 6,
   "id": "9b328db6",
   "metadata": {
    "scrolled": true
   },
   "outputs": [],
   "source": [
    "img_list, label_list = get_train_data('./Data/product_image/Training/')"
   ]
  },
  {
   "cell_type": "code",
   "execution_count": 7,
   "id": "166e8203",
   "metadata": {},
   "outputs": [],
   "source": [
    "def data_blanced(img, label):\n",
    "    x = []\n",
    "    y = []\n",
    "    \n",
    "    for i in range(len(label)):\n",
    "        _img = img[(i * 114): ((i + 1) * 114)]\n",
    "        _label = label[i]\n",
    "        \n",
    "        for img_product in _img:\n",
    "            x.append(img_product)\n",
    "            y.append(_label)\n",
    "            \n",
    "    return x, y"
   ]
  },
  {
   "cell_type": "code",
   "execution_count": 8,
   "id": "42e0b929",
   "metadata": {},
   "outputs": [],
   "source": [
    "x, y = data_blanced(img_list, label_list)"
   ]
  },
  {
   "cell_type": "code",
   "execution_count": 9,
   "id": "29ee4584",
   "metadata": {},
   "outputs": [],
   "source": [
    "le = preprocessing.LabelEncoder()\n",
    "targets = le.fit_transform(y)\n",
    "targets = torch.as_tensor(targets)"
   ]
  },
  {
   "cell_type": "code",
   "execution_count": 10,
   "id": "d65e78c8",
   "metadata": {},
   "outputs": [
    {
     "data": {
      "text/plain": [
       "8664"
      ]
     },
     "execution_count": 10,
     "metadata": {},
     "output_type": "execute_result"
    }
   ],
   "source": [
    "len(targets)"
   ]
  },
  {
   "cell_type": "code",
   "execution_count": 11,
   "id": "86c082f5",
   "metadata": {},
   "outputs": [],
   "source": [
    "one_hot_y = F.one_hot(targets)"
   ]
  },
  {
   "cell_type": "code",
   "execution_count": 12,
   "id": "04b09677",
   "metadata": {},
   "outputs": [],
   "source": [
    "class CustomDataset(Dataset):\n",
    "    def __init__(self, img_path_list, label_list, train_mode=True, transforms=None):\n",
    "        self.transforms = transforms\n",
    "        self.train_mode = train_mode\n",
    "        self.img_path_list = img_path_list\n",
    "        self.label_list = label_list\n",
    "\n",
    "    def __getitem__(self, index):\n",
    "        img_path = self.img_path_list[index]\n",
    "        # Get image data\n",
    "        image = cv2.imread(img_path)\n",
    "        if self.transforms is not None:\n",
    "            image = self.transforms(image)\n",
    "\n",
    "        if self.train_mode:\n",
    "            label = self.label_list[index]\n",
    "            return image, label\n",
    "        else:\n",
    "            return image\n",
    "    \n",
    "    def __len__(self):\n",
    "        return len(self.img_path_list)"
   ]
  },
  {
   "cell_type": "code",
   "execution_count": 13,
   "id": "ebfa6b7f",
   "metadata": {},
   "outputs": [],
   "source": [
    "train_transform = transforms.Compose([\n",
    "                    transforms.ToTensor(),\n",
    "                    transforms.Resize((256, 256)),\n",
    "                    transforms.Normalize(mean=(0.5, 0.5, 0.5), std=(0.5, 0.5, 0.5))\n",
    "                    ])\n",
    "\n",
    "test_transform = transforms.Compose([\n",
    "                    transforms.ToTensor(),\n",
    "                    transforms.Resize((256, 256)),\n",
    "                    transforms.Normalize(mean=(0.5, 0.5, 0.5), std=(0.5, 0.5, 0.5))\n",
    "                    ])"
   ]
  },
  {
   "cell_type": "code",
   "execution_count": 14,
   "id": "19314374",
   "metadata": {},
   "outputs": [],
   "source": [
    "train_len = int(len(x)*0.8)\n",
    "\n",
    "train_img_path = x[:train_len]\n",
    "train_label = one_hot_y[:train_len]\n",
    "\n",
    "vali_img_path = x[train_len:]\n",
    "vali_label = one_hot_y[train_len:]"
   ]
  },
  {
   "cell_type": "code",
   "execution_count": 15,
   "id": "77eb80be",
   "metadata": {},
   "outputs": [],
   "source": [
    "train_dataset = CustomDataset(train_img_path, train_label, train_mode=True, transforms=train_transform)\n",
    "train_loader = DataLoader(train_dataset, batch_size = 32, shuffle=True, num_workers=0, collate_fn=None)\n",
    "\n",
    "vali_dataset = CustomDataset(vali_img_path, vali_label, train_mode=True, transforms=test_transform)\n",
    "vali_loader = DataLoader(vali_dataset, batch_size = 5, shuffle=False, num_workers=0, collate_fn=None)"
   ]
  },
  {
   "cell_type": "markdown",
   "id": "91233e3c",
   "metadata": {},
   "source": [
    "### model"
   ]
  },
  {
   "cell_type": "code",
   "execution_count": 16,
   "id": "0add7f63",
   "metadata": {},
   "outputs": [],
   "source": [
    "class ResNet50(torch.nn.Module):\n",
    "    def __init__(self):\n",
    "        super(ResNet50, self).__init__()\n",
    "        model = models.resnet50(pretrained=True)\n",
    "        modules = list(model.children())[:-1]\n",
    "        self.feature_extract = nn.Sequential(*modules)\n",
    "        self.regressor = nn.Linear(2048, 76)\n",
    "        \n",
    "\n",
    "    def forward(self, x):\n",
    "        x = self.feature_extract(x)\n",
    "        # x = x.mean(dim=(-2, -1))\n",
    "        # (batch, 2048, 4, 4)\n",
    "        x = torch.flatten(x, start_dim=1)\n",
    "        out = self.regressor(x)\n",
    "        return out"
   ]
  },
  {
   "cell_type": "markdown",
   "id": "cd612a8c",
   "metadata": {},
   "source": [
    "### training"
   ]
  },
  {
   "cell_type": "code",
   "execution_count": 17,
   "id": "4ea305bf",
   "metadata": {},
   "outputs": [],
   "source": [
    "def validation(model, vali_loader, criterion, device):\n",
    "    model.eval() # Evaluation\n",
    "    vali_loss = []\n",
    "    # regressor = nn.Linear(1000, 1).to(device)\n",
    "\n",
    "    with torch.no_grad():\n",
    "        for img, label in tqdm(iter(vali_loader)):\n",
    "            img, label = img.float().to(device), label.float().to(device)\n",
    "\n",
    "            logit = model(img)\n",
    "            # logit = regressor(logit)\n",
    "            logit = torch.squeeze(logit)\n",
    "            loss = criterion(logit, label)\n",
    "            \n",
    "            vali_loss.append(loss.item())\n",
    "\n",
    "    vali_mae_loss = np.mean(vali_loss)\n",
    "    return vali_mae_loss"
   ]
  },
  {
   "cell_type": "code",
   "execution_count": 20,
   "id": "54f084a8",
   "metadata": {},
   "outputs": [],
   "source": [
    "def train(model, optimizer, train_loader, vali_loader, scheduler, device):\n",
    "    \n",
    "    # model = ViT('L_32_imagenet1k', pretrained=True).to(device)\n",
    "    # modules = list(model.children())[:-1]\n",
    "    # ViT_seq = nn.Sequential(*modules)\n",
    "    # regressor = nn.Linear(1000, 1).to(device)\n",
    "    model.to(device)\n",
    "    \n",
    "    epochs = 20\n",
    "\n",
    "    loss_plot = []\n",
    "    vali_mae_plot = []\n",
    "\n",
    "    # Loss Function\n",
    "    criterion = torch.nn.CrossEntropyLoss()\n",
    "    best_mae = 9999\n",
    "    \n",
    "    for epoch in range(1,epochs+1):\n",
    "        model.train()\n",
    "        train_loss = []\n",
    "        for img, label in tqdm(iter(train_loader)):\n",
    "            img, label = img.float().to(device), label.float().to(device)\n",
    "            \n",
    "            optimizer.zero_grad()\n",
    "\n",
    "            # Data -> Model -> Output\n",
    "            # logit = ViT_seq(img)\n",
    "            logit = model(img)\n",
    "            print(logit.shape)\n",
    "            # logit = regressor(logit)\n",
    "            logit = torch.squeeze(logit)\n",
    "            # Calc loss\n",
    "            loss = criterion(logit, label)\n",
    "            loss_plot.append(loss)\n",
    "\n",
    "            # backpropagation\n",
    "            loss.backward()\n",
    "            optimizer.step()\n",
    "\n",
    "            train_loss.append(loss.item())\n",
    "            \n",
    "        if scheduler is not None:\n",
    "            scheduler.step()\n",
    "            \n",
    "        # Evaluation Validation set\n",
    "        vali_mae = validation(model, vali_loader, criterion, device)\n",
    "        vali_mae_plot.append(vali_mae)\n",
    "        \n",
    "        print(f'Epoch [{epoch}] Train loss : [{np.mean(train_loss):.5f}] Validation loss : [{vali_mae:.5f}]\\n')\n",
    "        \n",
    "        # Model Saved\n",
    "        if best_mae > vali_mae:\n",
    "            best_mae = vali_mae\n",
    "            torch.save(model.state_dict(), './saved_models/resnet50.pth')\n",
    "            print('Model Saved.')"
   ]
  },
  {
   "cell_type": "code",
   "execution_count": null,
   "id": "3376e50a",
   "metadata": {},
   "outputs": [
    {
     "data": {
      "application/vnd.jupyter.widget-view+json": {
       "model_id": "2f855bc43bb4464e91f3fcf515575db4",
       "version_major": 2,
       "version_minor": 0
      },
      "text/plain": [
       "  0%|          | 0/217 [00:00<?, ?it/s]"
      ]
     },
     "metadata": {},
     "output_type": "display_data"
    },
    {
     "name": "stdout",
     "output_type": "stream",
     "text": [
      "torch.Size([32, 76])\n",
      "torch.Size([32, 76])\n",
      "torch.Size([32, 76])\n",
      "torch.Size([32, 76])\n",
      "torch.Size([32, 76])\n",
      "torch.Size([32, 76])\n",
      "torch.Size([32, 76])\n",
      "torch.Size([32, 76])\n",
      "torch.Size([32, 76])\n",
      "torch.Size([32, 76])\n",
      "torch.Size([32, 76])\n",
      "torch.Size([32, 76])\n",
      "torch.Size([32, 76])\n",
      "torch.Size([32, 76])\n",
      "torch.Size([32, 76])\n",
      "torch.Size([32, 76])\n",
      "torch.Size([32, 76])\n",
      "torch.Size([32, 76])\n",
      "torch.Size([32, 76])\n",
      "torch.Size([32, 76])\n",
      "torch.Size([32, 76])\n",
      "torch.Size([32, 76])\n",
      "torch.Size([32, 76])\n",
      "torch.Size([32, 76])\n",
      "torch.Size([32, 76])\n",
      "torch.Size([32, 76])\n",
      "torch.Size([32, 76])\n",
      "torch.Size([32, 76])\n",
      "torch.Size([32, 76])\n",
      "torch.Size([32, 76])\n",
      "torch.Size([32, 76])\n",
      "torch.Size([32, 76])\n",
      "torch.Size([32, 76])\n",
      "torch.Size([32, 76])\n",
      "torch.Size([32, 76])\n",
      "torch.Size([32, 76])\n",
      "torch.Size([32, 76])\n",
      "torch.Size([32, 76])\n",
      "torch.Size([32, 76])\n",
      "torch.Size([32, 76])\n",
      "torch.Size([32, 76])\n",
      "torch.Size([32, 76])\n",
      "torch.Size([32, 76])\n",
      "torch.Size([32, 76])\n",
      "torch.Size([32, 76])\n",
      "torch.Size([32, 76])\n",
      "torch.Size([32, 76])\n",
      "torch.Size([32, 76])\n",
      "torch.Size([32, 76])\n",
      "torch.Size([32, 76])\n",
      "torch.Size([32, 76])\n",
      "torch.Size([32, 76])\n",
      "torch.Size([32, 76])\n",
      "torch.Size([32, 76])\n",
      "torch.Size([32, 76])\n",
      "torch.Size([32, 76])\n",
      "torch.Size([32, 76])\n",
      "torch.Size([32, 76])\n",
      "torch.Size([32, 76])\n",
      "torch.Size([32, 76])\n",
      "torch.Size([32, 76])\n",
      "torch.Size([32, 76])\n",
      "torch.Size([32, 76])\n",
      "torch.Size([32, 76])\n",
      "torch.Size([32, 76])\n",
      "torch.Size([32, 76])\n",
      "torch.Size([32, 76])\n",
      "torch.Size([32, 76])\n",
      "torch.Size([32, 76])\n",
      "torch.Size([32, 76])\n",
      "torch.Size([32, 76])\n",
      "torch.Size([32, 76])\n",
      "torch.Size([32, 76])\n",
      "torch.Size([32, 76])\n",
      "torch.Size([32, 76])\n",
      "torch.Size([32, 76])\n",
      "torch.Size([32, 76])\n",
      "torch.Size([32, 76])\n",
      "torch.Size([32, 76])\n",
      "torch.Size([32, 76])\n",
      "torch.Size([32, 76])\n",
      "torch.Size([32, 76])\n",
      "torch.Size([32, 76])\n",
      "torch.Size([32, 76])\n",
      "torch.Size([32, 76])\n",
      "torch.Size([32, 76])\n",
      "torch.Size([32, 76])\n",
      "torch.Size([32, 76])\n",
      "torch.Size([32, 76])\n",
      "torch.Size([32, 76])\n",
      "torch.Size([32, 76])\n",
      "torch.Size([32, 76])\n",
      "torch.Size([32, 76])\n",
      "torch.Size([32, 76])\n",
      "torch.Size([32, 76])\n",
      "torch.Size([32, 76])\n",
      "torch.Size([32, 76])\n",
      "torch.Size([32, 76])\n",
      "torch.Size([32, 76])\n",
      "torch.Size([32, 76])\n",
      "torch.Size([32, 76])\n",
      "torch.Size([32, 76])\n",
      "torch.Size([32, 76])\n",
      "torch.Size([32, 76])\n",
      "torch.Size([32, 76])\n",
      "torch.Size([32, 76])\n",
      "torch.Size([32, 76])\n",
      "torch.Size([32, 76])\n",
      "torch.Size([32, 76])\n",
      "torch.Size([32, 76])\n",
      "torch.Size([32, 76])\n",
      "torch.Size([32, 76])\n",
      "torch.Size([32, 76])\n",
      "torch.Size([32, 76])\n",
      "torch.Size([32, 76])\n",
      "torch.Size([32, 76])\n",
      "torch.Size([32, 76])\n",
      "torch.Size([32, 76])\n",
      "torch.Size([32, 76])\n",
      "torch.Size([32, 76])\n",
      "torch.Size([32, 76])\n",
      "torch.Size([32, 76])\n",
      "torch.Size([32, 76])\n",
      "torch.Size([32, 76])\n",
      "torch.Size([32, 76])\n",
      "torch.Size([32, 76])\n",
      "torch.Size([32, 76])\n",
      "torch.Size([32, 76])\n",
      "torch.Size([32, 76])\n",
      "torch.Size([32, 76])\n"
     ]
    }
   ],
   "source": [
    "model = ResNet50()\n",
    "\n",
    "optimizer = torch.optim.Adam(model.parameters(), lr=0.003)\n",
    "scheduler = None\n",
    "\n",
    "train(model, optimizer, train_loader, vali_loader, scheduler, device)"
   ]
  },
  {
   "cell_type": "code",
   "execution_count": null,
   "id": "811e0fa8",
   "metadata": {},
   "outputs": [],
   "source": []
  }
 ],
 "metadata": {
  "kernelspec": {
   "display_name": "Python [conda env:pytorch_16]",
   "language": "python",
   "name": "conda-env-pytorch_16-py"
  },
  "language_info": {
   "codemirror_mode": {
    "name": "ipython",
    "version": 3
   },
   "file_extension": ".py",
   "mimetype": "text/x-python",
   "name": "python",
   "nbconvert_exporter": "python",
   "pygments_lexer": "ipython3",
   "version": "3.8.13"
  }
 },
 "nbformat": 4,
 "nbformat_minor": 5
}
