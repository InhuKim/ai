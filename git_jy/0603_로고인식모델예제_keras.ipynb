{
 "cells": [
  {
   "cell_type": "code",
   "execution_count": 1,
   "id": "0f76718a",
   "metadata": {},
   "outputs": [
    {
     "ename": "ModuleNotFoundError",
     "evalue": "No module named 'keras'",
     "output_type": "error",
     "traceback": [
      "\u001b[0;31m---------------------------------------------------------------------------\u001b[0m",
      "\u001b[0;31mModuleNotFoundError\u001b[0m                       Traceback (most recent call last)",
      "Input \u001b[0;32mIn [1]\u001b[0m, in \u001b[0;36m<cell line: 1>\u001b[0;34m()\u001b[0m\n\u001b[0;32m----> 1\u001b[0m \u001b[38;5;28;01mfrom\u001b[39;00m \u001b[38;5;21;01mkeras\u001b[39;00m\u001b[38;5;21;01m.\u001b[39;00m\u001b[38;5;21;01mmodels\u001b[39;00m \u001b[38;5;28;01mimport\u001b[39;00m Sequential, ask_to_proceed_with_overwrite\n\u001b[1;32m      2\u001b[0m \u001b[38;5;28;01mfrom\u001b[39;00m \u001b[38;5;21;01mkeras\u001b[39;00m\u001b[38;5;21;01m.\u001b[39;00m\u001b[38;5;21;01mlayers\u001b[39;00m \u001b[38;5;28;01mimport\u001b[39;00m Dense\n\u001b[1;32m      3\u001b[0m \u001b[38;5;28;01mfrom\u001b[39;00m \u001b[38;5;21;01mkeras\u001b[39;00m\u001b[38;5;21;01m.\u001b[39;00m\u001b[38;5;21;01mlayers\u001b[39;00m\u001b[38;5;21;01m.\u001b[39;00m\u001b[38;5;21;01mcore\u001b[39;00m \u001b[38;5;28;01mimport\u001b[39;00m Activation, Dense\n",
      "\u001b[0;31mModuleNotFoundError\u001b[0m: No module named 'keras'"
     ]
    }
   ],
   "source": [
    "from keras.models import Sequential, ask_to_proceed_with_overwrite\n",
    "from keras.layers import Dense\n",
    "from keras.layers.core import Activation, Dense\n",
    "from keras.layers import SimpleRNN, LSTM,  GRU,SeparableConvolution2D, Conv2D\n",
    "from keras.callbacks import ModelCheckpoint,EarlyStopping\n",
    "from keras.layers import Dense, GlobalAveragePooling2D\n",
    "import glob\n",
    "import scipy\n",
    "import numpy as np\n",
    "from PIL import Image\n",
    "import random\n",
    "import pandas as pd\n",
    "import keras\n",
    "from keras.applications import VGG16, VGG19\n",
    "from keras.models import Model\n",
    "from keras.layers.core import Activation, Dense\n",
    "import tensorflow as tf\n",
    "\n",
    "def getModel( output_dim ):\n",
    "    ''' \n",
    "        * output_dim: the number of classes (int)\n",
    "        \n",
    "        * return: compiled model (keras.engine.training.Model)\n",
    "    '''\n",
    "    #vgg_model = VGG16( weights='imagenet', include_top=False )\n",
    "    vgg_model = VGG16(weights='imagenet', include_top=False)\n",
    "\n",
    "    for layer in vgg_model.layers[:-3]:\n",
    "        layer.trainable = False\n",
    "\n",
    "    x = vgg_model.output\n",
    "    x = GlobalAveragePooling2D()(x)\n",
    "    # let's add a fully-connected layer\n",
    "    x = Dense(1024, activation='relu')(x)\n",
    "    predictions = Dense(output_dim ,activation='softmax')(x)\n",
    "\n",
    "# this is the model we will train\n",
    "    model = Model(input=vgg_model.input, output=predictions)\n",
    "\n",
    "    #Freeze all layers of VGG16 and Compile the model\n",
    "    #Confirm the model is appropriate\n",
    "\n",
    "    return model\n",
    "\n",
    "\n",
    "def load_model(weights_path, output_dim):\n",
    "\n",
    "    model = getModel( output_dim ) \n",
    "#     for k,layer in model.layers_by_depth.items()[1:]:\n",
    "#         layer[0].trainable = False\n",
    "    \n",
    "    model.load_weights(weights_path)\n",
    "    model.compile(loss='categorical_crossentropy',\n",
    "              optimizer='adam',\n",
    "              metrics=['accuracy', 'categorical_crossentropy'])   \n",
    "    return model"
   ]
  },
  {
   "cell_type": "code",
   "execution_count": null,
   "id": "9fecaad8",
   "metadata": {},
   "outputs": [],
   "source": [
    "def load_data(N,output_dim):\n",
    "    X = []\n",
    "    y = []\n",
    "    \n",
    "    \n",
    "    filenames = sorted(glob.glob(\"/Users/francescoferrari/Downloads/logo_dataset_6/*/*.jpg\"))\n",
    "    \n",
    "    junk_filenames = glob.glob(\"/Users/francescoferrari/Downloads/junk_processed/*/*.jpg\")\n",
    "    \n",
    "    random.shuffle(junk_filenames)\n",
    "    \n",
    "    junk_filenames = junk_filenames[:len(filenames)]\n",
    "    filenames += junk_filenames\n",
    "    \n",
    "    random.shuffle(filenames)\n",
    "    X_mean = 0.0\n",
    "    for filename in filenames[:N]:\n",
    "        label = np.zeros(output_dim,)\n",
    "        idx = labels_dict.get(filename.split(\"/\")[-2], 6)\n",
    "        label[idx] = 1.0\n",
    "        img = np.asarray(Image.open(filename).resize((224, 224), Image.ANTIALIAS))/255.\n",
    "        if img.shape == (224,224,3):\n",
    "            X_mean += img.mean()\n",
    "            y.append(label)\n",
    "            X.append(img)\n",
    "\n",
    "        \n",
    "    limit = int(len(X)/10*8)\n",
    "    print(len(X))\n",
    "    print(limit)\n",
    "    X_mean = X_mean/float(len(X))\n",
    "    X_train = np.array(X[:limit])\n",
    "    X_val = np.array(X[limit:])\n",
    "    y_train = np.array(y[:limit])\n",
    "    y_val = np.array(y[limit:])   \n",
    "    X_train -= X_mean\n",
    "    X_val -= X_mean\n",
    "    print(X_mean)\n",
    "    print(\"completed formatting!\")\n",
    "    return X_train, y_train, X_val, y_val"
   ]
  },
  {
   "cell_type": "code",
   "execution_count": null,
   "id": "2c307e58",
   "metadata": {},
   "outputs": [],
   "source": [
    "labels_dict = {\"Cocacola\":0, \"LOreal\":1,\"LouisVuitton\":2,\"Nike\":3,\"Pepsi\":4,\"Samsung\":5}"
   ]
  },
  {
   "cell_type": "code",
   "execution_count": null,
   "id": "02b1d730",
   "metadata": {},
   "outputs": [],
   "source": [
    "X_train, y_train, X_val, y_val = load_data(100000,7 )"
   ]
  },
  {
   "cell_type": "code",
   "execution_count": null,
   "id": "4bef4174",
   "metadata": {},
   "outputs": [],
   "source": [
    "\n",
    "output_dim = 7\n",
    "epochs = 100\n",
    "#model = getModel( output_dim ) \n",
    "\n",
    "model = load_model(\"weights-improvement-CPU-VGG16-LOGO7-02-0.8741.hdf5\",7)"
   ]
  },
  {
   "cell_type": "code",
   "execution_count": null,
   "id": "73ac9024",
   "metadata": {},
   "outputs": [],
   "source": [
    "filepath=\"weights-improvement-CPU-VGG16-LOGO7-{epoch:02d}-{val_acc:.4f}.hdf5\"\n",
    "checkpoint = ModelCheckpoint(filepath, monitor='val_acc', verbose=1, save_best_only=True, mode='max')\n",
    "\n",
    "earlyStopping=EarlyStopping(monitor='val_acc', patience=4, verbose=0, mode='auto')\n",
    "callbacks_list = [earlyStopping, checkpoint]\n",
    "model.compile(loss='categorical_crossentropy',\n",
    "          optimizer='adam',\n",
    "          metrics=['accuracy', 'categorical_crossentropy'])\n",
    "\n",
    "class_weights = {0:30,1:30,2:30,3:30,4:30,5:30,6:1}\n",
    "\n",
    "h = model.fit(X_train, y_train, validation_data=(X_val, y_val),class_weight=class_weights,\n",
    "          batch_size=16, nb_epoch=epochs, verbose=1,callbacks=callbacks_list)"
   ]
  },
  {
   "cell_type": "code",
   "execution_count": null,
   "id": "f8bfe12c",
   "metadata": {},
   "outputs": [],
   "source": [
    "\n",
    "125741.794427222/3600"
   ]
  },
  {
   "cell_type": "code",
   "execution_count": null,
   "id": "5499c34b",
   "metadata": {},
   "outputs": [],
   "source": [
    "model.summary()"
   ]
  },
  {
   "cell_type": "code",
   "execution_count": null,
   "id": "b258aa12",
   "metadata": {},
   "outputs": [],
   "source": [
    "d = pd.read_csv(\"top_frames_LOGO7.txt\", header=None)"
   ]
  },
  {
   "cell_type": "code",
   "execution_count": null,
   "id": "534ffee3",
   "metadata": {},
   "outputs": [],
   "source": [
    "s = sorted(list(zip(d[0], d[6])), key=lambda k: -k[1])"
   ]
  },
  {
   "cell_type": "code",
   "execution_count": null,
   "id": "8db8134b",
   "metadata": {},
   "outputs": [],
   "source": [
    "s[:2000]"
   ]
  },
  {
   "cell_type": "code",
   "execution_count": null,
   "id": "ce17e1a3",
   "metadata": {},
   "outputs": [],
   "source": []
  },
  {
   "cell_type": "code",
   "execution_count": null,
   "id": "4826d765",
   "metadata": {},
   "outputs": [],
   "source": []
  },
  {
   "cell_type": "code",
   "execution_count": null,
   "id": "dab0fcdc",
   "metadata": {},
   "outputs": [],
   "source": []
  }
 ],
 "metadata": {
  "kernelspec": {
   "display_name": "Python [conda env:pytorch_17] *",
   "language": "python",
   "name": "conda-env-pytorch_17-py"
  },
  "language_info": {
   "codemirror_mode": {
    "name": "ipython",
    "version": 3
   },
   "file_extension": ".py",
   "mimetype": "text/x-python",
   "name": "python",
   "nbconvert_exporter": "python",
   "pygments_lexer": "ipython3",
   "version": "3.8.13"
  }
 },
 "nbformat": 4,
 "nbformat_minor": 5
}
