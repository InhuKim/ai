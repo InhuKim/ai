{
 "cells": [
  {
   "cell_type": "code",
   "execution_count": 1,
   "id": "d39f139f",
   "metadata": {},
   "outputs": [
    {
     "name": "stdout",
     "output_type": "stream",
     "text": [
      "Thu Jun  9 20:15:14 2022       \r\n",
      "+-----------------------------------------------------------------------------+\r\n",
      "| NVIDIA-SMI 450.142.00   Driver Version: 450.142.00   CUDA Version: 11.0     |\r\n",
      "|-------------------------------+----------------------+----------------------+\r\n",
      "| GPU  Name        Persistence-M| Bus-Id        Disp.A | Volatile Uncorr. ECC |\r\n",
      "| Fan  Temp  Perf  Pwr:Usage/Cap|         Memory-Usage | GPU-Util  Compute M. |\r\n",
      "|                               |                      |               MIG M. |\r\n",
      "|===============================+======================+======================|\r\n",
      "|   0  Tesla T4            On   | 00000000:00:1E.0 Off |                    0 |\r\n",
      "| N/A   36C    P0    25W /  70W |  10575MiB / 15109MiB |      0%      Default |\r\n",
      "|                               |                      |                  N/A |\r\n",
      "+-------------------------------+----------------------+----------------------+\r\n",
      "                                                                               \r\n",
      "+-----------------------------------------------------------------------------+\r\n",
      "| Processes:                                                                  |\r\n",
      "|  GPU   GI   CI        PID   Type   Process name                  GPU Memory |\r\n",
      "|        ID   ID                                                   Usage      |\r\n",
      "|=============================================================================|\r\n",
      "|    0   N/A  N/A      2963      C   ...untu/anaconda3/bin/python     1449MiB |\r\n",
      "|    0   N/A  N/A     23359      C   ...nvs/pytorch_16/bin/python     9123MiB |\r\n",
      "+-----------------------------------------------------------------------------+\r\n"
     ]
    }
   ],
   "source": [
    "!nvidia-smi"
   ]
  },
  {
   "cell_type": "markdown",
   "id": "25decd3f",
   "metadata": {},
   "source": [
    "## Settings"
   ]
  },
  {
   "cell_type": "code",
   "execution_count": 2,
   "id": "760e0a1d",
   "metadata": {},
   "outputs": [],
   "source": [
    "import warnings\n",
    "warnings.filterwarnings('ignore')\n",
    "\n",
    "from glob import glob\n",
    "import pandas as pd\n",
    "import numpy as np \n",
    "from tqdm import tqdm\n",
    "import cv2\n",
    "\n",
    "import os\n",
    "import timm\n",
    "import random\n",
    "\n",
    "import torch\n",
    "from torch.utils.data import Dataset, DataLoader\n",
    "import torch.nn as nn\n",
    "import torchvision.transforms as transforms\n",
    "from sklearn.metrics import f1_score, accuracy_score\n",
    "import time\n",
    "\n",
    "from sklearn.model_selection import StratifiedKFold\n",
    "device = torch.device('cuda')"
   ]
  },
  {
   "cell_type": "markdown",
   "id": "1aacd6ae",
   "metadata": {},
   "source": [
    "## Image Pre-Process"
   ]
  },
  {
   "cell_type": "code",
   "execution_count": 3,
   "id": "cb9f3c03",
   "metadata": {},
   "outputs": [],
   "source": [
    "train_png = sorted(glob('/home/lab17/jupyter_home/Data/bdata_snacks/*.jpg'))\n",
    "test_png = sorted(glob('/home/lab17/jupyter_home/git/git_jy/test_dataset/*.jpg'))\n",
    "\n",
    "# files = os.listdir('/home/lab17/jupyter_home/Data/bdata_snacks')\n",
    "# files"
   ]
  },
  {
   "cell_type": "code",
   "execution_count": 4,
   "id": "38d2df20",
   "metadata": {},
   "outputs": [
    {
     "name": "stdout",
     "output_type": "stream",
     "text": [
      "311 311\n",
      "7 7\n"
     ]
    }
   ],
   "source": [
    "print(len(train_png), len(set(train_png)))\n",
    "print(len(test_png), len(set(test_png)))"
   ]
  },
  {
   "cell_type": "code",
   "execution_count": 5,
   "id": "6a41bbf3",
   "metadata": {},
   "outputs": [],
   "source": [
    "# decoder\n",
    "files = os.listdir('/home/lab17/jupyter_home/Data/bdata_snacks')\n",
    "train_labels = sorted(files)\n",
    "train_dict = {i:l[:-4] for i, l in zip(range(311), train_labels)}"
   ]
  },
  {
   "cell_type": "code",
   "execution_count": 9,
   "id": "d8f6e004",
   "metadata": {},
   "outputs": [],
   "source": [
    "def img_load(path):\n",
    "    img = cv2.imread(path)[:,:,::-1]\n",
    "    img = cv2.resize(img, (384, 384),interpolation = cv2.INTER_AREA)\n",
    "    return img"
   ]
  },
  {
   "cell_type": "code",
   "execution_count": 31,
   "id": "3dd8e7a3",
   "metadata": {},
   "outputs": [
    {
     "name": "stderr",
     "output_type": "stream",
     "text": [
      "100%|████████████████████████████████████████████| 7/7 [00:00<00:00, 131.86it/s]\n"
     ]
    }
   ],
   "source": [
    "train_imgs = [img_load(m) for m in tqdm(train_png)]\n",
    "test_imgs = [img_load(n) for n in tqdm(test_png)]"
   ]
  },
  {
   "cell_type": "code",
   "execution_count": 32,
   "id": "1d65f751",
   "metadata": {},
   "outputs": [],
   "source": [
    "np.save('/home/lab17/jupyter_home/Data/bdata_snacks_384.npy', np.array(train_imgs))\n",
    "np.save('/home/lab17/jupyter_home/Data/test_snacks_384.npy', np.array(test_imgs))"
   ]
  },
  {
   "cell_type": "code",
   "execution_count": 6,
   "id": "eb6789c3",
   "metadata": {},
   "outputs": [],
   "source": [
    "train_imgs = np.load('/home/lab17/jupyter_home/Data/bdata_snacks_384.npy')\n",
    "test_imgs = np.load('/home/lab17/jupyter_home/Data/test_snacks_384.npy')"
   ]
  },
  {
   "cell_type": "code",
   "execution_count": 13,
   "id": "6c34b549",
   "metadata": {},
   "outputs": [
    {
     "name": "stdout",
     "output_type": "stream",
     "text": [
      "train 평균 0.7097844470485838 0.633531969760679 0.5547763538712672\n",
      "train 표준편차 0.2033680463341466 0.21580010480417353 0.24844798400637713\n"
     ]
    }
   ],
   "source": [
    "# meanRGB = [np.mean(x, axis=(0,1)) for x in train_imgs]\n",
    "# stdRGB = [np.std(x, axis=(0,1)) for x in train_imgs]\n",
    "\n",
    "# meanR = np.mean([m[0] for m in meanRGB])/255\n",
    "# meanG = np.mean([m[1] for m in meanRGB])/255\n",
    "# meanB = np.mean([m[2] for m in meanRGB])/255\n",
    "\n",
    "# stdR = np.mean([s[0] for s in stdRGB])/255\n",
    "# stdG = np.mean([s[1] for s in stdRGB])/255\n",
    "# stdB = np.mean([s[2] for s in stdRGB])/255\n",
    "\n",
    "# print(\"train 평균\",meanR, meanG, meanB)\n",
    "# print(\"train 표준편차\",stdR, stdG, stdB)"
   ]
  },
  {
   "cell_type": "code",
   "execution_count": 34,
   "id": "69babf68",
   "metadata": {},
   "outputs": [
    {
     "name": "stdout",
     "output_type": "stream",
     "text": [
      "test 평균 0.5675011557357318 0.5264908952947499 0.42253120486475837\n",
      "test 표준편차 0.2274250397086117 0.23777227831017764 0.25968101419272444\n"
     ]
    }
   ],
   "source": [
    "# meanRGB = [np.mean(x, axis=(0,1)) for x in test_imgs]\n",
    "# stdRGB = [np.std(x, axis=(0,1)) for x in test_imgs]\n",
    "\n",
    "# meanR = np.mean([m[0] for m in meanRGB])/255\n",
    "# meanG = np.mean([m[1] for m in meanRGB])/255\n",
    "# meanB = np.mean([m[2] for m in meanRGB])/255\n",
    "\n",
    "# stdR = np.mean([s[0] for s in stdRGB])/255\n",
    "# stdG = np.mean([s[1] for s in stdRGB])/255\n",
    "# stdB = np.mean([s[2] for s in stdRGB])/255\n",
    "\n",
    "# print(\"test 평균\",meanR, meanG, meanB)\n",
    "# print(\"test 표준편차\",stdR, stdG, stdB)"
   ]
  },
  {
   "cell_type": "markdown",
   "id": "c7221433",
   "metadata": {},
   "source": [
    "## Model Define"
   ]
  },
  {
   "cell_type": "code",
   "execution_count": 13,
   "id": "c99b6f0c",
   "metadata": {},
   "outputs": [],
   "source": [
    "class Custom_dataset(Dataset):\n",
    "    def __init__(self, img_paths, labels, mode='train'):\n",
    "        self.img_paths = img_paths\n",
    "        self.labels = labels\n",
    "        self.mode=mode\n",
    "    def __len__(self):\n",
    "        return len(self.img_paths)\n",
    "    def __getitem__(self, idx):\n",
    "        img = self.img_paths[idx]\n",
    "        if self.mode == 'train':\n",
    "            train_transform = transforms.Compose([\n",
    "                transforms.ToTensor(),\n",
    "#                 transforms.Normalize(mean = [0.709784, 0.633531, 0.554776],\n",
    "#                                     std = [0.203368, 0.215800, 0.248448]),\n",
    "                transforms.Normalize(mean=(0.5, 0.5, 0.5), std=(0.5, 0.5, 0.5)),\n",
    "                transforms.RandomCrop(224),\n",
    "                transforms.RandomPerspective(),\n",
    "                transforms.RandomAffine((-45, 45)),  # x, y축으로 이미지 늘림\n",
    "                transforms.RandomRotation((0,80)),\n",
    "                transforms.ColorJitter(brightness=0.5),\n",
    "            ])\n",
    "\n",
    "\n",
    "#             train_transform = transforms.Compose([\n",
    "#                 transforms.ToTensor(),\n",
    "#                 transforms.Normalize(mean = [0.709784, 0.633531, 0.554776],\n",
    "#                                     std = [0.203368, 0.215800, 0.248448]),\n",
    "#                 transforms.RandomAffine((-45, 45)),\n",
    "#                 transforms.RandomRotation((0,80))       #  이미지를 랜덤으로 degrees 각도로 회전한다.\n",
    "#             ])\n",
    "\n",
    "            img = train_transform(img)\n",
    "        if self.mode == 'test':\n",
    "            test_transform = transforms.Compose([\n",
    "                transforms.ToTensor(),\n",
    "                transforms.Normalize(mean = [0.567501, 0.526491, 0.422531],\n",
    "                                     std = [0.227425, 0.237772, 0.259681]),\n",
    "                \n",
    "\n",
    "            ])\n",
    "            img = test_transform(img)\n",
    "\n",
    "        \n",
    "        label = self.labels[idx]\n",
    "        return img, label\n",
    "    \n",
    "class Network(nn.Module):\n",
    "    def __init__(self,mode = 'train'):\n",
    "        super(Network, self).__init__()\n",
    "        self.mode = mode\n",
    "        if self.mode == 'train':\n",
    "          self.model = timm.create_model('efficientnet_b4', pretrained=True, num_classes=311, drop_path_rate = 0.2)\n",
    "        if self.mode == 'test':\n",
    "          self.model = timm.create_model('efficientnet_b4', pretrained=True, num_classes=311, drop_path_rate = 0)\n",
    "        \n",
    "    def forward(self, x):\n",
    "        x = self.model(x)\n",
    "        return x"
   ]
  },
  {
   "cell_type": "code",
   "execution_count": 14,
   "id": "77e16652",
   "metadata": {},
   "outputs": [],
   "source": [
    "def score_function(real, pred):\n",
    "#     score = f1_score(real, pred, average=\"macro\")\n",
    "    score = accuracy_score(real, pred)\n",
    "    return score"
   ]
  },
  {
   "cell_type": "code",
   "execution_count": 15,
   "id": "fa4b3a03",
   "metadata": {},
   "outputs": [],
   "source": [
    "def main(seed = 2022):\n",
    "    os.environ['PYTHONHASHSEED'] = str(seed)\n",
    "    random.seed(seed)\n",
    "    np.random.seed(seed)\n",
    "    torch.manual_seed(seed)\n",
    "    torch.cuda.manual_seed(seed)\n",
    "    torch.cuda.manual_seed_all(seed)\n",
    "    torch.backends.cudnn.benchmark = True\n",
    "    \n",
    "main(2022)"
   ]
  },
  {
   "cell_type": "markdown",
   "id": "fdcc95a6",
   "metadata": {},
   "source": [
    "## Train"
   ]
  },
  {
   "cell_type": "code",
   "execution_count": 16,
   "id": "76937545",
   "metadata": {
    "scrolled": true
   },
   "outputs": [
    {
     "name": "stdout",
     "output_type": "stream",
     "text": [
      "epoch : 1/70    time : 5s/356s\n",
      "TRAIN    loss : 5.78672    acc : 0.00000\n",
      "epoch : 2/70    time : 5s/344s\n",
      "TRAIN    loss : 5.70625    acc : 0.01608\n",
      "epoch : 3/70    time : 5s/340s\n",
      "TRAIN    loss : 5.60625    acc : 0.02251\n",
      "epoch : 4/70    time : 5s/335s\n",
      "TRAIN    loss : 5.46133    acc : 0.03537\n",
      "epoch : 5/70    time : 5s/325s\n",
      "TRAIN    loss : 5.34492    acc : 0.05466\n",
      "epoch : 6/70    time : 5s/324s\n",
      "TRAIN    loss : 5.14824    acc : 0.05788\n",
      "epoch : 7/70    time : 5s/312s\n",
      "TRAIN    loss : 4.81113    acc : 0.05466\n",
      "epoch : 8/70    time : 5s/309s\n",
      "TRAIN    loss : 4.49414    acc : 0.19614\n",
      "epoch : 9/70    time : 5s/302s\n",
      "TRAIN    loss : 3.80825    acc : 0.21222\n",
      "epoch : 10/70    time : 5s/297s\n",
      "TRAIN    loss : 3.03960    acc : 0.34727\n",
      "epoch : 11/70    time : 5s/294s\n",
      "TRAIN    loss : 2.12970    acc : 0.46945\n",
      "epoch : 12/70    time : 5s/288s\n",
      "TRAIN    loss : 1.36969    acc : 0.65916\n",
      "epoch : 13/70    time : 5s/285s\n",
      "TRAIN    loss : 0.84207    acc : 0.81029\n",
      "epoch : 14/70    time : 5s/280s\n",
      "TRAIN    loss : 0.54709    acc : 0.86817\n",
      "epoch : 15/70    time : 5s/274s\n",
      "TRAIN    loss : 0.37033    acc : 0.89711\n",
      "epoch : 16/70    time : 5s/270s\n",
      "TRAIN    loss : 0.38783    acc : 0.90354\n",
      "epoch : 17/70    time : 5s/264s\n",
      "TRAIN    loss : 0.25558    acc : 0.93891\n",
      "epoch : 18/70    time : 5s/260s\n",
      "TRAIN    loss : 0.18984    acc : 0.93891\n",
      "epoch : 19/70    time : 5s/258s\n",
      "TRAIN    loss : 0.24632    acc : 0.92605\n",
      "epoch : 20/70    time : 5s/250s\n",
      "TRAIN    loss : 0.12640    acc : 0.96463\n",
      "epoch : 21/70    time : 5s/245s\n",
      "TRAIN    loss : 0.14675    acc : 0.96463\n",
      "epoch : 22/70    time : 5s/242s\n",
      "TRAIN    loss : 0.11263    acc : 0.97106\n",
      "epoch : 23/70    time : 5s/235s\n",
      "TRAIN    loss : 0.09834    acc : 0.97428\n",
      "epoch : 24/70    time : 5s/228s\n",
      "TRAIN    loss : 0.09057    acc : 0.98071\n",
      "epoch : 25/70    time : 5s/226s\n",
      "TRAIN    loss : 0.08997    acc : 0.96785\n",
      "epoch : 26/70    time : 5s/220s\n",
      "TRAIN    loss : 0.09579    acc : 0.96463\n",
      "epoch : 27/70    time : 5s/215s\n",
      "TRAIN    loss : 0.09041    acc : 0.96785\n",
      "epoch : 28/70    time : 5s/211s\n",
      "TRAIN    loss : 0.07905    acc : 0.98071\n",
      "epoch : 29/70    time : 5s/206s\n",
      "TRAIN    loss : 0.06046    acc : 0.98714\n",
      "epoch : 30/70    time : 5s/200s\n",
      "TRAIN    loss : 0.08193    acc : 0.96463\n",
      "epoch : 31/70    time : 5s/197s\n",
      "TRAIN    loss : 0.06434    acc : 0.97749\n",
      "epoch : 32/70    time : 5s/192s\n",
      "TRAIN    loss : 0.03648    acc : 0.99678\n",
      "epoch : 33/70    time : 5s/186s\n",
      "TRAIN    loss : 0.07313    acc : 0.98071\n",
      "epoch : 34/70    time : 5s/180s\n",
      "TRAIN    loss : 0.06039    acc : 0.98714\n",
      "epoch : 35/70    time : 5s/177s\n",
      "TRAIN    loss : 0.02679    acc : 0.99678\n",
      "epoch : 36/70    time : 5s/172s\n",
      "TRAIN    loss : 0.03985    acc : 0.99035\n",
      "epoch : 37/70    time : 5s/166s\n",
      "TRAIN    loss : 0.02021    acc : 0.99357\n",
      "epoch : 38/70    time : 5s/161s\n",
      "TRAIN    loss : 0.08311    acc : 0.97106\n",
      "epoch : 39/70    time : 5s/158s\n",
      "TRAIN    loss : 0.03931    acc : 0.99357\n",
      "epoch : 40/70    time : 5s/151s\n",
      "TRAIN    loss : 0.03208    acc : 0.98714\n",
      "epoch : 41/70    time : 5s/146s\n",
      "TRAIN    loss : 0.02909    acc : 0.99035\n",
      "epoch : 42/70    time : 5s/140s\n",
      "TRAIN    loss : 0.02707    acc : 0.99357\n",
      "epoch : 43/70    time : 5s/136s\n",
      "TRAIN    loss : 0.05170    acc : 0.99035\n",
      "epoch : 44/70    time : 5s/132s\n",
      "TRAIN    loss : 0.04822    acc : 0.98714\n",
      "epoch : 45/70    time : 5s/127s\n",
      "TRAIN    loss : 0.03518    acc : 0.99035\n",
      "epoch : 46/70    time : 5s/121s\n",
      "TRAIN    loss : 0.02673    acc : 0.99357\n",
      "epoch : 47/70    time : 5s/116s\n",
      "TRAIN    loss : 0.02355    acc : 0.99357\n",
      "epoch : 48/70    time : 5s/112s\n",
      "TRAIN    loss : 0.03441    acc : 0.98392\n",
      "epoch : 49/70    time : 5s/106s\n",
      "TRAIN    loss : 0.02313    acc : 0.99035\n",
      "epoch : 50/70    time : 5s/102s\n",
      "TRAIN    loss : 0.01327    acc : 0.99678\n",
      "epoch : 51/70    time : 5s/96s\n",
      "TRAIN    loss : 0.00768    acc : 0.99678\n",
      "epoch : 52/70    time : 5s/91s\n",
      "TRAIN    loss : 0.00800    acc : 1.00000\n",
      "epoch : 53/70    time : 5s/86s\n",
      "TRAIN    loss : 0.00627    acc : 1.00000\n",
      "epoch : 54/70    time : 5s/80s\n",
      "TRAIN    loss : 0.00835    acc : 0.99678\n",
      "epoch : 55/70    time : 5s/76s\n",
      "TRAIN    loss : 0.01671    acc : 0.99357\n",
      "epoch : 56/70    time : 5s/71s\n",
      "TRAIN    loss : 0.03840    acc : 0.98714\n",
      "epoch : 57/70    time : 5s/66s\n",
      "TRAIN    loss : 0.01028    acc : 1.00000\n",
      "epoch : 58/70    time : 5s/61s\n",
      "TRAIN    loss : 0.03283    acc : 0.99357\n",
      "epoch : 59/70    time : 5s/56s\n",
      "TRAIN    loss : 0.00581    acc : 1.00000\n",
      "epoch : 60/70    time : 5s/51s\n",
      "TRAIN    loss : 0.01358    acc : 0.99357\n",
      "epoch : 61/70    time : 5s/46s\n",
      "TRAIN    loss : 0.00326    acc : 1.00000\n",
      "epoch : 62/70    time : 5s/41s\n",
      "TRAIN    loss : 0.00912    acc : 0.99678\n",
      "epoch : 63/70    time : 5s/36s\n",
      "TRAIN    loss : 0.00396    acc : 1.00000\n",
      "epoch : 64/70    time : 5s/30s\n",
      "TRAIN    loss : 0.00639    acc : 1.00000\n",
      "epoch : 65/70    time : 5s/25s\n",
      "TRAIN    loss : 0.00609    acc : 1.00000\n",
      "epoch : 66/70    time : 5s/20s\n",
      "TRAIN    loss : 0.01184    acc : 0.99678\n",
      "epoch : 67/70    time : 5s/15s\n",
      "TRAIN    loss : 0.02240    acc : 0.99357\n",
      "epoch : 68/70    time : 5s/10s\n",
      "TRAIN    loss : 0.00406    acc : 1.00000\n",
      "epoch : 69/70    time : 5s/5s\n",
      "TRAIN    loss : 0.01827    acc : 0.99357\n",
      "epoch : 70/70    time : 5s/0s\n",
      "TRAIN    loss : 0.00560    acc : 1.00000\n"
     ]
    }
   ],
   "source": [
    "import gc\n",
    "\n",
    "batch_size = 34\n",
    "epochs = 70\n",
    "pred_ensemble = []\n",
    "\n",
    "# Train\n",
    "train_dataset = Custom_dataset(np.array(train_imgs), np.array(list(train_dict.keys())), mode='train')\n",
    "train_loader = DataLoader(train_dataset, shuffle=False, batch_size=batch_size)\n",
    "\n",
    "# # Val\n",
    "# val_dataset = Custom_dataset(np.array(val_imgs), np.array(val_labels), np.array([]), mode='test')\n",
    "# val_loader = DataLoader(val_dataset, shuffle=True, batch_size=batch_size)\n",
    "\n",
    "gc.collect()\n",
    "torch.cuda.empty_cache()\n",
    "best=0\n",
    "\n",
    "model = Network().to(device)\n",
    "\n",
    "# optimizer = torch.optim.AdamW(model.parameters(), lr=2e-4, weight_decay = 2e-2)\n",
    "optimizer = torch.optim.Adadelta(model.parameters())\n",
    "criterion = nn.CrossEntropyLoss()\n",
    "scaler = torch.cuda.amp.GradScaler()  \n",
    "\n",
    "# Data 저장\n",
    "save_loss = []\n",
    "save_acc = []\n",
    "\n",
    "best_f1 = 0\n",
    "early_stopping = 0\n",
    "for epoch in range(epochs):\n",
    "    start=time.time()\n",
    "    train_loss = 0\n",
    "    train_pred=[]\n",
    "    train_y=[]\n",
    "    model.train()\n",
    "    for batch in (train_loader):\n",
    "        optimizer.zero_grad()\n",
    "        x = torch.tensor(batch[0], dtype=torch.float32, device=device)\n",
    "        y = torch.tensor(batch[1], dtype=torch.long, device=device)\n",
    "        with torch.cuda.amp.autocast():\n",
    "            pred = model(x)\n",
    "        loss = criterion(pred, y)\n",
    "\n",
    "\n",
    "        scaler.scale(loss).backward()\n",
    "        scaler.step(optimizer)\n",
    "        scaler.update()\n",
    "\n",
    "        train_loss += loss.item()/len(train_loader)\n",
    "        train_pred += pred.argmax(1).detach().cpu().numpy().tolist()\n",
    "        train_y += y.detach().cpu().numpy().tolist()\n",
    "        \n",
    "    train_acc = score_function(train_y, train_pred)\n",
    "    state_dict= model.state_dict()\n",
    "    model.eval()\n",
    "    \n",
    "    save_loss.append(train_loss)\n",
    "    save_acc.append(train_acc)\n",
    "\n",
    "    TIME = time.time() - start\n",
    "    print(f'epoch : {epoch+1}/{epochs}    time : {TIME:.0f}s/{TIME*(epochs-epoch-1):.0f}s')\n",
    "    print(f'TRAIN    loss : {train_loss:.5f}    acc : {train_acc:.5f}')\n",
    "#     print(f'Val    loss : {val_loss:.5f}    f1 : {val_f1:.5f}')"
   ]
  },
  {
   "cell_type": "code",
   "execution_count": 17,
   "id": "ec86dc08",
   "metadata": {},
   "outputs": [
    {
     "name": "stdout",
     "output_type": "stream",
     "text": [
      "[5.78671875, 5.70625, 5.60625, 5.4613281250000005, 5.344921875000001, 5.1482421875, 4.8111328125, 4.494140625, 3.808251953125, 3.039599609375, 2.1296966552734373, 1.36968994140625, 0.8420745849609376, 0.5470939636230469, 0.370330810546875, 0.38782958984375, 0.2555809020996093, 0.18983764648437504, 0.24632110595703122, 0.12639713287353516, 0.14674758911132812, 0.11262931823730468, 0.09833574295043944, 0.09057273864746093, 0.08996720314025877, 0.0957857131958008, 0.09041290283203125, 0.07904529571533203, 0.06045846939086914, 0.08192589282989504, 0.06433944702148438, 0.0364778995513916, 0.07313232421874999, 0.060389518737792976, 0.026785659790039062, 0.03984794616699219, 0.020212543010711667, 0.08311119079589843, 0.03931097984313965, 0.032078123092651366, 0.029092407226562502, 0.027066445350646968, 0.05170383453369141, 0.04822121858596801, 0.03518122434616088, 0.02673435211181641, 0.02355003356933594, 0.034409713745117185, 0.02312984466552734, 0.01326698064804077, 0.007684707641601563, 0.007999444007873537, 0.00627455711364746, 0.008354187011718752, 0.016714948415756225, 0.038403105735778806, 0.010283184051513673, 0.032826220989227294, 0.005810940265655517, 0.013575929403305056, 0.0032591581344604496, 0.00911731719970703, 0.003964447975158691, 0.006385827064514161, 0.006091755628585816, 0.011838579177856443, 0.022399377822875977, 0.00405503511428833, 0.01826745867729187, 0.005597245693206787]\n",
      "[0.0, 0.01607717041800643, 0.022508038585209004, 0.03536977491961415, 0.05466237942122187, 0.05787781350482315, 0.05466237942122187, 0.19614147909967847, 0.21221864951768488, 0.34726688102893893, 0.4694533762057878, 0.6591639871382636, 0.8102893890675241, 0.8681672025723473, 0.8971061093247589, 0.9035369774919614, 0.9389067524115756, 0.9389067524115756, 0.9260450160771704, 0.9646302250803859, 0.9646302250803859, 0.9710610932475884, 0.9742765273311897, 0.9807073954983923, 0.9678456591639871, 0.9646302250803859, 0.9678456591639871, 0.9807073954983923, 0.9871382636655949, 0.9646302250803859, 0.977491961414791, 0.9967845659163987, 0.9807073954983923, 0.9871382636655949, 0.9967845659163987, 0.9903536977491961, 0.9935691318327974, 0.9710610932475884, 0.9935691318327974, 0.9871382636655949, 0.9903536977491961, 0.9935691318327974, 0.9903536977491961, 0.9871382636655949, 0.9903536977491961, 0.9935691318327974, 0.9935691318327974, 0.9839228295819936, 0.9903536977491961, 0.9967845659163987, 0.9967845659163987, 1.0, 1.0, 0.9967845659163987, 0.9935691318327974, 0.9871382636655949, 1.0, 0.9935691318327974, 1.0, 0.9935691318327974, 1.0, 0.9967845659163987, 1.0, 1.0, 1.0, 0.9967845659163987, 0.9935691318327974, 1.0, 0.9935691318327974, 1.0]\n"
     ]
    }
   ],
   "source": [
    "print(save_loss)\n",
    "print(save_acc)"
   ]
  },
  {
   "cell_type": "code",
   "execution_count": 23,
   "id": "3b573464",
   "metadata": {},
   "outputs": [],
   "source": [
    "x = range(70)\n",
    "norm_loss = [5.7894531250000005, 5.71015625, 5.6203125, 5.5093749999999995, 5.337890625, 5.2250000000000005, 5.033203125000001, 4.5277343750000005, 3.99658203125, 3.4169921875000004, 2.6811096191406247, 1.7805175781249998, 1.01136474609375, 0.73671875, 0.4466064453125, 0.395635986328125, 0.3535346984863281, 0.24943237304687502, 0.22591247558593747, 0.20437240600585938, 0.1760652542114258, 0.11902098655700684, 0.12204449176788329, 0.1137481689453125, 0.11482696533203124, 0.11692352294921875, 0.09194545745849608, 0.05409965515136719, 0.06304035186767579, 0.09681968688964843, 0.0918254852294922, 0.09844002723693848, 0.056616497039794926, 0.0678955078125, 0.054180145263671875, 0.059410667419433585, 0.020106470584869383, 0.03597445487976074, 0.07469942569732667, 0.05358932018280029, 0.044331359863281246, 0.048507952690124506, 0.03670549392700195, 0.028630089759826664, 0.024741637706756595, 0.046455764770507814, 0.021665501594543456, 0.016525840759277342, 0.03212469816207886, 0.01492409706115723, 0.015300118923187257, 0.015032410621643065, 0.02420120239257812, 0.017638933658599854, 0.01750802993774414, 0.013071739673614503, 0.023575496673583985, 0.025659590959548947, 0.025334787368774418, 0.010526883602142335, 0.010084152221679688, 0.006743001937866212, 0.016949415206909183, 0.03416758775711059, 0.016322803497314454, 0.014030802249908447, 0.011750674247741701, 0.009301376342773436, 0.007197332382202147, 0.00564085841178894]\n",
    "norm_acc = [0.003215434083601286, 0.012861736334405145, 0.01607717041800643, 0.04823151125401929, 0.05466237942122187, 0.08038585209003216, 0.17041800643086816, 0.13183279742765272, 0.1607717041800643, 0.3054662379421222, 0.40192926045016075, 0.5594855305466238, 0.752411575562701, 0.8263665594855305, 0.9035369774919614, 0.8938906752411575, 0.9196141479099679, 0.9356913183279743, 0.9517684887459807, 0.9356913183279743, 0.9453376205787781, 0.9646302250803859, 0.9710610932475884, 0.9742765273311897, 0.9646302250803859, 0.9678456591639871, 0.977491961414791, 0.9871382636655949, 0.9871382636655949, 0.9710610932475884, 0.9581993569131833, 0.9678456591639871, 0.9807073954983923, 0.977491961414791, 0.9807073954983923, 0.9871382636655949, 0.9967845659163987, 0.9871382636655949, 0.9742765273311897, 0.9807073954983923, 0.9871382636655949, 0.9903536977491961, 0.9871382636655949, 0.9903536977491961, 0.9935691318327974, 0.9903536977491961, 0.9935691318327974, 1.0, 0.9903536977491961, 0.9935691318327974, 0.9935691318327974, 0.9967845659163987, 0.9903536977491961, 0.9967845659163987, 0.9935691318327974, 0.9967845659163987, 0.9903536977491961, 0.9967845659163987, 0.9935691318327974, 1.0, 0.9967845659163987, 1.0, 0.9935691318327974, 0.9935691318327974, 0.9967845659163987, 0.9967845659163987, 0.9967845659163987, 0.9967845659163987, 1.0, 1.0]\n",
    "\n",
    "none_loss = [5.78671875, 5.70625, 5.60625, 5.4613281250000005, 5.344921875000001, 5.1482421875, 4.8111328125, 4.494140625, 3.808251953125, 3.039599609375, 2.1296966552734373, 1.36968994140625, 0.8420745849609376, 0.5470939636230469, 0.370330810546875, 0.38782958984375, 0.2555809020996093, 0.18983764648437504, 0.24632110595703122, 0.12639713287353516, 0.14674758911132812, 0.11262931823730468, 0.09833574295043944, 0.09057273864746093, 0.08996720314025877, 0.0957857131958008, 0.09041290283203125, 0.07904529571533203, 0.06045846939086914, 0.08192589282989504, 0.06433944702148438, 0.0364778995513916, 0.07313232421874999, 0.060389518737792976, 0.026785659790039062, 0.03984794616699219, 0.020212543010711667, 0.08311119079589843, 0.03931097984313965, 0.032078123092651366, 0.029092407226562502, 0.027066445350646968, 0.05170383453369141, 0.04822121858596801, 0.03518122434616088, 0.02673435211181641, 0.02355003356933594, 0.034409713745117185, 0.02312984466552734, 0.01326698064804077, 0.007684707641601563, 0.007999444007873537, 0.00627455711364746, 0.008354187011718752, 0.016714948415756225, 0.038403105735778806, 0.010283184051513673, 0.032826220989227294, 0.005810940265655517, 0.013575929403305056, 0.0032591581344604496, 0.00911731719970703, 0.003964447975158691, 0.006385827064514161, 0.006091755628585816, 0.011838579177856443, 0.022399377822875977, 0.00405503511428833, 0.01826745867729187, 0.005597245693206787]\n",
    "none_acc = [0.0, 0.01607717041800643, 0.022508038585209004, 0.03536977491961415, 0.05466237942122187, 0.05787781350482315, 0.05466237942122187, 0.19614147909967847, 0.21221864951768488, 0.34726688102893893, 0.4694533762057878, 0.6591639871382636, 0.8102893890675241, 0.8681672025723473, 0.8971061093247589, 0.9035369774919614, 0.9389067524115756, 0.9389067524115756, 0.9260450160771704, 0.9646302250803859, 0.9646302250803859, 0.9710610932475884, 0.9742765273311897, 0.9807073954983923, 0.9678456591639871, 0.9646302250803859, 0.9678456591639871, 0.9807073954983923, 0.9871382636655949, 0.9646302250803859, 0.977491961414791, 0.9967845659163987, 0.9807073954983923, 0.9871382636655949, 0.9967845659163987, 0.9903536977491961, 0.9935691318327974, 0.9710610932475884, 0.9935691318327974, 0.9871382636655949, 0.9903536977491961, 0.9935691318327974, 0.9903536977491961, 0.9871382636655949, 0.9903536977491961, 0.9935691318327974, 0.9935691318327974, 0.9839228295819936, 0.9903536977491961, 0.9967845659163987, 0.9967845659163987, 1.0, 1.0, 0.9967845659163987, 0.9935691318327974, 0.9871382636655949, 1.0, 0.9935691318327974, 1.0, 0.9935691318327974, 1.0, 0.9967845659163987, 1.0, 1.0, 1.0, 0.9967845659163987, 0.9935691318327974, 1.0, 0.9935691318327974, 1.0]"
   ]
  },
  {
   "cell_type": "code",
   "execution_count": 25,
   "id": "83ca5813",
   "metadata": {},
   "outputs": [
    {
     "data": {
      "image/png": "[encoded data removed]",
      "text/plain": [
       "<Figure size 720x936 with 2 Axes>"
      ]
     },
     "metadata": {
      "needs_background": "light"
     },
     "output_type": "display_data"
    }
   ],
   "source": [
    "import matplotlib.pyplot as plt\n",
    "\n",
    "plt.rc('font', size=20)        # 기본 폰트 크기\n",
    "plt.rc('axes', labelsize=20)   # x,y축 label 폰트 크기\n",
    "plt.rc('xtick', labelsize=20)  # x축 눈금 폰트 크기 \n",
    "plt.rc('ytick', labelsize=20)  # y축 눈금 폰트 크기\n",
    "plt.rc('legend', fontsize=20)  # 범례 폰트 크기\n",
    "plt.rc('figure', titlesize=50) # figure title 폰트 크기\n",
    "\n",
    "plt.figure(figsize=(10,13))\n",
    "\n",
    "plt.subplot(2,1,1)\n",
    "plt.plot(x, norm_loss, color='g', label='norm')\n",
    "plt.plot(x, none_loss, color='y', label='None')\n",
    "plt.title('Loss')\n",
    "plt.legend()\n",
    "\n",
    "plt.subplot(2,1,2)\n",
    "plt.plot(x, norm_acc, color='g', label='Norm')\n",
    "plt.plot(x, none_acc, color='y', label='None')\n",
    "plt.title('acc score')\n",
    "plt.legend()\n",
    "\n",
    "plt.savefig('./myfigure.png', transparent = True)"
   ]
  },
  {
   "cell_type": "markdown",
   "id": "e0d21db8",
   "metadata": {},
   "source": [
    "## Save"
   ]
  },
  {
   "cell_type": "code",
   "execution_count": 11,
   "id": "f6e79335",
   "metadata": {},
   "outputs": [],
   "source": [
    "torch.save({'epoch':epoch,\n",
    "            'state_dict':state_dict,\n",
    "            'optimizer': optimizer.state_dict(),\n",
    "            'scaler': scaler.state_dict(),\n",
    "     }, '/home/lab17/jupyter_home/Model/snacks_311_3.pth')\n"
   ]
  },
  {
   "cell_type": "markdown",
   "id": "626037b3",
   "metadata": {},
   "source": [
    "## Predict"
   ]
  },
  {
   "cell_type": "code",
   "execution_count": 12,
   "id": "d335ecef",
   "metadata": {},
   "outputs": [],
   "source": [
    "pred_ensemble = []\n",
    "batch_size = 34\n",
    "# Test\n",
    "test_dataset = Custom_dataset(np.array(test_imgs), np.array([\"tmp\"]*len(test_imgs)), mode='test')\n",
    "test_loader = DataLoader(test_dataset, shuffle=False, batch_size=batch_size)\n",
    "\n",
    "model_test = Network(mode = 'test').to(device)\n",
    "model_test.load_state_dict(torch.load('/home/lab17/jupyter_home/Model/snacks_311_3.pth')['state_dict'])\n",
    "model_test.eval()\n",
    "f_pred = []\n",
    "pred_prob = []\n",
    "\n",
    "with torch.no_grad():\n",
    "    for batch in (test_loader):\n",
    "        x = torch.tensor(batch[0], dtype = torch.float32, device = device)\n",
    "        with torch.cuda.amp.autocast():\n",
    "            pred = model_test(x)\n",
    "            pred_prob.extend(pred.detach().cpu().numpy())\n",
    "        f_pred.extend(pred.argmax(1).detach().cpu().numpy().tolist())"
   ]
  },
  {
   "cell_type": "code",
   "execution_count": 13,
   "id": "30909897",
   "metadata": {},
   "outputs": [],
   "source": [
    "# label_decoder = {val:key for key, val in label_unique.items()}\n",
    "\n",
    "f_result = [train_dict[result] for result in f_pred]"
   ]
  },
  {
   "cell_type": "code",
   "execution_count": 14,
   "id": "815a8fbb",
   "metadata": {},
   "outputs": [
    {
     "data": {
      "text/plain": [
       "['유기농 쌀떡뻥 25g',\n",
       " '노브랜드 자색고구마칩 110g',\n",
       " '오리온 오징어땅콩 3번들 294g',\n",
       " '유기농 쌀떡뻥 25g',\n",
       " '코코몽 유기농 달고나 25g',\n",
       " '(G) 노브랜드쿠키앤크림샌드720g',\n",
       " '(G) 노브랜드쿠키앤크림샌드720g']"
      ]
     },
     "execution_count": 14,
     "metadata": {},
     "output_type": "execute_result"
    }
   ],
   "source": [
    "f_result"
   ]
  },
  {
   "cell_type": "markdown",
   "id": "d16b3822",
   "metadata": {},
   "source": [
    "##### 정답\n",
    "- 감자깡\n",
    "- 알새우칩\n",
    "- 포스틱\n",
    "- 사또밥\n",
    "- 고래밥\n",
    "- 빠삭칩\n",
    "- 칸츄리콘\n",
    "\n",
    "##### 1번째 : snacks_311\n",
    "\n",
    "- '[농심] 새우깡90g'\n",
    "- '[농심] 알새우칩 68g',\n",
    "- '[농심] 포스틱 84g',\n",
    "- '오리온 치즈뿌린 치킨팝 81g',\n",
    "- '맘스케어 유기농까까 오리지날 43g',\n",
    "- '노브랜드 달콤한꿀깨맛꽈배기 200 g',\n",
    "- '노브랜드 땅콩카라멜콘 230 g'\n",
    "\n",
    "##### 2번째 : snacks_311_2 (실패)\n",
    "\n",
    "- ['단백질 오란다 100g',\n",
    "- '유기농 쌀떡뻥 25g',\n",
    "- '(G) 노브랜드쿠키앤크림샌드720g',\n",
    "- '(G) 노브랜드쿠키앤크림샌드720g',\n",
    "- '(G) 노브랜드쿠키앤크림샌드720g',\n",
    "- '(G) 노브랜드쿠키앤크림샌드720g',\n",
    "- '(G) 노브랜드쿠키앤크림샌드720g']\n",
    "\n",
    "##### 3번째 : snacks_311_3\n",
    "\n",
    "- ['유기농 쌀떡뻥 25g',\n",
    "- '노브랜드 자색고구마칩 110g',\n",
    "- '오리온 오징어땅콩 3번들 294g',\n",
    "- '유기농 쌀떡뻥 25g',\n",
    "- '코코몽 유기농 달고나 25g',\n",
    "- '(G) 노브랜드쿠키앤크림샌드720g',\n",
    "- '(G) 노브랜드쿠키앤크림샌드720g']"
   ]
  },
  {
   "cell_type": "code",
   "execution_count": null,
   "id": "e29110f3",
   "metadata": {},
   "outputs": [],
   "source": []
  }
 ],
 "metadata": {
  "kernelspec": {
   "display_name": "Python [conda env:pytorch_17] *",
   "language": "python",
   "name": "conda-env-pytorch_17-py"
  },
  "language_info": {
   "codemirror_mode": {
    "name": "ipython",
    "version": 3
   },
   "file_extension": ".py",
   "mimetype": "text/x-python",
   "name": "python",
   "nbconvert_exporter": "python",
   "pygments_lexer": "ipython3",
   "version": "3.8.13"
  }
 },
 "nbformat": 4,
 "nbformat_minor": 5
}
