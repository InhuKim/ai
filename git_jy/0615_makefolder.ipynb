{
 "cells": [
  {
   "cell_type": "code",
   "execution_count": 7,
   "id": "5b68ecee",
   "metadata": {
    "scrolled": true
   },
   "outputs": [],
   "source": [
    "import os\n",
    "import shutil\n",
    "\n",
    "# path = '/home/lab17/jupyter_home/Data/product_image/Training/dessert'\n",
    "# path = '/home/lab17/jupyter_home/Data/product_image/Validation/dessert'\n",
    "path = 'C:/Users/Lenovo/Downloads/상품 이미지/Training/[원천]의약외품'\n",
    "dir_list = os.listdir(path)"
   ]
  },
  {
   "cell_type": "code",
   "execution_count": 34,
   "id": "35ecf49d",
   "metadata": {},
   "outputs": [],
   "source": [
    "# 디저트\n",
    "d_list = [25222,25228,35211,35584,35585,45030,45657,45658,45659,45660,45661,55034,55701,55702]"
   ]
  },
  {
   "cell_type": "code",
   "execution_count": 8,
   "id": "4ab5e337",
   "metadata": {},
   "outputs": [],
   "source": [
    "# 의약외품\n",
    "d_list = [10096, 10097, 10106, 10213, 10214, 10215, 10266, 10320, 10321, 15258, 15458, 15664, 15804, 15896, 20196, 20260, 30081, 30163, 30164, 30181, 30289, 40182, 40191, 40303, 45707, 50139, 55734, 66380, 70162, 70163, 70180, 70181, 70182, 80140, 80146, 80147, 80249, 80250, 90174, 90176, 90245]"
   ]
  },
  {
   "cell_type": "code",
   "execution_count": 9,
   "id": "f88d8b6e",
   "metadata": {},
   "outputs": [
    {
     "name": "stdout",
     "output_type": "stream",
     "text": [
      "[10096, 10097, 10106, 10213, 10214, 10215, 10266, 10320, 10321, 15258, 15458, 15664, 15804, 15896, 20196, 20260, 30081, 30163, 30164, 30181, 30289, 40182, 40191, 40303, 45707, 50139, 55734, 66380, 70162, 70163, 70180, 70181, 70182, 80140, 80146, 80147, 80249, 80250, 90174, 90176, 90245]\n"
     ]
    }
   ],
   "source": [
    "print(d_list)"
   ]
  },
  {
   "cell_type": "code",
   "execution_count": 10,
   "id": "7bae09ae",
   "metadata": {},
   "outputs": [
    {
     "name": "stdout",
     "output_type": "stream",
     "text": [
      "10096\n",
      "10097\n",
      "10106\n",
      "10213\n",
      "10214\n",
      "10215\n",
      "10266\n",
      "10320\n",
      "10321\n",
      "15258\n",
      "15458\n",
      "15664\n",
      "15804\n",
      "15896\n",
      "20196\n",
      "20260\n",
      "30081\n",
      "30163\n",
      "30164\n",
      "30181\n",
      "30289\n",
      "40182\n",
      "40191\n",
      "40303\n",
      "45707\n",
      "50139\n",
      "55734\n",
      "66380\n",
      "70162\n",
      "70163\n",
      "70180\n",
      "70181\n",
      "70182\n",
      "80140\n",
      "80146\n",
      "80147\n",
      "80249\n",
      "80250\n",
      "90174\n",
      "90176\n",
      "90245\n"
     ]
    },
    {
     "ename": "ValueError",
     "evalue": "invalid literal for int() with base 10: 'A1002'",
     "output_type": "error",
     "traceback": [
      "\u001b[1;31m---------------------------------------------------------------------------\u001b[0m",
      "\u001b[1;31mValueError\u001b[0m                                Traceback (most recent call last)",
      "Input \u001b[1;32mIn [10]\u001b[0m, in \u001b[0;36m<cell line: 1>\u001b[1;34m()\u001b[0m\n\u001b[0;32m      1\u001b[0m \u001b[38;5;28;01mfor\u001b[39;00m d \u001b[38;5;129;01min\u001b[39;00m dir_list:\n\u001b[1;32m----> 2\u001b[0m     \u001b[38;5;28;01mif\u001b[39;00m \u001b[38;5;28;43mint\u001b[39;49m\u001b[43m(\u001b[49m\u001b[43md\u001b[49m\u001b[43m[\u001b[49m\u001b[43m:\u001b[49m\u001b[38;5;241;43m5\u001b[39;49m\u001b[43m]\u001b[49m\u001b[43m)\u001b[49m \u001b[38;5;129;01min\u001b[39;00m d_list:\n\u001b[0;32m      3\u001b[0m         \u001b[38;5;28mprint\u001b[39m(d[:\u001b[38;5;241m5\u001b[39m])\n\u001b[0;32m      4\u001b[0m     \u001b[38;5;28;01melse\u001b[39;00m: \n\u001b[0;32m      5\u001b[0m \u001b[38;5;66;03m#         print('shutil')\u001b[39;00m\n",
      "\u001b[1;31mValueError\u001b[0m: invalid literal for int() with base 10: 'A1002'"
     ]
    }
   ],
   "source": [
    "for d in dir_list:\n",
    "    if int(d[:5]) in d_list:\n",
    "        print(d[:5])\n",
    "    else: \n",
    "#         print('shutil')\n",
    "        shutil.rmtree(os.path.join(path,d))"
   ]
  },
  {
   "cell_type": "code",
   "execution_count": 11,
   "id": "d81845c6",
   "metadata": {},
   "outputs": [
    {
     "data": {
      "text/plain": [
       "['10096_동아제약)가그린제로100ML',\n",
       " '10097_동아제약)가그린후레쉬라임100ML',\n",
       " '10106_동아제약)가그린오리지널380ML',\n",
       " '10213_클링스스케일링케어스트롱민트치약100G',\n",
       " '10214_클링스스케일링케어쿨링민트치약100G',\n",
       " '10215_2080퓨어솔트치약핑크민트향160G',\n",
       " '10266_유한해피홈멸균밴드표준형',\n",
       " '10320_동아제약)가그린어린이용사과',\n",
       " '10321_동국제약)마데카솔',\n",
       " '15258_원포임신테스트기3개입',\n",
       " '15458_광동위생천박스10병',\n",
       " '15664_고려은단쏠라C구미복숭아맛50G',\n",
       " '15804_동국제약덴트릭스150G',\n",
       " '15896_광동제약비타500치어팩250ML',\n",
       " '20196_메디안치석케어93_120G',\n",
       " '20260_바른생각익스트림에어핏',\n",
       " '30081_아모레퍼시픽)메디안치석오리지널치약120G',\n",
       " '30163_페리오토탈7스트롱어드밴스치약140G',\n",
       " '30164_부광약품시린메드에프치약',\n",
       " '30181_매직팬티컴포트',\n",
       " '30289_동아제약)가그린어린이용딸기',\n",
       " '40182_페리오캐비티케어알파치약160G',\n",
       " '40191_애경2080진지발리스120G',\n",
       " '40303_애경)2080진지발리스K허벌민트',\n",
       " '45707_유한양행)안티푸라민연고',\n",
       " '50139_덴탈크리닉2080시그니처토탈그린',\n",
       " '55734_현대약품)미에로화이바',\n",
       " '66380_광동제약위생천75ML',\n",
       " '70162_부광안티프라그치약',\n",
       " '70163_클라이덴치석케어120G',\n",
       " '70180_엘라스틴피토케라틴모이스쳐컨디셔너680ML',\n",
       " '70181_유한)좋은느낌중형18울트라슬림',\n",
       " '70182_좋은느낌소형18울트라슬림',\n",
       " '80140_동아제약)가그린오리지널250ml',\n",
       " '80146_페리오브레쓰케어알파치약160G',\n",
       " '80147_페리오토탈7오리지널어드밴스치약140G',\n",
       " '80249_리스테린내추럴시트러스750ML',\n",
       " '80250_동아제약)가그린어린이용풍선껌',\n",
       " '90174_2080퓨어솔트치약크리스탈민트향160G',\n",
       " '90176_유한)좋은느낌대형14맥시슬림',\n",
       " '90245_바슈롬)리뉴후레쉬',\n",
       " 'A10021_코튼)오드리선',\n",
       " 'A30001_(주)이마트24유기농순면커버날개형중형',\n",
       " 'A30002_(주)수진텍굿뉴스얼리체크',\n",
       " 'A30003_(주)나투젠_올_바른생활',\n",
       " 'A30009_(주)에프에이해피홈알콜스왑',\n",
       " 'A30010_(주)에프에이해피홈압박용밴드',\n",
       " 'A30017_쏘피바디피트순간흡수중형',\n",
       " 'A30025_(주)보람씨앤에치오드리선그린웨이리미티드오버나이트',\n",
       " 'A40023_(주)보람씨앤에치오드리선울트라슬림리대형',\n",
       " 'A40040_펫퍼스펫퍼스배변유도제(애완용)']"
      ]
     },
     "execution_count": 11,
     "metadata": {},
     "output_type": "execute_result"
    }
   ],
   "source": [
    "os.listdir(path)"
   ]
  },
  {
   "cell_type": "markdown",
   "id": "2714dec5",
   "metadata": {},
   "source": [
    "## -- 필요할때 --"
   ]
  },
  {
   "cell_type": "code",
   "execution_count": 32,
   "id": "30a1bc46",
   "metadata": {},
   "outputs": [
    {
     "data": {
      "text/plain": [
       "['Validation', 'Training']"
      ]
     },
     "execution_count": 32,
     "metadata": {},
     "output_type": "execute_result"
    }
   ],
   "source": [
    "# 폴더확인\n",
    "os.listdir('/home/lab17/jupyter_home/Data/product_image/')"
   ]
  },
  {
   "cell_type": "code",
   "execution_count": null,
   "id": "efb9e98e",
   "metadata": {},
   "outputs": [],
   "source": [
    "# 폴더삭제\n",
    "shutil.rmtree('/home/lab17/jupyter_home/Data')"
   ]
  },
  {
   "cell_type": "code",
   "execution_count": null,
   "id": "1c4125f5",
   "metadata": {},
   "outputs": [],
   "source": []
  }
 ],
 "metadata": {
  "kernelspec": {
   "display_name": "Python [conda env:machine_TF2] *",
   "language": "python",
   "name": "conda-env-machine_TF2-py"
  },
  "language_info": {
   "codemirror_mode": {
    "name": "ipython",
    "version": 3
   },
   "file_extension": ".py",
   "mimetype": "text/x-python",
   "name": "python",
   "nbconvert_exporter": "python",
   "pygments_lexer": "ipython3",
   "version": "3.8.13"
  }
 },
 "nbformat": 4,
 "nbformat_minor": 5
}
