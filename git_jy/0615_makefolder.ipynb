{
 "cells": [
  {
   "cell_type": "code",
   "execution_count": null,
   "id": "ec4be556",
   "metadata": {
    "scrolled": true
   },
   "outputs": [],
   "source": [
    "import os\n",
    "import shutil\n",
    "\n",
    "path = '/home/lab17/jupyter_home/Data/product_image/Training/dessert'\n",
    "dir_list = os.listdir(path)"
   ]
  },
  {
   "cell_type": "code",
   "execution_count": null,
   "id": "e3363354",
   "metadata": {},
   "outputs": [],
   "source": [
    "d_list = [25222,25228,35211,35584,35585,45030,45657,45658,45659,45660,45661,55034,55701,55702]"
   ]
  },
  {
   "cell_type": "code",
   "execution_count": null,
   "id": "7f71f050",
   "metadata": {},
   "outputs": [],
   "source": [
    "for d in dir_list:\n",
    "    if int(d[:5]) in d_list:\n",
    "        print(d[:5])\n",
    "    else: \n",
    "#         print('shutil')\n",
    "        shutil.rmtree(os.path.join(path,d))"
   ]
  },
  {
   "cell_type": "code",
   "execution_count": 31,
   "id": "21cc8033",
   "metadata": {},
   "outputs": [
    {
     "data": {
      "text/plain": [
       "['55701_쁘띠첼요거젤리밀감',\n",
       " '45661_씨제이)쁘티첼(요거젤리블루베리)',\n",
       " '35211_매일유업)데르뜨130G',\n",
       " '45659_씨제이)쁘티첼(요거젤리딸기)',\n",
       " '25222_대만)망고케익184g',\n",
       " '35584_매일데르뜨파인애플90G',\n",
       " '55034_돌트로피칼666G',\n",
       " '45660_씨제이)쁘티첼(요거젤리화이트코코)',\n",
       " '35585_매일데르뜨감귤90G',\n",
       " '45658_씨제이)쁘티첼(요거젤리밀감)',\n",
       " '55702_쁘띠첼요거젤리복숭아',\n",
       " '45030_돌황도666G',\n",
       " '45657_씨제이)쁘티첼(요거젤리복숭아)',\n",
       " '25228_대만)파인애플케익184G']"
      ]
     },
     "execution_count": 31,
     "metadata": {},
     "output_type": "execute_result"
    }
   ],
   "source": [
    "os.listdir(path)"
   ]
  },
  {
   "cell_type": "markdown",
   "id": "7ee968bd",
   "metadata": {},
   "source": [
    "## -- 필요할때 --"
   ]
  },
  {
   "cell_type": "code",
   "execution_count": null,
   "id": "24ef2c17",
   "metadata": {},
   "outputs": [],
   "source": [
    "# 폴더확인\n",
    "os.listdir('/home/lab17/jupyter_home/Data/product_image/Training/dessert')"
   ]
  },
  {
   "cell_type": "code",
   "execution_count": null,
   "id": "a173dda8",
   "metadata": {},
   "outputs": [],
   "source": [
    "# 폴더삭제\n",
    "shutil.rmtree('/home/lab17/jupyter_home/Data')"
   ]
  },
  {
   "cell_type": "code",
   "execution_count": null,
   "id": "5ddbbda6",
   "metadata": {},
   "outputs": [],
   "source": []
  }
 ],
 "metadata": {
  "kernelspec": {
   "display_name": "Python [conda env:pytorch_17] *",
   "language": "python",
   "name": "conda-env-pytorch_17-py"
  },
  "language_info": {
   "codemirror_mode": {
    "name": "ipython",
    "version": 3
   },
   "file_extension": ".py",
   "mimetype": "text/x-python",
   "name": "python",
   "nbconvert_exporter": "python",
   "pygments_lexer": "ipython3",
   "version": "3.8.13"
  }
 },
 "nbformat": 4,
 "nbformat_minor": 5
}
