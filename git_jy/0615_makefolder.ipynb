{
 "cells": [
  {
   "cell_type": "code",
   "execution_count": 33,
   "id": "5b68ecee",
   "metadata": {
    "scrolled": true
   },
   "outputs": [],
   "source": [
    "import os\n",
    "import shutil\n",
    "\n",
    "# path = '/home/lab17/jupyter_home/Data/product_image/Training/dessert'\n",
    "path = '/home/lab17/jupyter_home/Data/product_image/Validation/dessert'\n",
    "dir_list = os.listdir(path)"
   ]
  },
  {
   "cell_type": "code",
   "execution_count": 34,
   "id": "35ecf49d",
   "metadata": {},
   "outputs": [],
   "source": [
    "d_list = [25222,25228,35211,35584,35585,45030,45657,45658,45659,45660,45661,55034,55701,55702]"
   ]
  },
  {
   "cell_type": "code",
   "execution_count": 35,
   "id": "7bae09ae",
   "metadata": {},
   "outputs": [
    {
     "name": "stdout",
     "output_type": "stream",
     "text": [
      "55701\n",
      "45661\n",
      "35211\n",
      "45659\n",
      "25222\n",
      "35584\n",
      "55034\n",
      "45660\n",
      "35585\n",
      "45658\n",
      "55702\n",
      "45030\n",
      "45657\n",
      "25228\n"
     ]
    }
   ],
   "source": [
    "for d in dir_list:\n",
    "    if int(d[:5]) in d_list:\n",
    "        print(d[:5])\n",
    "    else: \n",
    "#         print('shutil')\n",
    "        shutil.rmtree(os.path.join(path,d))"
   ]
  },
  {
   "cell_type": "code",
   "execution_count": 36,
   "id": "d81845c6",
   "metadata": {},
   "outputs": [
    {
     "data": {
      "text/plain": [
       "['55701_쁘띠첼요거젤리밀감',\n",
       " '45661_씨제이)쁘티첼(요거젤리블루베리)',\n",
       " '35211_매일유업)데르뜨130G',\n",
       " '45659_씨제이)쁘티첼(요거젤리딸기)',\n",
       " '25222_대만)망고케익184g',\n",
       " '35584_매일데르뜨파인애플90G',\n",
       " '55034_돌트로피칼666G',\n",
       " '45660_씨제이)쁘티첼(요거젤리화이트코코)',\n",
       " '35585_매일데르뜨감귤90G',\n",
       " '45658_씨제이)쁘티첼(요거젤리밀감)',\n",
       " '55702_쁘띠첼요거젤리복숭아',\n",
       " '45030_돌황도666G',\n",
       " '45657_씨제이)쁘티첼(요거젤리복숭아)',\n",
       " '25228_대만)파인애플케익184G']"
      ]
     },
     "execution_count": 36,
     "metadata": {},
     "output_type": "execute_result"
    }
   ],
   "source": [
    "os.listdir(path)"
   ]
  },
  {
   "cell_type": "markdown",
   "id": "2714dec5",
   "metadata": {},
   "source": [
    "## -- 필요할때 --"
   ]
  },
  {
   "cell_type": "code",
   "execution_count": 32,
   "id": "30a1bc46",
   "metadata": {},
   "outputs": [
    {
     "data": {
      "text/plain": [
       "['Validation', 'Training']"
      ]
     },
     "execution_count": 32,
     "metadata": {},
     "output_type": "execute_result"
    }
   ],
   "source": [
    "# 폴더확인\n",
    "os.listdir('/home/lab17/jupyter_home/Data/product_image/')"
   ]
  },
  {
   "cell_type": "code",
   "execution_count": null,
   "id": "efb9e98e",
   "metadata": {},
   "outputs": [],
   "source": [
    "# 폴더삭제\n",
    "shutil.rmtree('/home/lab17/jupyter_home/Data')"
   ]
  },
  {
   "cell_type": "code",
   "execution_count": null,
   "id": "1c4125f5",
   "metadata": {},
   "outputs": [],
   "source": []
  }
 ],
 "metadata": {
  "kernelspec": {
   "display_name": "Python [conda env:pytorch_17] *",
   "language": "python",
   "name": "conda-env-pytorch_17-py"
  },
  "language_info": {
   "codemirror_mode": {
    "name": "ipython",
    "version": 3
   },
   "file_extension": ".py",
   "mimetype": "text/x-python",
   "name": "python",
   "nbconvert_exporter": "python",
   "pygments_lexer": "ipython3",
   "version": "3.8.13"
  }
 },
 "nbformat": 4,
 "nbformat_minor": 5
}
